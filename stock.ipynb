{
 "cells": [
  {
   "cell_type": "code",
   "execution_count": 4,
   "metadata": {},
   "outputs": [],
   "source": [
    "import polars as pl\n",
    "import pandas as pd\n"
   ]
  },
  {
   "cell_type": "code",
   "execution_count": 81,
   "metadata": {},
   "outputs": [],
   "source": [
    "import os\n",
    "def get_market_capital(code):\n",
    "    file_name = f\"out/{code}.csv\"\n",
    "    df = pd.read_csv(file_name, index_col=0, parse_dates=True)\n",
    "    # sort by date desc\n",
    "    df = df.sort_index(ascending=False)\n",
    "    df.rename(columns={\"market_capital\": code}, inplace=True)\n",
    "    market_capital = df[code]\n",
    "    # market_capital.rename(columns={'market_capital':code}, inplace=True)\n",
    "    return market_capital\n",
    "\n",
    "def get_increase_rate(code, interval=10):\n",
    "    market_capital = get_market_capital(code)\n",
    "    # get the diff interval value\n",
    "    increase_value = market_capital.diff(-(interval - 1))\n",
    "    # get the shift interval value\n",
    "    shift_value = market_capital.shift(-(interval - 1))\n",
    "    # calculate the increase rate\n",
    "    increase_rate = increase_value / shift_value\n",
    "    return increase_rate\n",
    "\n",
    "def get_all_code():\n",
    "    file_names = os.listdir(\"out\")\n",
    "    codes = [file_name.split(\".\")[0] for file_name in file_names]\n",
    "    return codes\n",
    "\n",
    "def get_all_increase_rate(interval=10):\n",
    "    codes = get_all_code()\n",
    "    increase_rates = {}\n",
    "    for code in codes:\n",
    "        increase_rate = get_increase_rate(code, interval)\n",
    "        increase_rates[code] = increase_rate\n",
    "    return increase_rates\n",
    "    "
   ]
  },
  {
   "cell_type": "code",
   "execution_count": 161,
   "metadata": {},
   "outputs": [],
   "source": [
    "def calculate_increase_rate_rankdf(df_rate):\n",
    "    serial_list = [df_rate[c] for c in df_rate]\n",
    "    ranks_df = pd.concat(serial_list, axis=1)\n",
    "    ranks_df.sort_index(ascending=False, inplace=True)\n",
    "    r_t = ranks_df.T\n",
    "    # get columns name by time str\n",
    "    columns = [str(c)[:10] for c in r_t.columns]\n",
    "    ranks = []\n",
    "    for col in columns:\n",
    "        ranks.append(r_t[col].rank(ascending=True, method='first', pct=True))\n",
    "\n",
    "    new_rank = pd.concat(ranks, axis=1)\n",
    "    trank = new_rank.T\n",
    "    \n",
    "    return trank\n",
    "    "
   ]
  },
  {
   "cell_type": "code",
   "execution_count": 169,
   "metadata": {},
   "outputs": [],
   "source": [
    "def get_all_market_capital():\n",
    "    codes = get_all_code()\n",
    "    market_capitals = []\n",
    "    for code in codes:\n",
    "        market_capital = get_market_capital(code)\n",
    "        market_capitals.append(market_capital)\n",
    "    \n",
    "    market_capitals_df = pd.concat(market_capitals, axis=1)\n",
    "    market_capitals_df.sort_index(ascending=False, inplace=True)\n",
    "    return market_capitals_df"
   ]
  },
  {
   "cell_type": "code",
   "execution_count": 170,
   "metadata": {},
   "outputs": [],
   "source": [
    "all_markets = get_all_market_capital()"
   ]
  },
  {
   "cell_type": "code",
   "execution_count": null,
   "metadata": {},
   "outputs": [],
   "source": []
  },
  {
   "cell_type": "code",
   "execution_count": 171,
   "metadata": {},
   "outputs": [
    {
     "data": {
      "text/html": [
       "<div>\n",
       "<style scoped>\n",
       "    .dataframe tbody tr th:only-of-type {\n",
       "        vertical-align: middle;\n",
       "    }\n",
       "\n",
       "    .dataframe tbody tr th {\n",
       "        vertical-align: top;\n",
       "    }\n",
       "\n",
       "    .dataframe thead th {\n",
       "        text-align: right;\n",
       "    }\n",
       "</style>\n",
       "<table border=\"1\" class=\"dataframe\">\n",
       "  <thead>\n",
       "    <tr style=\"text-align: right;\">\n",
       "      <th></th>\n",
       "      <th>SH603105</th>\n",
       "      <th>SZ002435</th>\n",
       "      <th>SZ002353</th>\n",
       "      <th>SZ000544</th>\n",
       "      <th>SH603663</th>\n",
       "      <th>SZ000550</th>\n",
       "      <th>SZ001896</th>\n",
       "      <th>SH603677</th>\n",
       "      <th>SZ002347</th>\n",
       "      <th>SH600418</th>\n",
       "      <th>...</th>\n",
       "      <th>SZ002410</th>\n",
       "      <th>SH600429</th>\n",
       "      <th>SH603108</th>\n",
       "      <th>SZ002438</th>\n",
       "      <th>SH600367</th>\n",
       "      <th>SZ003040</th>\n",
       "      <th>SZ300297</th>\n",
       "      <th>SH600373</th>\n",
       "      <th>SZ300283</th>\n",
       "      <th>SH600415</th>\n",
       "    </tr>\n",
       "    <tr>\n",
       "      <th>timestamp</th>\n",
       "      <th></th>\n",
       "      <th></th>\n",
       "      <th></th>\n",
       "      <th></th>\n",
       "      <th></th>\n",
       "      <th></th>\n",
       "      <th></th>\n",
       "      <th></th>\n",
       "      <th></th>\n",
       "      <th></th>\n",
       "      <th></th>\n",
       "      <th></th>\n",
       "      <th></th>\n",
       "      <th></th>\n",
       "      <th></th>\n",
       "      <th></th>\n",
       "      <th></th>\n",
       "      <th></th>\n",
       "      <th></th>\n",
       "      <th></th>\n",
       "      <th></th>\n",
       "    </tr>\n",
       "  </thead>\n",
       "  <tbody>\n",
       "    <tr>\n",
       "      <th>2022-12-02</th>\n",
       "      <td>6.645000e+09</td>\n",
       "      <td>6.229354e+09</td>\n",
       "      <td>3.215390e+10</td>\n",
       "      <td>6.676589e+09</td>\n",
       "      <td>4.189463e+09</td>\n",
       "      <td>1.271514e+10</td>\n",
       "      <td>8.605407e+09</td>\n",
       "      <td>2.276895e+09</td>\n",
       "      <td>2.594170e+09</td>\n",
       "      <td>3.088190e+10</td>\n",
       "      <td>...</td>\n",
       "      <td>6.550949e+10</td>\n",
       "      <td>8.511971e+09</td>\n",
       "      <td>6.496674e+09</td>\n",
       "      <td>6.120902e+09</td>\n",
       "      <td>5.049534e+09</td>\n",
       "      <td>8.992151e+09</td>\n",
       "      <td>2.349803e+09</td>\n",
       "      <td>1.310347e+10</td>\n",
       "      <td>2.360288e+09</td>\n",
       "      <td>2.463247e+10</td>\n",
       "    </tr>\n",
       "    <tr>\n",
       "      <th>2022-12-01</th>\n",
       "      <td>6.570000e+09</td>\n",
       "      <td>6.105756e+09</td>\n",
       "      <td>3.201012e+10</td>\n",
       "      <td>6.618108e+09</td>\n",
       "      <td>4.156213e+09</td>\n",
       "      <td>1.293958e+10</td>\n",
       "      <td>8.727469e+09</td>\n",
       "      <td>2.257681e+09</td>\n",
       "      <td>2.609311e+09</td>\n",
       "      <td>3.184286e+10</td>\n",
       "      <td>...</td>\n",
       "      <td>6.562862e+10</td>\n",
       "      <td>7.738156e+09</td>\n",
       "      <td>6.328606e+09</td>\n",
       "      <td>6.085374e+09</td>\n",
       "      <td>5.040737e+09</td>\n",
       "      <td>8.844588e+09</td>\n",
       "      <td>2.249812e+09</td>\n",
       "      <td>1.310347e+10</td>\n",
       "      <td>2.329692e+09</td>\n",
       "      <td>2.496164e+10</td>\n",
       "    </tr>\n",
       "    <tr>\n",
       "      <th>2022-11-30</th>\n",
       "      <td>6.520000e+09</td>\n",
       "      <td>6.155195e+09</td>\n",
       "      <td>3.209228e+10</td>\n",
       "      <td>6.666842e+09</td>\n",
       "      <td>4.026237e+09</td>\n",
       "      <td>1.329350e+10</td>\n",
       "      <td>8.681696e+09</td>\n",
       "      <td>2.261524e+09</td>\n",
       "      <td>2.654734e+09</td>\n",
       "      <td>3.221414e+10</td>\n",
       "      <td>...</td>\n",
       "      <td>6.620044e+10</td>\n",
       "      <td>7.040204e+09</td>\n",
       "      <td>6.438719e+09</td>\n",
       "      <td>5.958490e+09</td>\n",
       "      <td>5.014346e+09</td>\n",
       "      <td>8.641688e+09</td>\n",
       "      <td>2.299808e+09</td>\n",
       "      <td>1.304926e+10</td>\n",
       "      <td>2.320950e+09</td>\n",
       "      <td>2.430331e+10</td>\n",
       "    </tr>\n",
       "    <tr>\n",
       "      <th>2022-11-29</th>\n",
       "      <td>6.590000e+09</td>\n",
       "      <td>6.204635e+09</td>\n",
       "      <td>3.170204e+10</td>\n",
       "      <td>6.686336e+09</td>\n",
       "      <td>4.056464e+09</td>\n",
       "      <td>1.243028e+10</td>\n",
       "      <td>8.742727e+09</td>\n",
       "      <td>2.236545e+09</td>\n",
       "      <td>2.669875e+09</td>\n",
       "      <td>2.933125e+10</td>\n",
       "      <td>...</td>\n",
       "      <td>6.574775e+10</td>\n",
       "      <td>7.040204e+09</td>\n",
       "      <td>6.386560e+09</td>\n",
       "      <td>5.912811e+09</td>\n",
       "      <td>5.023143e+09</td>\n",
       "      <td>8.812308e+09</td>\n",
       "      <td>2.262311e+09</td>\n",
       "      <td>1.302216e+10</td>\n",
       "      <td>2.338433e+09</td>\n",
       "      <td>2.474219e+10</td>\n",
       "    </tr>\n",
       "    <tr>\n",
       "      <th>2022-11-28</th>\n",
       "      <td>6.550000e+09</td>\n",
       "      <td>5.945078e+09</td>\n",
       "      <td>3.112694e+10</td>\n",
       "      <td>6.686336e+09</td>\n",
       "      <td>4.029259e+09</td>\n",
       "      <td>1.221448e+10</td>\n",
       "      <td>8.696954e+09</td>\n",
       "      <td>2.213488e+09</td>\n",
       "      <td>2.679969e+09</td>\n",
       "      <td>2.889445e+10</td>\n",
       "      <td>...</td>\n",
       "      <td>6.272185e+10</td>\n",
       "      <td>6.918822e+09</td>\n",
       "      <td>6.096789e+09</td>\n",
       "      <td>5.912811e+09</td>\n",
       "      <td>4.946901e+09</td>\n",
       "      <td>8.632465e+09</td>\n",
       "      <td>2.224814e+09</td>\n",
       "      <td>1.281890e+10</td>\n",
       "      <td>2.294724e+09</td>\n",
       "      <td>2.391928e+10</td>\n",
       "    </tr>\n",
       "  </tbody>\n",
       "</table>\n",
       "<p>5 rows × 4025 columns</p>\n",
       "</div>"
      ],
      "text/plain": [
       "                SH603105      SZ002435      SZ002353      SZ000544  \\\n",
       "timestamp                                                            \n",
       "2022-12-02  6.645000e+09  6.229354e+09  3.215390e+10  6.676589e+09   \n",
       "2022-12-01  6.570000e+09  6.105756e+09  3.201012e+10  6.618108e+09   \n",
       "2022-11-30  6.520000e+09  6.155195e+09  3.209228e+10  6.666842e+09   \n",
       "2022-11-29  6.590000e+09  6.204635e+09  3.170204e+10  6.686336e+09   \n",
       "2022-11-28  6.550000e+09  5.945078e+09  3.112694e+10  6.686336e+09   \n",
       "\n",
       "                SH603663      SZ000550      SZ001896      SH603677  \\\n",
       "timestamp                                                            \n",
       "2022-12-02  4.189463e+09  1.271514e+10  8.605407e+09  2.276895e+09   \n",
       "2022-12-01  4.156213e+09  1.293958e+10  8.727469e+09  2.257681e+09   \n",
       "2022-11-30  4.026237e+09  1.329350e+10  8.681696e+09  2.261524e+09   \n",
       "2022-11-29  4.056464e+09  1.243028e+10  8.742727e+09  2.236545e+09   \n",
       "2022-11-28  4.029259e+09  1.221448e+10  8.696954e+09  2.213488e+09   \n",
       "\n",
       "                SZ002347      SH600418  ...      SZ002410      SH600429  \\\n",
       "timestamp                               ...                               \n",
       "2022-12-02  2.594170e+09  3.088190e+10  ...  6.550949e+10  8.511971e+09   \n",
       "2022-12-01  2.609311e+09  3.184286e+10  ...  6.562862e+10  7.738156e+09   \n",
       "2022-11-30  2.654734e+09  3.221414e+10  ...  6.620044e+10  7.040204e+09   \n",
       "2022-11-29  2.669875e+09  2.933125e+10  ...  6.574775e+10  7.040204e+09   \n",
       "2022-11-28  2.679969e+09  2.889445e+10  ...  6.272185e+10  6.918822e+09   \n",
       "\n",
       "                SH603108      SZ002438      SH600367      SZ003040  \\\n",
       "timestamp                                                            \n",
       "2022-12-02  6.496674e+09  6.120902e+09  5.049534e+09  8.992151e+09   \n",
       "2022-12-01  6.328606e+09  6.085374e+09  5.040737e+09  8.844588e+09   \n",
       "2022-11-30  6.438719e+09  5.958490e+09  5.014346e+09  8.641688e+09   \n",
       "2022-11-29  6.386560e+09  5.912811e+09  5.023143e+09  8.812308e+09   \n",
       "2022-11-28  6.096789e+09  5.912811e+09  4.946901e+09  8.632465e+09   \n",
       "\n",
       "                SZ300297      SH600373      SZ300283      SH600415  \n",
       "timestamp                                                           \n",
       "2022-12-02  2.349803e+09  1.310347e+10  2.360288e+09  2.463247e+10  \n",
       "2022-12-01  2.249812e+09  1.310347e+10  2.329692e+09  2.496164e+10  \n",
       "2022-11-30  2.299808e+09  1.304926e+10  2.320950e+09  2.430331e+10  \n",
       "2022-11-29  2.262311e+09  1.302216e+10  2.338433e+09  2.474219e+10  \n",
       "2022-11-28  2.224814e+09  1.281890e+10  2.294724e+09  2.391928e+10  \n",
       "\n",
       "[5 rows x 4025 columns]"
      ]
     },
     "execution_count": 171,
     "metadata": {},
     "output_type": "execute_result"
    }
   ],
   "source": [
    "all_markets.head()"
   ]
  },
  {
   "cell_type": "code",
   "execution_count": null,
   "metadata": {},
   "outputs": [],
   "source": []
  },
  {
   "cell_type": "code",
   "execution_count": null,
   "metadata": {},
   "outputs": [],
   "source": []
  },
  {
   "cell_type": "code",
   "execution_count": null,
   "metadata": {},
   "outputs": [],
   "source": []
  },
  {
   "cell_type": "code",
   "execution_count": 162,
   "metadata": {},
   "outputs": [],
   "source": [
    "increase_rate_10 = get_all_increase_rate(10)\n"
   ]
  },
  {
   "cell_type": "code",
   "execution_count": 172,
   "metadata": {},
   "outputs": [],
   "source": [
    "increase_rate_20 = get_all_increase_rate(20)"
   ]
  },
  {
   "cell_type": "code",
   "execution_count": 173,
   "metadata": {},
   "outputs": [],
   "source": [
    "rps20 = calculate_increase_rate_rankdf(increase_rate_20)"
   ]
  },
  {
   "cell_type": "code",
   "execution_count": 174,
   "metadata": {},
   "outputs": [
    {
     "data": {
      "text/html": [
       "<div>\n",
       "<style scoped>\n",
       "    .dataframe tbody tr th:only-of-type {\n",
       "        vertical-align: middle;\n",
       "    }\n",
       "\n",
       "    .dataframe tbody tr th {\n",
       "        vertical-align: top;\n",
       "    }\n",
       "\n",
       "    .dataframe thead th {\n",
       "        text-align: right;\n",
       "    }\n",
       "</style>\n",
       "<table border=\"1\" class=\"dataframe\">\n",
       "  <thead>\n",
       "    <tr style=\"text-align: right;\">\n",
       "      <th></th>\n",
       "      <th>SH603105</th>\n",
       "      <th>SZ002435</th>\n",
       "      <th>SZ002353</th>\n",
       "      <th>SZ000544</th>\n",
       "      <th>SH603663</th>\n",
       "      <th>SZ000550</th>\n",
       "      <th>SZ001896</th>\n",
       "      <th>SH603677</th>\n",
       "      <th>SZ002347</th>\n",
       "      <th>SH600418</th>\n",
       "      <th>...</th>\n",
       "      <th>SZ002410</th>\n",
       "      <th>SH600429</th>\n",
       "      <th>SH603108</th>\n",
       "      <th>SZ002438</th>\n",
       "      <th>SH600367</th>\n",
       "      <th>SZ003040</th>\n",
       "      <th>SZ300297</th>\n",
       "      <th>SH600373</th>\n",
       "      <th>SZ300283</th>\n",
       "      <th>SH600415</th>\n",
       "    </tr>\n",
       "  </thead>\n",
       "  <tbody>\n",
       "    <tr>\n",
       "      <th>2022-12-02</th>\n",
       "      <td>0.046313</td>\n",
       "      <td>0.818022</td>\n",
       "      <td>0.130883</td>\n",
       "      <td>0.720362</td>\n",
       "      <td>0.184244</td>\n",
       "      <td>0.197835</td>\n",
       "      <td>0.534105</td>\n",
       "      <td>0.503146</td>\n",
       "      <td>0.615907</td>\n",
       "      <td>0.165366</td>\n",
       "      <td>...</td>\n",
       "      <td>0.907878</td>\n",
       "      <td>0.968789</td>\n",
       "      <td>0.369746</td>\n",
       "      <td>0.440473</td>\n",
       "      <td>0.055374</td>\n",
       "      <td>0.255474</td>\n",
       "      <td>0.460106</td>\n",
       "      <td>0.819028</td>\n",
       "      <td>0.300277</td>\n",
       "      <td>0.429398</td>\n",
       "    </tr>\n",
       "    <tr>\n",
       "      <th>2022-12-01</th>\n",
       "      <td>0.027932</td>\n",
       "      <td>0.760946</td>\n",
       "      <td>0.160292</td>\n",
       "      <td>0.709361</td>\n",
       "      <td>0.173377</td>\n",
       "      <td>0.222698</td>\n",
       "      <td>0.750377</td>\n",
       "      <td>0.483644</td>\n",
       "      <td>0.590086</td>\n",
       "      <td>0.143432</td>\n",
       "      <td>...</td>\n",
       "      <td>0.906643</td>\n",
       "      <td>0.909663</td>\n",
       "      <td>0.186462</td>\n",
       "      <td>0.348264</td>\n",
       "      <td>0.069451</td>\n",
       "      <td>0.221439</td>\n",
       "      <td>0.591847</td>\n",
       "      <td>0.836940</td>\n",
       "      <td>0.262708</td>\n",
       "      <td>0.538249</td>\n",
       "    </tr>\n",
       "    <tr>\n",
       "      <th>2022-11-30</th>\n",
       "      <td>0.089079</td>\n",
       "      <td>0.766734</td>\n",
       "      <td>0.182436</td>\n",
       "      <td>0.843986</td>\n",
       "      <td>0.173880</td>\n",
       "      <td>0.399597</td>\n",
       "      <td>0.784852</td>\n",
       "      <td>0.455712</td>\n",
       "      <td>0.703070</td>\n",
       "      <td>0.402365</td>\n",
       "      <td>...</td>\n",
       "      <td>0.927529</td>\n",
       "      <td>0.661047</td>\n",
       "      <td>0.222194</td>\n",
       "      <td>0.323100</td>\n",
       "      <td>0.156517</td>\n",
       "      <td>0.157776</td>\n",
       "      <td>0.730498</td>\n",
       "      <td>0.814041</td>\n",
       "      <td>0.266985</td>\n",
       "      <td>0.419728</td>\n",
       "    </tr>\n",
       "    <tr>\n",
       "      <th>2022-11-29</th>\n",
       "      <td>0.124780</td>\n",
       "      <td>0.723019</td>\n",
       "      <td>0.092830</td>\n",
       "      <td>0.850566</td>\n",
       "      <td>0.231950</td>\n",
       "      <td>0.158491</td>\n",
       "      <td>0.795220</td>\n",
       "      <td>0.393208</td>\n",
       "      <td>0.682516</td>\n",
       "      <td>0.086038</td>\n",
       "      <td>...</td>\n",
       "      <td>0.887296</td>\n",
       "      <td>0.633208</td>\n",
       "      <td>0.194969</td>\n",
       "      <td>0.275723</td>\n",
       "      <td>0.156226</td>\n",
       "      <td>0.181635</td>\n",
       "      <td>0.580629</td>\n",
       "      <td>0.807799</td>\n",
       "      <td>0.295346</td>\n",
       "      <td>0.531069</td>\n",
       "    </tr>\n",
       "    <tr>\n",
       "      <th>2022-11-28</th>\n",
       "      <td>0.078782</td>\n",
       "      <td>0.456834</td>\n",
       "      <td>0.204128</td>\n",
       "      <td>0.871634</td>\n",
       "      <td>0.252957</td>\n",
       "      <td>0.244148</td>\n",
       "      <td>0.818525</td>\n",
       "      <td>0.387113</td>\n",
       "      <td>0.639567</td>\n",
       "      <td>0.381072</td>\n",
       "      <td>...</td>\n",
       "      <td>0.794614</td>\n",
       "      <td>0.628744</td>\n",
       "      <td>0.098918</td>\n",
       "      <td>0.386106</td>\n",
       "      <td>0.206393</td>\n",
       "      <td>0.140448</td>\n",
       "      <td>0.606091</td>\n",
       "      <td>0.802668</td>\n",
       "      <td>0.238611</td>\n",
       "      <td>0.443997</td>\n",
       "    </tr>\n",
       "  </tbody>\n",
       "</table>\n",
       "<p>5 rows × 4025 columns</p>\n",
       "</div>"
      ],
      "text/plain": [
       "            SH603105  SZ002435  SZ002353  SZ000544  SH603663  SZ000550  \\\n",
       "2022-12-02  0.046313  0.818022  0.130883  0.720362  0.184244  0.197835   \n",
       "2022-12-01  0.027932  0.760946  0.160292  0.709361  0.173377  0.222698   \n",
       "2022-11-30  0.089079  0.766734  0.182436  0.843986  0.173880  0.399597   \n",
       "2022-11-29  0.124780  0.723019  0.092830  0.850566  0.231950  0.158491   \n",
       "2022-11-28  0.078782  0.456834  0.204128  0.871634  0.252957  0.244148   \n",
       "\n",
       "            SZ001896  SH603677  SZ002347  SH600418  ...  SZ002410  SH600429  \\\n",
       "2022-12-02  0.534105  0.503146  0.615907  0.165366  ...  0.907878  0.968789   \n",
       "2022-12-01  0.750377  0.483644  0.590086  0.143432  ...  0.906643  0.909663   \n",
       "2022-11-30  0.784852  0.455712  0.703070  0.402365  ...  0.927529  0.661047   \n",
       "2022-11-29  0.795220  0.393208  0.682516  0.086038  ...  0.887296  0.633208   \n",
       "2022-11-28  0.818525  0.387113  0.639567  0.381072  ...  0.794614  0.628744   \n",
       "\n",
       "            SH603108  SZ002438  SH600367  SZ003040  SZ300297  SH600373  \\\n",
       "2022-12-02  0.369746  0.440473  0.055374  0.255474  0.460106  0.819028   \n",
       "2022-12-01  0.186462  0.348264  0.069451  0.221439  0.591847  0.836940   \n",
       "2022-11-30  0.222194  0.323100  0.156517  0.157776  0.730498  0.814041   \n",
       "2022-11-29  0.194969  0.275723  0.156226  0.181635  0.580629  0.807799   \n",
       "2022-11-28  0.098918  0.386106  0.206393  0.140448  0.606091  0.802668   \n",
       "\n",
       "            SZ300283  SH600415  \n",
       "2022-12-02  0.300277  0.429398  \n",
       "2022-12-01  0.262708  0.538249  \n",
       "2022-11-30  0.266985  0.419728  \n",
       "2022-11-29  0.295346  0.531069  \n",
       "2022-11-28  0.238611  0.443997  \n",
       "\n",
       "[5 rows x 4025 columns]"
      ]
     },
     "execution_count": 174,
     "metadata": {},
     "output_type": "execute_result"
    }
   ],
   "source": [
    "rps20.head()"
   ]
  },
  {
   "cell_type": "code",
   "execution_count": null,
   "metadata": {},
   "outputs": [],
   "source": []
  },
  {
   "cell_type": "code",
   "execution_count": 164,
   "metadata": {},
   "outputs": [],
   "source": [
    "rps10 = calculate_increase_rate_rankdf(increase_rate_10)"
   ]
  },
  {
   "cell_type": "code",
   "execution_count": 165,
   "metadata": {},
   "outputs": [
    {
     "data": {
      "text/html": [
       "<div>\n",
       "<style scoped>\n",
       "    .dataframe tbody tr th:only-of-type {\n",
       "        vertical-align: middle;\n",
       "    }\n",
       "\n",
       "    .dataframe tbody tr th {\n",
       "        vertical-align: top;\n",
       "    }\n",
       "\n",
       "    .dataframe thead th {\n",
       "        text-align: right;\n",
       "    }\n",
       "</style>\n",
       "<table border=\"1\" class=\"dataframe\">\n",
       "  <thead>\n",
       "    <tr style=\"text-align: right;\">\n",
       "      <th></th>\n",
       "      <th>SH603105</th>\n",
       "      <th>SZ002435</th>\n",
       "      <th>SZ002353</th>\n",
       "      <th>SZ000544</th>\n",
       "      <th>SH603663</th>\n",
       "      <th>SZ000550</th>\n",
       "      <th>SZ001896</th>\n",
       "      <th>SH603677</th>\n",
       "      <th>SZ002347</th>\n",
       "      <th>SH600418</th>\n",
       "      <th>...</th>\n",
       "      <th>SZ002410</th>\n",
       "      <th>SH600429</th>\n",
       "      <th>SH603108</th>\n",
       "      <th>SZ002438</th>\n",
       "      <th>SH600367</th>\n",
       "      <th>SZ003040</th>\n",
       "      <th>SZ300297</th>\n",
       "      <th>SH600373</th>\n",
       "      <th>SZ300283</th>\n",
       "      <th>SH600415</th>\n",
       "    </tr>\n",
       "  </thead>\n",
       "  <tbody>\n",
       "    <tr>\n",
       "      <th>2022-12-02</th>\n",
       "      <td>0.348603</td>\n",
       "      <td>0.180216</td>\n",
       "      <td>0.315631</td>\n",
       "      <td>0.597030</td>\n",
       "      <td>0.363705</td>\n",
       "      <td>0.391895</td>\n",
       "      <td>0.538384</td>\n",
       "      <td>0.515228</td>\n",
       "      <td>0.251447</td>\n",
       "      <td>0.192801</td>\n",
       "      <td>...</td>\n",
       "      <td>0.779260</td>\n",
       "      <td>0.984395</td>\n",
       "      <td>0.143217</td>\n",
       "      <td>0.222754</td>\n",
       "      <td>0.265291</td>\n",
       "      <td>0.256985</td>\n",
       "      <td>0.581928</td>\n",
       "      <td>0.835641</td>\n",
       "      <td>0.186761</td>\n",
       "      <td>0.601057</td>\n",
       "    </tr>\n",
       "    <tr>\n",
       "      <th>2022-12-01</th>\n",
       "      <td>0.394565</td>\n",
       "      <td>0.238551</td>\n",
       "      <td>0.152491</td>\n",
       "      <td>0.535732</td>\n",
       "      <td>0.351032</td>\n",
       "      <td>0.707851</td>\n",
       "      <td>0.774283</td>\n",
       "      <td>0.499748</td>\n",
       "      <td>0.701560</td>\n",
       "      <td>0.898339</td>\n",
       "      <td>...</td>\n",
       "      <td>0.717665</td>\n",
       "      <td>0.948666</td>\n",
       "      <td>0.103674</td>\n",
       "      <td>0.185959</td>\n",
       "      <td>0.361852</td>\n",
       "      <td>0.232260</td>\n",
       "      <td>0.173377</td>\n",
       "      <td>0.752642</td>\n",
       "      <td>0.209109</td>\n",
       "      <td>0.653749</td>\n",
       "    </tr>\n",
       "    <tr>\n",
       "      <th>2022-11-30</th>\n",
       "      <td>0.507297</td>\n",
       "      <td>0.614494</td>\n",
       "      <td>0.221943</td>\n",
       "      <td>0.772270</td>\n",
       "      <td>0.170861</td>\n",
       "      <td>0.823603</td>\n",
       "      <td>0.790388</td>\n",
       "      <td>0.626321</td>\n",
       "      <td>0.752894</td>\n",
       "      <td>0.939607</td>\n",
       "      <td>...</td>\n",
       "      <td>0.864117</td>\n",
       "      <td>0.502013</td>\n",
       "      <td>0.274031</td>\n",
       "      <td>0.234273</td>\n",
       "      <td>0.252642</td>\n",
       "      <td>0.048062</td>\n",
       "      <td>0.309260</td>\n",
       "      <td>0.875944</td>\n",
       "      <td>0.362859</td>\n",
       "      <td>0.477856</td>\n",
       "    </tr>\n",
       "    <tr>\n",
       "      <th>2022-11-29</th>\n",
       "      <td>0.425660</td>\n",
       "      <td>0.761761</td>\n",
       "      <td>0.074969</td>\n",
       "      <td>0.853082</td>\n",
       "      <td>0.127296</td>\n",
       "      <td>0.224403</td>\n",
       "      <td>0.798239</td>\n",
       "      <td>0.517484</td>\n",
       "      <td>0.714969</td>\n",
       "      <td>0.228428</td>\n",
       "      <td>...</td>\n",
       "      <td>0.852830</td>\n",
       "      <td>0.575346</td>\n",
       "      <td>0.275220</td>\n",
       "      <td>0.138365</td>\n",
       "      <td>0.148931</td>\n",
       "      <td>0.205535</td>\n",
       "      <td>0.130566</td>\n",
       "      <td>0.897358</td>\n",
       "      <td>0.402013</td>\n",
       "      <td>0.649811</td>\n",
       "    </tr>\n",
       "    <tr>\n",
       "      <th>2022-11-28</th>\n",
       "      <td>0.355651</td>\n",
       "      <td>0.587969</td>\n",
       "      <td>0.090108</td>\n",
       "      <td>0.902341</td>\n",
       "      <td>0.217971</td>\n",
       "      <td>0.282658</td>\n",
       "      <td>0.888246</td>\n",
       "      <td>0.687390</td>\n",
       "      <td>0.930028</td>\n",
       "      <td>0.322678</td>\n",
       "      <td>...</td>\n",
       "      <td>0.647370</td>\n",
       "      <td>0.680846</td>\n",
       "      <td>0.079285</td>\n",
       "      <td>0.265291</td>\n",
       "      <td>0.091618</td>\n",
       "      <td>0.203121</td>\n",
       "      <td>0.311100</td>\n",
       "      <td>0.909388</td>\n",
       "      <td>0.430154</td>\n",
       "      <td>0.510949</td>\n",
       "    </tr>\n",
       "  </tbody>\n",
       "</table>\n",
       "<p>5 rows × 4025 columns</p>\n",
       "</div>"
      ],
      "text/plain": [
       "            SH603105  SZ002435  SZ002353  SZ000544  SH603663  SZ000550  \\\n",
       "2022-12-02  0.348603  0.180216  0.315631  0.597030  0.363705  0.391895   \n",
       "2022-12-01  0.394565  0.238551  0.152491  0.535732  0.351032  0.707851   \n",
       "2022-11-30  0.507297  0.614494  0.221943  0.772270  0.170861  0.823603   \n",
       "2022-11-29  0.425660  0.761761  0.074969  0.853082  0.127296  0.224403   \n",
       "2022-11-28  0.355651  0.587969  0.090108  0.902341  0.217971  0.282658   \n",
       "\n",
       "            SZ001896  SH603677  SZ002347  SH600418  ...  SZ002410  SH600429  \\\n",
       "2022-12-02  0.538384  0.515228  0.251447  0.192801  ...  0.779260  0.984395   \n",
       "2022-12-01  0.774283  0.499748  0.701560  0.898339  ...  0.717665  0.948666   \n",
       "2022-11-30  0.790388  0.626321  0.752894  0.939607  ...  0.864117  0.502013   \n",
       "2022-11-29  0.798239  0.517484  0.714969  0.228428  ...  0.852830  0.575346   \n",
       "2022-11-28  0.888246  0.687390  0.930028  0.322678  ...  0.647370  0.680846   \n",
       "\n",
       "            SH603108  SZ002438  SH600367  SZ003040  SZ300297  SH600373  \\\n",
       "2022-12-02  0.143217  0.222754  0.265291  0.256985  0.581928  0.835641   \n",
       "2022-12-01  0.103674  0.185959  0.361852  0.232260  0.173377  0.752642   \n",
       "2022-11-30  0.274031  0.234273  0.252642  0.048062  0.309260  0.875944   \n",
       "2022-11-29  0.275220  0.138365  0.148931  0.205535  0.130566  0.897358   \n",
       "2022-11-28  0.079285  0.265291  0.091618  0.203121  0.311100  0.909388   \n",
       "\n",
       "            SZ300283  SH600415  \n",
       "2022-12-02  0.186761  0.601057  \n",
       "2022-12-01  0.209109  0.653749  \n",
       "2022-11-30  0.362859  0.477856  \n",
       "2022-11-29  0.402013  0.649811  \n",
       "2022-11-28  0.430154  0.510949  \n",
       "\n",
       "[5 rows x 4025 columns]"
      ]
     },
     "execution_count": 165,
     "metadata": {},
     "output_type": "execute_result"
    }
   ],
   "source": [
    "rps10.head()\n"
   ]
  },
  {
   "cell_type": "code",
   "execution_count": null,
   "metadata": {},
   "outputs": [],
   "source": []
  },
  {
   "cell_type": "code",
   "execution_count": 133,
   "metadata": {},
   "outputs": [
    {
     "data": {
      "text/html": [
       "<div>\n",
       "<style scoped>\n",
       "    .dataframe tbody tr th:only-of-type {\n",
       "        vertical-align: middle;\n",
       "    }\n",
       "\n",
       "    .dataframe tbody tr th {\n",
       "        vertical-align: top;\n",
       "    }\n",
       "\n",
       "    .dataframe thead th {\n",
       "        text-align: right;\n",
       "    }\n",
       "</style>\n",
       "<table border=\"1\" class=\"dataframe\">\n",
       "  <thead>\n",
       "    <tr style=\"text-align: right;\">\n",
       "      <th></th>\n",
       "      <th>SH603105</th>\n",
       "      <th>SZ002435</th>\n",
       "      <th>SZ002353</th>\n",
       "      <th>SZ000544</th>\n",
       "      <th>SH603663</th>\n",
       "      <th>SZ000550</th>\n",
       "      <th>SZ001896</th>\n",
       "      <th>SH603677</th>\n",
       "      <th>SZ002347</th>\n",
       "      <th>SH600418</th>\n",
       "      <th>...</th>\n",
       "      <th>SZ002410</th>\n",
       "      <th>SH600429</th>\n",
       "      <th>SH603108</th>\n",
       "      <th>SZ002438</th>\n",
       "      <th>SH600367</th>\n",
       "      <th>SZ003040</th>\n",
       "      <th>SZ300297</th>\n",
       "      <th>SH600373</th>\n",
       "      <th>SZ300283</th>\n",
       "      <th>SH600415</th>\n",
       "    </tr>\n",
       "    <tr>\n",
       "      <th>timestamp</th>\n",
       "      <th></th>\n",
       "      <th></th>\n",
       "      <th></th>\n",
       "      <th></th>\n",
       "      <th></th>\n",
       "      <th></th>\n",
       "      <th></th>\n",
       "      <th></th>\n",
       "      <th></th>\n",
       "      <th></th>\n",
       "      <th></th>\n",
       "      <th></th>\n",
       "      <th></th>\n",
       "      <th></th>\n",
       "      <th></th>\n",
       "      <th></th>\n",
       "      <th></th>\n",
       "      <th></th>\n",
       "      <th></th>\n",
       "      <th></th>\n",
       "      <th></th>\n",
       "    </tr>\n",
       "  </thead>\n",
       "  <tbody>\n",
       "    <tr>\n",
       "      <th>2022-12-02</th>\n",
       "      <td>-0.011896</td>\n",
       "      <td>-0.040000</td>\n",
       "      <td>-0.016646</td>\n",
       "      <td>0.017831</td>\n",
       "      <td>-0.010000</td>\n",
       "      <td>-0.006743</td>\n",
       "      <td>0.010753</td>\n",
       "      <td>0.007653</td>\n",
       "      <td>-0.026515</td>\n",
       "      <td>-0.038095</td>\n",
       "      <td>...</td>\n",
       "      <td>0.044246</td>\n",
       "      <td>0.211663</td>\n",
       "      <td>-0.047579</td>\n",
       "      <td>-0.032103</td>\n",
       "      <td>-0.024363</td>\n",
       "      <td>-0.025487</td>\n",
       "      <td>0.016216</td>\n",
       "      <td>0.057987</td>\n",
       "      <td>-0.039146</td>\n",
       "      <td>0.018141</td>\n",
       "    </tr>\n",
       "    <tr>\n",
       "      <th>2022-12-01</th>\n",
       "      <td>-0.009797</td>\n",
       "      <td>-0.031373</td>\n",
       "      <td>-0.046789</td>\n",
       "      <td>0.007418</td>\n",
       "      <td>-0.014337</td>\n",
       "      <td>0.026712</td>\n",
       "      <td>0.036232</td>\n",
       "      <td>0.003416</td>\n",
       "      <td>0.025794</td>\n",
       "      <td>0.072059</td>\n",
       "      <td>...</td>\n",
       "      <td>0.027799</td>\n",
       "      <td>0.111111</td>\n",
       "      <td>-0.060241</td>\n",
       "      <td>-0.040800</td>\n",
       "      <td>-0.013203</td>\n",
       "      <td>-0.032291</td>\n",
       "      <td>-0.042553</td>\n",
       "      <td>0.033120</td>\n",
       "      <td>-0.036166</td>\n",
       "      <td>0.020179</td>\n",
       "    </tr>\n",
       "    <tr>\n",
       "      <th>2022-11-30</th>\n",
       "      <td>-0.009871</td>\n",
       "      <td>0.002012</td>\n",
       "      <td>-0.050729</td>\n",
       "      <td>0.025487</td>\n",
       "      <td>-0.059986</td>\n",
       "      <td>0.035642</td>\n",
       "      <td>0.028933</td>\n",
       "      <td>0.003410</td>\n",
       "      <td>0.021359</td>\n",
       "      <td>0.092593</td>\n",
       "      <td>...</td>\n",
       "      <td>0.047108</td>\n",
       "      <td>-0.010661</td>\n",
       "      <td>-0.041415</td>\n",
       "      <td>-0.048622</td>\n",
       "      <td>-0.045226</td>\n",
       "      <td>-0.099038</td>\n",
       "      <td>-0.036649</td>\n",
       "      <td>0.051310</td>\n",
       "      <td>-0.029250</td>\n",
       "      <td>-0.013363</td>\n",
       "    </tr>\n",
       "    <tr>\n",
       "      <th>2022-11-29</th>\n",
       "      <td>-0.017151</td>\n",
       "      <td>0.024490</td>\n",
       "      <td>-0.077406</td>\n",
       "      <td>0.045732</td>\n",
       "      <td>-0.062849</td>\n",
       "      <td>-0.044459</td>\n",
       "      <td>0.030576</td>\n",
       "      <td>-0.005978</td>\n",
       "      <td>0.017308</td>\n",
       "      <td>-0.044128</td>\n",
       "      <td>...</td>\n",
       "      <td>0.045661</td>\n",
       "      <td>0.000000</td>\n",
       "      <td>-0.037555</td>\n",
       "      <td>-0.060484</td>\n",
       "      <td>-0.057756</td>\n",
       "      <td>-0.047358</td>\n",
       "      <td>-0.062176</td>\n",
       "      <td>0.063053</td>\n",
       "      <td>-0.020147</td>\n",
       "      <td>0.008949</td>\n",
       "    </tr>\n",
       "    <tr>\n",
       "      <th>2022-11-28</th>\n",
       "      <td>-0.047273</td>\n",
       "      <td>-0.018367</td>\n",
       "      <td>-0.091971</td>\n",
       "      <td>0.044140</td>\n",
       "      <td>-0.066527</td>\n",
       "      <td>-0.057295</td>\n",
       "      <td>0.036364</td>\n",
       "      <td>-0.006040</td>\n",
       "      <td>0.062000</td>\n",
       "      <td>-0.051613</td>\n",
       "      <td>...</td>\n",
       "      <td>-0.011268</td>\n",
       "      <td>-0.006536</td>\n",
       "      <td>-0.095443</td>\n",
       "      <td>-0.059726</td>\n",
       "      <td>-0.091546</td>\n",
       "      <td>-0.069120</td>\n",
       "      <td>-0.053191</td>\n",
       "      <td>0.047619</td>\n",
       "      <td>-0.038462</td>\n",
       "      <td>-0.028953</td>\n",
       "    </tr>\n",
       "  </tbody>\n",
       "</table>\n",
       "<p>5 rows × 4025 columns</p>\n",
       "</div>"
      ],
      "text/plain": [
       "            SH603105  SZ002435  SZ002353  SZ000544  SH603663  SZ000550  \\\n",
       "timestamp                                                                \n",
       "2022-12-02 -0.011896 -0.040000 -0.016646  0.017831 -0.010000 -0.006743   \n",
       "2022-12-01 -0.009797 -0.031373 -0.046789  0.007418 -0.014337  0.026712   \n",
       "2022-11-30 -0.009871  0.002012 -0.050729  0.025487 -0.059986  0.035642   \n",
       "2022-11-29 -0.017151  0.024490 -0.077406  0.045732 -0.062849 -0.044459   \n",
       "2022-11-28 -0.047273 -0.018367 -0.091971  0.044140 -0.066527 -0.057295   \n",
       "\n",
       "            SZ001896  SH603677  SZ002347  SH600418  ...  SZ002410  SH600429  \\\n",
       "timestamp                                           ...                       \n",
       "2022-12-02  0.010753  0.007653 -0.026515 -0.038095  ...  0.044246  0.211663   \n",
       "2022-12-01  0.036232  0.003416  0.025794  0.072059  ...  0.027799  0.111111   \n",
       "2022-11-30  0.028933  0.003410  0.021359  0.092593  ...  0.047108 -0.010661   \n",
       "2022-11-29  0.030576 -0.005978  0.017308 -0.044128  ...  0.045661  0.000000   \n",
       "2022-11-28  0.036364 -0.006040  0.062000 -0.051613  ... -0.011268 -0.006536   \n",
       "\n",
       "            SH603108  SZ002438  SH600367  SZ003040  SZ300297  SH600373  \\\n",
       "timestamp                                                                \n",
       "2022-12-02 -0.047579 -0.032103 -0.024363 -0.025487  0.016216  0.057987   \n",
       "2022-12-01 -0.060241 -0.040800 -0.013203 -0.032291 -0.042553  0.033120   \n",
       "2022-11-30 -0.041415 -0.048622 -0.045226 -0.099038 -0.036649  0.051310   \n",
       "2022-11-29 -0.037555 -0.060484 -0.057756 -0.047358 -0.062176  0.063053   \n",
       "2022-11-28 -0.095443 -0.059726 -0.091546 -0.069120 -0.053191  0.047619   \n",
       "\n",
       "            SZ300283  SH600415  \n",
       "timestamp                       \n",
       "2022-12-02 -0.039146  0.018141  \n",
       "2022-12-01 -0.036166  0.020179  \n",
       "2022-11-30 -0.029250 -0.013363  \n",
       "2022-11-29 -0.020147  0.008949  \n",
       "2022-11-28 -0.038462 -0.028953  \n",
       "\n",
       "[5 rows x 4025 columns]"
      ]
     },
     "execution_count": 133,
     "metadata": {},
     "output_type": "execute_result"
    }
   ],
   "source": [
    "serial_list = [increase_rate_10[c] for c in increase_rate_10]\n",
    "ranks_df = pd.concat(serial_list, axis=1)\n",
    "ranks_df.sort_index(ascending=False, inplace=True)\n",
    "# ranks_df.head()"
   ]
  },
  {
   "cell_type": "code",
   "execution_count": 149,
   "metadata": {},
   "outputs": [],
   "source": [
    "r_t = ranks_df.T\n",
    "# get columns name by time str\n",
    "columns = [str(c)[:10] for c in r_t.columns]\n",
    "ranks = []\n",
    "for col in columns:\n",
    "    ranks.append(r_t[col].rank(ascending=True, method='first', pct=True))\n"
   ]
  },
  {
   "cell_type": "code",
   "execution_count": 158,
   "metadata": {},
   "outputs": [],
   "source": [
    "rps10 = calculate_increase_rate_rankdf(increase_rate_10)"
   ]
  },
  {
   "cell_type": "code",
   "execution_count": 159,
   "metadata": {},
   "outputs": [
    {
     "data": {
      "text/plain": [
       "5321"
      ]
     },
     "execution_count": 159,
     "metadata": {},
     "output_type": "execute_result"
    }
   ],
   "source": [
    "len(rps10)"
   ]
  },
  {
   "cell_type": "code",
   "execution_count": 160,
   "metadata": {},
   "outputs": [
    {
     "data": {
      "text/html": [
       "<div>\n",
       "<style scoped>\n",
       "    .dataframe tbody tr th:only-of-type {\n",
       "        vertical-align: middle;\n",
       "    }\n",
       "\n",
       "    .dataframe tbody tr th {\n",
       "        vertical-align: top;\n",
       "    }\n",
       "\n",
       "    .dataframe thead th {\n",
       "        text-align: right;\n",
       "    }\n",
       "</style>\n",
       "<table border=\"1\" class=\"dataframe\">\n",
       "  <thead>\n",
       "    <tr style=\"text-align: right;\">\n",
       "      <th></th>\n",
       "      <th>SH603105</th>\n",
       "      <th>SZ002435</th>\n",
       "      <th>SZ002353</th>\n",
       "      <th>SZ000544</th>\n",
       "      <th>SH603663</th>\n",
       "      <th>SZ000550</th>\n",
       "      <th>SZ001896</th>\n",
       "      <th>SH603677</th>\n",
       "      <th>SZ002347</th>\n",
       "      <th>SH600418</th>\n",
       "      <th>...</th>\n",
       "      <th>SZ002410</th>\n",
       "      <th>SH600429</th>\n",
       "      <th>SH603108</th>\n",
       "      <th>SZ002438</th>\n",
       "      <th>SH600367</th>\n",
       "      <th>SZ003040</th>\n",
       "      <th>SZ300297</th>\n",
       "      <th>SH600373</th>\n",
       "      <th>SZ300283</th>\n",
       "      <th>SH600415</th>\n",
       "    </tr>\n",
       "  </thead>\n",
       "  <tbody>\n",
       "    <tr>\n",
       "      <th>2022-12-02</th>\n",
       "      <td>0.348603</td>\n",
       "      <td>0.180216</td>\n",
       "      <td>0.315631</td>\n",
       "      <td>0.597030</td>\n",
       "      <td>0.363705</td>\n",
       "      <td>0.391895</td>\n",
       "      <td>0.538384</td>\n",
       "      <td>0.515228</td>\n",
       "      <td>0.251447</td>\n",
       "      <td>0.192801</td>\n",
       "      <td>...</td>\n",
       "      <td>0.779260</td>\n",
       "      <td>0.984395</td>\n",
       "      <td>0.143217</td>\n",
       "      <td>0.222754</td>\n",
       "      <td>0.265291</td>\n",
       "      <td>0.256985</td>\n",
       "      <td>0.581928</td>\n",
       "      <td>0.835641</td>\n",
       "      <td>0.186761</td>\n",
       "      <td>0.601057</td>\n",
       "    </tr>\n",
       "    <tr>\n",
       "      <th>2022-12-01</th>\n",
       "      <td>0.394565</td>\n",
       "      <td>0.238551</td>\n",
       "      <td>0.152491</td>\n",
       "      <td>0.535732</td>\n",
       "      <td>0.351032</td>\n",
       "      <td>0.707851</td>\n",
       "      <td>0.774283</td>\n",
       "      <td>0.499748</td>\n",
       "      <td>0.701560</td>\n",
       "      <td>0.898339</td>\n",
       "      <td>...</td>\n",
       "      <td>0.717665</td>\n",
       "      <td>0.948666</td>\n",
       "      <td>0.103674</td>\n",
       "      <td>0.185959</td>\n",
       "      <td>0.361852</td>\n",
       "      <td>0.232260</td>\n",
       "      <td>0.173377</td>\n",
       "      <td>0.752642</td>\n",
       "      <td>0.209109</td>\n",
       "      <td>0.653749</td>\n",
       "    </tr>\n",
       "    <tr>\n",
       "      <th>2022-11-30</th>\n",
       "      <td>0.507297</td>\n",
       "      <td>0.614494</td>\n",
       "      <td>0.221943</td>\n",
       "      <td>0.772270</td>\n",
       "      <td>0.170861</td>\n",
       "      <td>0.823603</td>\n",
       "      <td>0.790388</td>\n",
       "      <td>0.626321</td>\n",
       "      <td>0.752894</td>\n",
       "      <td>0.939607</td>\n",
       "      <td>...</td>\n",
       "      <td>0.864117</td>\n",
       "      <td>0.502013</td>\n",
       "      <td>0.274031</td>\n",
       "      <td>0.234273</td>\n",
       "      <td>0.252642</td>\n",
       "      <td>0.048062</td>\n",
       "      <td>0.309260</td>\n",
       "      <td>0.875944</td>\n",
       "      <td>0.362859</td>\n",
       "      <td>0.477856</td>\n",
       "    </tr>\n",
       "    <tr>\n",
       "      <th>2022-11-29</th>\n",
       "      <td>0.425660</td>\n",
       "      <td>0.761761</td>\n",
       "      <td>0.074969</td>\n",
       "      <td>0.853082</td>\n",
       "      <td>0.127296</td>\n",
       "      <td>0.224403</td>\n",
       "      <td>0.798239</td>\n",
       "      <td>0.517484</td>\n",
       "      <td>0.714969</td>\n",
       "      <td>0.228428</td>\n",
       "      <td>...</td>\n",
       "      <td>0.852830</td>\n",
       "      <td>0.575346</td>\n",
       "      <td>0.275220</td>\n",
       "      <td>0.138365</td>\n",
       "      <td>0.148931</td>\n",
       "      <td>0.205535</td>\n",
       "      <td>0.130566</td>\n",
       "      <td>0.897358</td>\n",
       "      <td>0.402013</td>\n",
       "      <td>0.649811</td>\n",
       "    </tr>\n",
       "    <tr>\n",
       "      <th>2022-11-28</th>\n",
       "      <td>0.355651</td>\n",
       "      <td>0.587969</td>\n",
       "      <td>0.090108</td>\n",
       "      <td>0.902341</td>\n",
       "      <td>0.217971</td>\n",
       "      <td>0.282658</td>\n",
       "      <td>0.888246</td>\n",
       "      <td>0.687390</td>\n",
       "      <td>0.930028</td>\n",
       "      <td>0.322678</td>\n",
       "      <td>...</td>\n",
       "      <td>0.647370</td>\n",
       "      <td>0.680846</td>\n",
       "      <td>0.079285</td>\n",
       "      <td>0.265291</td>\n",
       "      <td>0.091618</td>\n",
       "      <td>0.203121</td>\n",
       "      <td>0.311100</td>\n",
       "      <td>0.909388</td>\n",
       "      <td>0.430154</td>\n",
       "      <td>0.510949</td>\n",
       "    </tr>\n",
       "  </tbody>\n",
       "</table>\n",
       "<p>5 rows × 4025 columns</p>\n",
       "</div>"
      ],
      "text/plain": [
       "            SH603105  SZ002435  SZ002353  SZ000544  SH603663  SZ000550  \\\n",
       "2022-12-02  0.348603  0.180216  0.315631  0.597030  0.363705  0.391895   \n",
       "2022-12-01  0.394565  0.238551  0.152491  0.535732  0.351032  0.707851   \n",
       "2022-11-30  0.507297  0.614494  0.221943  0.772270  0.170861  0.823603   \n",
       "2022-11-29  0.425660  0.761761  0.074969  0.853082  0.127296  0.224403   \n",
       "2022-11-28  0.355651  0.587969  0.090108  0.902341  0.217971  0.282658   \n",
       "\n",
       "            SZ001896  SH603677  SZ002347  SH600418  ...  SZ002410  SH600429  \\\n",
       "2022-12-02  0.538384  0.515228  0.251447  0.192801  ...  0.779260  0.984395   \n",
       "2022-12-01  0.774283  0.499748  0.701560  0.898339  ...  0.717665  0.948666   \n",
       "2022-11-30  0.790388  0.626321  0.752894  0.939607  ...  0.864117  0.502013   \n",
       "2022-11-29  0.798239  0.517484  0.714969  0.228428  ...  0.852830  0.575346   \n",
       "2022-11-28  0.888246  0.687390  0.930028  0.322678  ...  0.647370  0.680846   \n",
       "\n",
       "            SH603108  SZ002438  SH600367  SZ003040  SZ300297  SH600373  \\\n",
       "2022-12-02  0.143217  0.222754  0.265291  0.256985  0.581928  0.835641   \n",
       "2022-12-01  0.103674  0.185959  0.361852  0.232260  0.173377  0.752642   \n",
       "2022-11-30  0.274031  0.234273  0.252642  0.048062  0.309260  0.875944   \n",
       "2022-11-29  0.275220  0.138365  0.148931  0.205535  0.130566  0.897358   \n",
       "2022-11-28  0.079285  0.265291  0.091618  0.203121  0.311100  0.909388   \n",
       "\n",
       "            SZ300283  SH600415  \n",
       "2022-12-02  0.186761  0.601057  \n",
       "2022-12-01  0.209109  0.653749  \n",
       "2022-11-30  0.362859  0.477856  \n",
       "2022-11-29  0.402013  0.649811  \n",
       "2022-11-28  0.430154  0.510949  \n",
       "\n",
       "[5 rows x 4025 columns]"
      ]
     },
     "execution_count": 160,
     "metadata": {},
     "output_type": "execute_result"
    }
   ],
   "source": [
    "rps10.head()"
   ]
  },
  {
   "cell_type": "code",
   "execution_count": 175,
   "metadata": {},
   "outputs": [
    {
     "data": {
      "text/plain": [
       "<AxesSubplot: >"
      ]
     },
     "execution_count": 175,
     "metadata": {},
     "output_type": "execute_result"
    },
    {
     "ename": "ValueError",
     "evalue": "Image size of 547x84332 pixels is too large. It must be less than 2^16 in each direction.",
     "output_type": "error",
     "traceback": [
      "\u001b[0;31m---------------------------------------------------------------------------\u001b[0m",
      "\u001b[0;31mValueError\u001b[0m                                Traceback (most recent call last)",
      "File \u001b[0;32m~/Library/Python/3.9/lib/python/site-packages/IPython/core/formatters.py:338\u001b[0m, in \u001b[0;36mBaseFormatter.__call__\u001b[0;34m(self, obj)\u001b[0m\n\u001b[1;32m    336\u001b[0m     \u001b[39mpass\u001b[39;00m\n\u001b[1;32m    337\u001b[0m \u001b[39melse\u001b[39;00m:\n\u001b[0;32m--> 338\u001b[0m     \u001b[39mreturn\u001b[39;00m printer(obj)\n\u001b[1;32m    339\u001b[0m \u001b[39m# Finally look for special method names\u001b[39;00m\n\u001b[1;32m    340\u001b[0m method \u001b[39m=\u001b[39m get_real_method(obj, \u001b[39mself\u001b[39m\u001b[39m.\u001b[39mprint_method)\n",
      "File \u001b[0;32m~/Library/Python/3.9/lib/python/site-packages/IPython/core/pylabtools.py:152\u001b[0m, in \u001b[0;36mprint_figure\u001b[0;34m(fig, fmt, bbox_inches, base64, **kwargs)\u001b[0m\n\u001b[1;32m    149\u001b[0m     \u001b[39mfrom\u001b[39;00m \u001b[39mmatplotlib\u001b[39;00m\u001b[39m.\u001b[39;00m\u001b[39mbackend_bases\u001b[39;00m \u001b[39mimport\u001b[39;00m FigureCanvasBase\n\u001b[1;32m    150\u001b[0m     FigureCanvasBase(fig)\n\u001b[0;32m--> 152\u001b[0m fig\u001b[39m.\u001b[39;49mcanvas\u001b[39m.\u001b[39;49mprint_figure(bytes_io, \u001b[39m*\u001b[39;49m\u001b[39m*\u001b[39;49mkw)\n\u001b[1;32m    153\u001b[0m data \u001b[39m=\u001b[39m bytes_io\u001b[39m.\u001b[39mgetvalue()\n\u001b[1;32m    154\u001b[0m \u001b[39mif\u001b[39;00m fmt \u001b[39m==\u001b[39m \u001b[39m'\u001b[39m\u001b[39msvg\u001b[39m\u001b[39m'\u001b[39m:\n",
      "File \u001b[0;32m/usr/local/lib/python3.9/site-packages/matplotlib/backend_bases.py:2338\u001b[0m, in \u001b[0;36mFigureCanvasBase.print_figure\u001b[0;34m(self, filename, dpi, facecolor, edgecolor, orientation, format, bbox_inches, pad_inches, bbox_extra_artists, backend, **kwargs)\u001b[0m\n\u001b[1;32m   2334\u001b[0m \u001b[39mtry\u001b[39;00m:\n\u001b[1;32m   2335\u001b[0m     \u001b[39m# _get_renderer may change the figure dpi (as vector formats\u001b[39;00m\n\u001b[1;32m   2336\u001b[0m     \u001b[39m# force the figure dpi to 72), so we need to set it again here.\u001b[39;00m\n\u001b[1;32m   2337\u001b[0m     \u001b[39mwith\u001b[39;00m cbook\u001b[39m.\u001b[39m_setattr_cm(\u001b[39mself\u001b[39m\u001b[39m.\u001b[39mfigure, dpi\u001b[39m=\u001b[39mdpi):\n\u001b[0;32m-> 2338\u001b[0m         result \u001b[39m=\u001b[39m print_method(\n\u001b[1;32m   2339\u001b[0m             filename,\n\u001b[1;32m   2340\u001b[0m             facecolor\u001b[39m=\u001b[39;49mfacecolor,\n\u001b[1;32m   2341\u001b[0m             edgecolor\u001b[39m=\u001b[39;49medgecolor,\n\u001b[1;32m   2342\u001b[0m             orientation\u001b[39m=\u001b[39;49morientation,\n\u001b[1;32m   2343\u001b[0m             bbox_inches_restore\u001b[39m=\u001b[39;49m_bbox_inches_restore,\n\u001b[1;32m   2344\u001b[0m             \u001b[39m*\u001b[39;49m\u001b[39m*\u001b[39;49mkwargs)\n\u001b[1;32m   2345\u001b[0m \u001b[39mfinally\u001b[39;00m:\n\u001b[1;32m   2346\u001b[0m     \u001b[39mif\u001b[39;00m bbox_inches \u001b[39mand\u001b[39;00m restore_bbox:\n",
      "File \u001b[0;32m/usr/local/lib/python3.9/site-packages/matplotlib/backend_bases.py:2204\u001b[0m, in \u001b[0;36mFigureCanvasBase._switch_canvas_and_return_print_method.<locals>.<lambda>\u001b[0;34m(*args, **kwargs)\u001b[0m\n\u001b[1;32m   2200\u001b[0m     optional_kws \u001b[39m=\u001b[39m {  \u001b[39m# Passed by print_figure for other renderers.\u001b[39;00m\n\u001b[1;32m   2201\u001b[0m         \u001b[39m\"\u001b[39m\u001b[39mdpi\u001b[39m\u001b[39m\"\u001b[39m, \u001b[39m\"\u001b[39m\u001b[39mfacecolor\u001b[39m\u001b[39m\"\u001b[39m, \u001b[39m\"\u001b[39m\u001b[39medgecolor\u001b[39m\u001b[39m\"\u001b[39m, \u001b[39m\"\u001b[39m\u001b[39morientation\u001b[39m\u001b[39m\"\u001b[39m,\n\u001b[1;32m   2202\u001b[0m         \u001b[39m\"\u001b[39m\u001b[39mbbox_inches_restore\u001b[39m\u001b[39m\"\u001b[39m}\n\u001b[1;32m   2203\u001b[0m     skip \u001b[39m=\u001b[39m optional_kws \u001b[39m-\u001b[39m {\u001b[39m*\u001b[39minspect\u001b[39m.\u001b[39msignature(meth)\u001b[39m.\u001b[39mparameters}\n\u001b[0;32m-> 2204\u001b[0m     print_method \u001b[39m=\u001b[39m functools\u001b[39m.\u001b[39mwraps(meth)(\u001b[39mlambda\u001b[39;00m \u001b[39m*\u001b[39margs, \u001b[39m*\u001b[39m\u001b[39m*\u001b[39mkwargs: meth(\n\u001b[1;32m   2205\u001b[0m         \u001b[39m*\u001b[39;49margs, \u001b[39m*\u001b[39;49m\u001b[39m*\u001b[39;49m{k: v \u001b[39mfor\u001b[39;49;00m k, v \u001b[39min\u001b[39;49;00m kwargs\u001b[39m.\u001b[39;49mitems() \u001b[39mif\u001b[39;49;00m k \u001b[39mnot\u001b[39;49;00m \u001b[39min\u001b[39;49;00m skip}))\n\u001b[1;32m   2206\u001b[0m \u001b[39melse\u001b[39;00m:  \u001b[39m# Let third-parties do as they see fit.\u001b[39;00m\n\u001b[1;32m   2207\u001b[0m     print_method \u001b[39m=\u001b[39m meth\n",
      "File \u001b[0;32m/usr/local/lib/python3.9/site-packages/matplotlib/_api/deprecation.py:410\u001b[0m, in \u001b[0;36mdelete_parameter.<locals>.wrapper\u001b[0;34m(*inner_args, **inner_kwargs)\u001b[0m\n\u001b[1;32m    400\u001b[0m     deprecation_addendum \u001b[39m=\u001b[39m (\n\u001b[1;32m    401\u001b[0m         \u001b[39mf\u001b[39m\u001b[39m\"\u001b[39m\u001b[39mIf any parameter follows \u001b[39m\u001b[39m{\u001b[39;00mname\u001b[39m!r}\u001b[39;00m\u001b[39m, they should be passed as \u001b[39m\u001b[39m\"\u001b[39m\n\u001b[1;32m    402\u001b[0m         \u001b[39mf\u001b[39m\u001b[39m\"\u001b[39m\u001b[39mkeyword, not positionally.\u001b[39m\u001b[39m\"\u001b[39m)\n\u001b[1;32m    403\u001b[0m     warn_deprecated(\n\u001b[1;32m    404\u001b[0m         since,\n\u001b[1;32m    405\u001b[0m         name\u001b[39m=\u001b[39m\u001b[39mrepr\u001b[39m(name),\n\u001b[0;32m   (...)\u001b[0m\n\u001b[1;32m    408\u001b[0m                  \u001b[39melse\u001b[39;00m deprecation_addendum,\n\u001b[1;32m    409\u001b[0m         \u001b[39m*\u001b[39m\u001b[39m*\u001b[39mkwargs)\n\u001b[0;32m--> 410\u001b[0m \u001b[39mreturn\u001b[39;00m func(\u001b[39m*\u001b[39;49minner_args, \u001b[39m*\u001b[39;49m\u001b[39m*\u001b[39;49minner_kwargs)\n",
      "File \u001b[0;32m/usr/local/lib/python3.9/site-packages/matplotlib/backends/backend_agg.py:517\u001b[0m, in \u001b[0;36mFigureCanvasAgg.print_png\u001b[0;34m(self, filename_or_obj, metadata, pil_kwargs, *args)\u001b[0m\n\u001b[1;32m    468\u001b[0m \u001b[39m@_api\u001b[39m\u001b[39m.\u001b[39mdelete_parameter(\u001b[39m\"\u001b[39m\u001b[39m3.5\u001b[39m\u001b[39m\"\u001b[39m, \u001b[39m\"\u001b[39m\u001b[39margs\u001b[39m\u001b[39m\"\u001b[39m)\n\u001b[1;32m    469\u001b[0m \u001b[39mdef\u001b[39;00m \u001b[39mprint_png\u001b[39m(\u001b[39mself\u001b[39m, filename_or_obj, \u001b[39m*\u001b[39margs,\n\u001b[1;32m    470\u001b[0m               metadata\u001b[39m=\u001b[39m\u001b[39mNone\u001b[39;00m, pil_kwargs\u001b[39m=\u001b[39m\u001b[39mNone\u001b[39;00m):\n\u001b[1;32m    471\u001b[0m     \u001b[39m\"\"\"\u001b[39;00m\n\u001b[1;32m    472\u001b[0m \u001b[39m    Write the figure to a PNG file.\u001b[39;00m\n\u001b[1;32m    473\u001b[0m \n\u001b[0;32m   (...)\u001b[0m\n\u001b[1;32m    515\u001b[0m \u001b[39m        *metadata*, including the default 'Software' key.\u001b[39;00m\n\u001b[1;32m    516\u001b[0m \u001b[39m    \"\"\"\u001b[39;00m\n\u001b[0;32m--> 517\u001b[0m     \u001b[39mself\u001b[39;49m\u001b[39m.\u001b[39;49m_print_pil(filename_or_obj, \u001b[39m\"\u001b[39;49m\u001b[39mpng\u001b[39;49m\u001b[39m\"\u001b[39;49m, pil_kwargs, metadata)\n",
      "File \u001b[0;32m/usr/local/lib/python3.9/site-packages/matplotlib/backends/backend_agg.py:463\u001b[0m, in \u001b[0;36mFigureCanvasAgg._print_pil\u001b[0;34m(self, filename_or_obj, fmt, pil_kwargs, metadata)\u001b[0m\n\u001b[1;32m    458\u001b[0m \u001b[39mdef\u001b[39;00m \u001b[39m_print_pil\u001b[39m(\u001b[39mself\u001b[39m, filename_or_obj, fmt, pil_kwargs, metadata\u001b[39m=\u001b[39m\u001b[39mNone\u001b[39;00m):\n\u001b[1;32m    459\u001b[0m     \u001b[39m\"\"\"\u001b[39;00m\n\u001b[1;32m    460\u001b[0m \u001b[39m    Draw the canvas, then save it using `.image.imsave` (to which\u001b[39;00m\n\u001b[1;32m    461\u001b[0m \u001b[39m    *pil_kwargs* and *metadata* are forwarded).\u001b[39;00m\n\u001b[1;32m    462\u001b[0m \u001b[39m    \"\"\"\u001b[39;00m\n\u001b[0;32m--> 463\u001b[0m     FigureCanvasAgg\u001b[39m.\u001b[39;49mdraw(\u001b[39mself\u001b[39;49m)\n\u001b[1;32m    464\u001b[0m     mpl\u001b[39m.\u001b[39mimage\u001b[39m.\u001b[39mimsave(\n\u001b[1;32m    465\u001b[0m         filename_or_obj, \u001b[39mself\u001b[39m\u001b[39m.\u001b[39mbuffer_rgba(), \u001b[39mformat\u001b[39m\u001b[39m=\u001b[39mfmt, origin\u001b[39m=\u001b[39m\u001b[39m\"\u001b[39m\u001b[39mupper\u001b[39m\u001b[39m\"\u001b[39m,\n\u001b[1;32m    466\u001b[0m         dpi\u001b[39m=\u001b[39m\u001b[39mself\u001b[39m\u001b[39m.\u001b[39mfigure\u001b[39m.\u001b[39mdpi, metadata\u001b[39m=\u001b[39mmetadata, pil_kwargs\u001b[39m=\u001b[39mpil_kwargs)\n",
      "File \u001b[0;32m/usr/local/lib/python3.9/site-packages/matplotlib/backends/backend_agg.py:399\u001b[0m, in \u001b[0;36mFigureCanvasAgg.draw\u001b[0;34m(self)\u001b[0m\n\u001b[1;32m    397\u001b[0m \u001b[39mdef\u001b[39;00m \u001b[39mdraw\u001b[39m(\u001b[39mself\u001b[39m):\n\u001b[1;32m    398\u001b[0m     \u001b[39m# docstring inherited\u001b[39;00m\n\u001b[0;32m--> 399\u001b[0m     \u001b[39mself\u001b[39m\u001b[39m.\u001b[39mrenderer \u001b[39m=\u001b[39m \u001b[39mself\u001b[39;49m\u001b[39m.\u001b[39;49mget_renderer()\n\u001b[1;32m    400\u001b[0m     \u001b[39mself\u001b[39m\u001b[39m.\u001b[39mrenderer\u001b[39m.\u001b[39mclear()\n\u001b[1;32m    401\u001b[0m     \u001b[39m# Acquire a lock on the shared font cache.\u001b[39;00m\n",
      "File \u001b[0;32m/usr/local/lib/python3.9/site-packages/matplotlib/_api/deprecation.py:384\u001b[0m, in \u001b[0;36mdelete_parameter.<locals>.wrapper\u001b[0;34m(*inner_args, **inner_kwargs)\u001b[0m\n\u001b[1;32m    379\u001b[0m \u001b[39m@functools\u001b[39m\u001b[39m.\u001b[39mwraps(func)\n\u001b[1;32m    380\u001b[0m \u001b[39mdef\u001b[39;00m \u001b[39mwrapper\u001b[39m(\u001b[39m*\u001b[39minner_args, \u001b[39m*\u001b[39m\u001b[39m*\u001b[39minner_kwargs):\n\u001b[1;32m    381\u001b[0m     \u001b[39mif\u001b[39;00m \u001b[39mlen\u001b[39m(inner_args) \u001b[39m<\u001b[39m\u001b[39m=\u001b[39m name_idx \u001b[39mand\u001b[39;00m name \u001b[39mnot\u001b[39;00m \u001b[39min\u001b[39;00m inner_kwargs:\n\u001b[1;32m    382\u001b[0m         \u001b[39m# Early return in the simple, non-deprecated case (much faster than\u001b[39;00m\n\u001b[1;32m    383\u001b[0m         \u001b[39m# calling bind()).\u001b[39;00m\n\u001b[0;32m--> 384\u001b[0m         \u001b[39mreturn\u001b[39;00m func(\u001b[39m*\u001b[39;49minner_args, \u001b[39m*\u001b[39;49m\u001b[39m*\u001b[39;49minner_kwargs)\n\u001b[1;32m    385\u001b[0m     arguments \u001b[39m=\u001b[39m signature\u001b[39m.\u001b[39mbind(\u001b[39m*\u001b[39minner_args, \u001b[39m*\u001b[39m\u001b[39m*\u001b[39minner_kwargs)\u001b[39m.\u001b[39marguments\n\u001b[1;32m    386\u001b[0m     \u001b[39mif\u001b[39;00m is_varargs \u001b[39mand\u001b[39;00m arguments\u001b[39m.\u001b[39mget(name):\n",
      "File \u001b[0;32m/usr/local/lib/python3.9/site-packages/matplotlib/backends/backend_agg.py:416\u001b[0m, in \u001b[0;36mFigureCanvasAgg.get_renderer\u001b[0;34m(self, cleared)\u001b[0m\n\u001b[1;32m    414\u001b[0m reuse_renderer \u001b[39m=\u001b[39m (\u001b[39mself\u001b[39m\u001b[39m.\u001b[39m_lastKey \u001b[39m==\u001b[39m key)\n\u001b[1;32m    415\u001b[0m \u001b[39mif\u001b[39;00m \u001b[39mnot\u001b[39;00m reuse_renderer:\n\u001b[0;32m--> 416\u001b[0m     \u001b[39mself\u001b[39m\u001b[39m.\u001b[39mrenderer \u001b[39m=\u001b[39m RendererAgg(w, h, \u001b[39mself\u001b[39;49m\u001b[39m.\u001b[39;49mfigure\u001b[39m.\u001b[39;49mdpi)\n\u001b[1;32m    417\u001b[0m     \u001b[39mself\u001b[39m\u001b[39m.\u001b[39m_lastKey \u001b[39m=\u001b[39m key\n\u001b[1;32m    418\u001b[0m \u001b[39melif\u001b[39;00m cleared:\n",
      "File \u001b[0;32m/usr/local/lib/python3.9/site-packages/matplotlib/backends/backend_agg.py:84\u001b[0m, in \u001b[0;36mRendererAgg.__init__\u001b[0;34m(self, width, height, dpi)\u001b[0m\n\u001b[1;32m     82\u001b[0m \u001b[39mself\u001b[39m\u001b[39m.\u001b[39mwidth \u001b[39m=\u001b[39m width\n\u001b[1;32m     83\u001b[0m \u001b[39mself\u001b[39m\u001b[39m.\u001b[39mheight \u001b[39m=\u001b[39m height\n\u001b[0;32m---> 84\u001b[0m \u001b[39mself\u001b[39m\u001b[39m.\u001b[39m_renderer \u001b[39m=\u001b[39m _RendererAgg(\u001b[39mint\u001b[39;49m(width), \u001b[39mint\u001b[39;49m(height), dpi)\n\u001b[1;32m     85\u001b[0m \u001b[39mself\u001b[39m\u001b[39m.\u001b[39m_filter_renderers \u001b[39m=\u001b[39m []\n\u001b[1;32m     87\u001b[0m \u001b[39mself\u001b[39m\u001b[39m.\u001b[39m_update_methods()\n",
      "\u001b[0;31mValueError\u001b[0m: Image size of 547x84332 pixels is too large. It must be less than 2^16 in each direction."
     ]
    },
    {
     "data": {
      "text/plain": [
       "<Figure size 640x480 with 1 Axes>"
      ]
     },
     "metadata": {},
     "output_type": "display_data"
    }
   ],
   "source": [
    "rps10.plot()"
   ]
  },
  {
   "cell_type": "code",
   "execution_count": null,
   "metadata": {},
   "outputs": [],
   "source": []
  },
  {
   "cell_type": "code",
   "execution_count": 150,
   "metadata": {},
   "outputs": [],
   "source": [
    "new_rank = pd.concat(ranks, axis=1)\n",
    "trank = new_rank.T\n",
    "# # new_rank.dropna(inplace=True, axis=1)\n",
    "# for col in columns:\n",
    "#     new_rank[col] = new_rank[col] / len(new_rank[col])"
   ]
  },
  {
   "cell_type": "code",
   "execution_count": null,
   "metadata": {},
   "outputs": [],
   "source": []
  },
  {
   "cell_type": "code",
   "execution_count": 151,
   "metadata": {},
   "outputs": [
    {
     "data": {
      "text/plain": [
       "<AxesSubplot: >"
      ]
     },
     "execution_count": 151,
     "metadata": {},
     "output_type": "execute_result"
    },
    {
     "data": {
      "image/png": "[encoded data removed]",
      "text/plain": [
       "<Figure size 640x480 with 1 Axes>"
      ]
     },
     "metadata": {},
     "output_type": "display_data"
    }
   ],
   "source": [
    "trank[\"SH600000\"].plot()"
   ]
  },
  {
   "cell_type": "code",
   "execution_count": null,
   "metadata": {},
   "outputs": [],
   "source": []
  },
  {
   "cell_type": "code",
   "execution_count": 152,
   "metadata": {},
   "outputs": [],
   "source": [
    "market = get_market_capital(\"SH600000\")\n",
    "dfranks = trank[\"SH600000\"]\n",
    "dfranks = dfranks.to_frame()\n",
    "dfranks[\"market\"] = market"
   ]
  },
  {
   "cell_type": "code",
   "execution_count": 153,
   "metadata": {},
   "outputs": [],
   "source": [
    "dfranks = dfranks.to_frame()\n",
    "dfranks[\"market\"] = market\n"
   ]
  },
  {
   "cell_type": "code",
   "execution_count": 154,
   "metadata": {},
   "outputs": [
    {
     "data": {
      "text/plain": [
       "<AxesSubplot: >"
      ]
     },
     "execution_count": 154,
     "metadata": {},
     "output_type": "execute_result"
    },
    {
     "data": {
      "image/png": "[encoded data removed]",
      "text/plain": [
       "<Figure size 640x480 with 1 Axes>"
      ]
     },
     "metadata": {},
     "output_type": "display_data"
    }
   ],
   "source": [
    "dfranks.plot()"
   ]
  },
  {
   "cell_type": "code",
   "execution_count": null,
   "metadata": {},
   "outputs": [],
   "source": []
  },
  {
   "cell_type": "code",
   "execution_count": 144,
   "metadata": {},
   "outputs": [],
   "source": [
    "import seaborn as sns"
   ]
  },
  {
   "cell_type": "code",
   "execution_count": 155,
   "metadata": {},
   "outputs": [
    {
     "data": {
      "text/plain": [
       "<AxesSubplot: xlabel='market', ylabel='Density'>"
      ]
     },
     "execution_count": 155,
     "metadata": {},
     "output_type": "execute_result"
    },
    {
     "data": {
      "image/png": "[encoded data removed]",
      "text/plain": [
       "<Figure size 640x480 with 1 Axes>"
      ]
     },
     "metadata": {},
     "output_type": "display_data"
    }
   ],
   "source": [
    "sns.kdeplot(dfranks[\"market\"])"
   ]
  },
  {
   "cell_type": "code",
   "execution_count": null,
   "metadata": {},
   "outputs": [],
   "source": []
  },
  {
   "cell_type": "code",
   "execution_count": null,
   "metadata": {},
   "outputs": [],
   "source": []
  },
  {
   "cell_type": "code",
   "execution_count": null,
   "metadata": {},
   "outputs": [],
   "source": []
  },
  {
   "cell_type": "code",
   "execution_count": 140,
   "metadata": {},
   "outputs": [
    {
     "data": {
      "text/plain": [
       "timestamp\n",
       "2022-12-02 00:00:00    212216215532.880005\n",
       "2022-12-01 00:00:00    211922693796.320007\n",
       "2022-11-30 00:00:00    211922693796.320007\n",
       "2022-11-29 00:00:00    213390302479.119995\n",
       "2022-11-28 00:00:00    207519867747.920013\n",
       "Name: SH600000, dtype: object"
      ]
     },
     "execution_count": 140,
     "metadata": {},
     "output_type": "execute_result"
    }
   ],
   "source": [
    "# seaborn plot the market capital and rps10\n",
    "market.head()\n"
   ]
  },
  {
   "cell_type": "code",
   "execution_count": 129,
   "metadata": {},
   "outputs": [],
   "source": [
    "from pandasgui import show"
   ]
  },
  {
   "cell_type": "code",
   "execution_count": 156,
   "metadata": {},
   "outputs": [
    {
     "name": "stderr",
     "output_type": "stream",
     "text": [
      "PandasGUI INFO — pandasgui.gui — Opening PandasGUI\n"
     ]
    },
    {
     "data": {
      "text/plain": [
       "<pandasgui.gui.PandasGui at 0x194b3df70>"
      ]
     },
     "execution_count": 156,
     "metadata": {},
     "output_type": "execute_result"
    }
   ],
   "source": [
    "show(dfranks)"
   ]
  },
  {
   "cell_type": "code",
   "execution_count": null,
   "metadata": {},
   "outputs": [],
   "source": []
  },
  {
   "cell_type": "code",
   "execution_count": null,
   "metadata": {},
   "outputs": [],
   "source": []
  },
  {
   "cell_type": "code",
   "execution_count": null,
   "metadata": {},
   "outputs": [],
   "source": []
  },
  {
   "cell_type": "code",
   "execution_count": null,
   "metadata": {},
   "outputs": [],
   "source": []
  },
  {
   "cell_type": "code",
   "execution_count": null,
   "metadata": {},
   "outputs": [],
   "source": []
  },
  {
   "cell_type": "code",
   "execution_count": 118,
   "metadata": {},
   "outputs": [
    {
     "data": {
      "text/plain": [
       "timestamp\n",
       "2022-12-02    2.122162e+11\n",
       "2022-12-01    2.119227e+11\n",
       "2022-11-30    2.119227e+11\n",
       "2022-11-29    2.133903e+11\n",
       "2022-11-28    2.075199e+11\n",
       "Name: SH600000, dtype: float64"
      ]
     },
     "execution_count": 118,
     "metadata": {},
     "output_type": "execute_result"
    }
   ],
   "source": [
    "market.head()"
   ]
  },
  {
   "cell_type": "code",
   "execution_count": null,
   "metadata": {},
   "outputs": [],
   "source": []
  },
  {
   "cell_type": "code",
   "execution_count": null,
   "metadata": {},
   "outputs": [],
   "source": []
  },
  {
   "cell_type": "code",
   "execution_count": 98,
   "metadata": {},
   "outputs": [
    {
     "data": {
      "text/plain": [
       "4025"
      ]
     },
     "execution_count": 98,
     "metadata": {},
     "output_type": "execute_result"
    }
   ],
   "source": [
    "len(r_t['2022-12-02'])"
   ]
  },
  {
   "cell_type": "code",
   "execution_count": 104,
   "metadata": {},
   "outputs": [
    {
     "data": {
      "text/plain": [
       "SH603105    1385.0\n",
       "SZ002435     716.0\n",
       "SZ002353    1254.0\n",
       "SZ000544    2372.0\n",
       "SH603663    1445.0\n",
       "Name: 2022-12-02 00:00:00, dtype: float64"
      ]
     },
     "execution_count": 104,
     "metadata": {},
     "output_type": "execute_result"
    }
   ],
   "source": [
    "tmp = r_t['2022-12-02']\n",
    "# sort by value and get the rank index\n",
    "nt = tmp.rank(ascending=False)\n",
    "nt.head()\n"
   ]
  },
  {
   "cell_type": "code",
   "execution_count": null,
   "metadata": {},
   "outputs": [],
   "source": []
  },
  {
   "cell_type": "code",
   "execution_count": null,
   "metadata": {},
   "outputs": [],
   "source": []
  },
  {
   "cell_type": "code",
   "execution_count": null,
   "metadata": {},
   "outputs": [],
   "source": []
  },
  {
   "cell_type": "code",
   "execution_count": 78,
   "metadata": {},
   "outputs": [
    {
     "ename": "IndexError",
     "evalue": "too many indices for array",
     "output_type": "error",
     "traceback": [
      "\u001b[0;31m---------------------------------------------------------------------------\u001b[0m",
      "\u001b[0;31mIndexError\u001b[0m                                Traceback (most recent call last)",
      "Cell \u001b[0;32mIn[78], line 1\u001b[0m\n\u001b[0;32m----> 1\u001b[0m increase_rate_10[\u001b[39m\"\u001b[39;49m\u001b[39mSH603105\u001b[39;49m\u001b[39m\"\u001b[39;49m]\u001b[39m.\u001b[39;49mrename(index\u001b[39m=\u001b[39;49m{\u001b[39m'\u001b[39;49m\u001b[39mmarket_capital\u001b[39;49m\u001b[39m'\u001b[39;49m:\u001b[39m'\u001b[39;49m\u001b[39mSH603105\u001b[39;49m\u001b[39m'\u001b[39;49m}, inplace\u001b[39m=\u001b[39;49m\u001b[39mTrue\u001b[39;49;00m)\n\u001b[1;32m      3\u001b[0m increase_rate_10[\u001b[39m\"\u001b[39m\u001b[39mSH603105\u001b[39m\u001b[39m\"\u001b[39m]\u001b[39m.\u001b[39mhead()\n",
      "File \u001b[0;32m/usr/local/lib/python3.9/site-packages/pandas/core/series.py:4997\u001b[0m, in \u001b[0;36mSeries.rename\u001b[0;34m(self, index, axis, copy, inplace, level, errors)\u001b[0m\n\u001b[1;32m   4990\u001b[0m     axis \u001b[39m=\u001b[39m \u001b[39mself\u001b[39m\u001b[39m.\u001b[39m_get_axis_number(axis)\n\u001b[1;32m   4992\u001b[0m \u001b[39mif\u001b[39;00m callable(index) \u001b[39mor\u001b[39;00m is_dict_like(index):\n\u001b[1;32m   4993\u001b[0m     \u001b[39m# error: Argument 1 to \"_rename\" of \"NDFrame\" has incompatible\u001b[39;00m\n\u001b[1;32m   4994\u001b[0m     \u001b[39m# type \"Union[Union[Mapping[Any, Hashable], Callable[[Any],\u001b[39;00m\n\u001b[1;32m   4995\u001b[0m     \u001b[39m# Hashable]], Hashable, None]\"; expected \"Union[Mapping[Any,\u001b[39;00m\n\u001b[1;32m   4996\u001b[0m     \u001b[39m# Hashable], Callable[[Any], Hashable], None]\"\u001b[39;00m\n\u001b[0;32m-> 4997\u001b[0m     \u001b[39mreturn\u001b[39;00m \u001b[39msuper\u001b[39;49m()\u001b[39m.\u001b[39;49m_rename(\n\u001b[1;32m   4998\u001b[0m         index,  \u001b[39m# type: ignore[arg-type]\u001b[39;49;00m\n\u001b[1;32m   4999\u001b[0m         copy\u001b[39m=\u001b[39;49mcopy,\n\u001b[1;32m   5000\u001b[0m         inplace\u001b[39m=\u001b[39;49minplace,\n\u001b[1;32m   5001\u001b[0m         level\u001b[39m=\u001b[39;49mlevel,\n\u001b[1;32m   5002\u001b[0m         errors\u001b[39m=\u001b[39;49merrors,\n\u001b[1;32m   5003\u001b[0m     )\n\u001b[1;32m   5004\u001b[0m \u001b[39melse\u001b[39;00m:\n\u001b[1;32m   5005\u001b[0m     \u001b[39mreturn\u001b[39;00m \u001b[39mself\u001b[39m\u001b[39m.\u001b[39m_set_name(index, inplace\u001b[39m=\u001b[39minplace)\n",
      "File \u001b[0;32m/usr/local/lib/python3.9/site-packages/pandas/core/generic.py:1094\u001b[0m, in \u001b[0;36mNDFrame._rename\u001b[0;34m(self, mapper, index, columns, axis, copy, inplace, level, errors)\u001b[0m\n\u001b[1;32m   1092\u001b[0m     indexer \u001b[39m=\u001b[39m ax\u001b[39m.\u001b[39mget_level_values(level)\u001b[39m.\u001b[39mget_indexer_for(replacements)\n\u001b[1;32m   1093\u001b[0m \u001b[39melse\u001b[39;00m:\n\u001b[0;32m-> 1094\u001b[0m     indexer \u001b[39m=\u001b[39m ax\u001b[39m.\u001b[39;49mget_indexer_for(replacements)\n\u001b[1;32m   1096\u001b[0m \u001b[39mif\u001b[39;00m errors \u001b[39m==\u001b[39m \u001b[39m\"\u001b[39m\u001b[39mraise\u001b[39m\u001b[39m\"\u001b[39m \u001b[39mand\u001b[39;00m \u001b[39mlen\u001b[39m(indexer[indexer \u001b[39m==\u001b[39m \u001b[39m-\u001b[39m\u001b[39m1\u001b[39m]):\n\u001b[1;32m   1097\u001b[0m     missing_labels \u001b[39m=\u001b[39m [\n\u001b[1;32m   1098\u001b[0m         label\n\u001b[1;32m   1099\u001b[0m         \u001b[39mfor\u001b[39;00m index, label \u001b[39min\u001b[39;00m \u001b[39menumerate\u001b[39m(replacements)\n\u001b[1;32m   1100\u001b[0m         \u001b[39mif\u001b[39;00m indexer[index] \u001b[39m==\u001b[39m \u001b[39m-\u001b[39m\u001b[39m1\u001b[39m\n\u001b[1;32m   1101\u001b[0m     ]\n",
      "File \u001b[0;32m/usr/local/lib/python3.9/site-packages/pandas/core/indexes/base.py:6095\u001b[0m, in \u001b[0;36mIndex.get_indexer_for\u001b[0;34m(self, target)\u001b[0m\n\u001b[1;32m   6077\u001b[0m \u001b[39m\"\"\"\u001b[39;00m\n\u001b[1;32m   6078\u001b[0m \u001b[39mGuaranteed return of an indexer even when non-unique.\u001b[39;00m\n\u001b[1;32m   6079\u001b[0m \n\u001b[0;32m   (...)\u001b[0m\n\u001b[1;32m   6092\u001b[0m \u001b[39marray([0, 2])\u001b[39;00m\n\u001b[1;32m   6093\u001b[0m \u001b[39m\"\"\"\u001b[39;00m\n\u001b[1;32m   6094\u001b[0m \u001b[39mif\u001b[39;00m \u001b[39mself\u001b[39m\u001b[39m.\u001b[39m_index_as_unique:\n\u001b[0;32m-> 6095\u001b[0m     \u001b[39mreturn\u001b[39;00m \u001b[39mself\u001b[39;49m\u001b[39m.\u001b[39;49mget_indexer(target)\n\u001b[1;32m   6096\u001b[0m indexer, _ \u001b[39m=\u001b[39m \u001b[39mself\u001b[39m\u001b[39m.\u001b[39mget_indexer_non_unique(target)\n\u001b[1;32m   6097\u001b[0m \u001b[39mreturn\u001b[39;00m indexer\n",
      "File \u001b[0;32m/usr/local/lib/python3.9/site-packages/pandas/core/indexes/base.py:3900\u001b[0m, in \u001b[0;36mIndex.get_indexer\u001b[0;34m(self, target, method, limit, tolerance)\u001b[0m\n\u001b[1;32m   3898\u001b[0m method \u001b[39m=\u001b[39m missing\u001b[39m.\u001b[39mclean_reindex_fill_method(method)\n\u001b[1;32m   3899\u001b[0m orig_target \u001b[39m=\u001b[39m target\n\u001b[0;32m-> 3900\u001b[0m target \u001b[39m=\u001b[39m \u001b[39mself\u001b[39;49m\u001b[39m.\u001b[39;49m_maybe_cast_listlike_indexer(target)\n\u001b[1;32m   3902\u001b[0m \u001b[39mself\u001b[39m\u001b[39m.\u001b[39m_check_indexing_method(method, limit, tolerance)\n\u001b[1;32m   3904\u001b[0m \u001b[39mif\u001b[39;00m \u001b[39mnot\u001b[39;00m \u001b[39mself\u001b[39m\u001b[39m.\u001b[39m_index_as_unique:\n",
      "File \u001b[0;32m/usr/local/lib/python3.9/site-packages/pandas/core/indexes/datetimelike.py:364\u001b[0m, in \u001b[0;36mDatetimeIndexOpsMixin._maybe_cast_listlike_indexer\u001b[0;34m(self, keyarr)\u001b[0m\n\u001b[1;32m    361\u001b[0m \u001b[39m@doc\u001b[39m(Index\u001b[39m.\u001b[39m_maybe_cast_listlike_indexer)\n\u001b[1;32m    362\u001b[0m \u001b[39mdef\u001b[39;00m \u001b[39m_maybe_cast_listlike_indexer\u001b[39m(\u001b[39mself\u001b[39m, keyarr):\n\u001b[1;32m    363\u001b[0m     \u001b[39mtry\u001b[39;00m:\n\u001b[0;32m--> 364\u001b[0m         res \u001b[39m=\u001b[39m \u001b[39mself\u001b[39;49m\u001b[39m.\u001b[39;49m_data\u001b[39m.\u001b[39;49m_validate_listlike(keyarr, allow_object\u001b[39m=\u001b[39;49m\u001b[39mTrue\u001b[39;49;00m)\n\u001b[1;32m    365\u001b[0m     \u001b[39mexcept\u001b[39;00m (\u001b[39mValueError\u001b[39;00m, \u001b[39mTypeError\u001b[39;00m):\n\u001b[1;32m    366\u001b[0m         \u001b[39mif\u001b[39;00m \u001b[39mnot\u001b[39;00m \u001b[39misinstance\u001b[39m(keyarr, ExtensionArray):\n\u001b[1;32m    367\u001b[0m             \u001b[39m# e.g. we don't want to cast DTA to ndarray[object]\u001b[39;00m\n",
      "File \u001b[0;32m/usr/local/lib/python3.9/site-packages/pandas/core/arrays/datetimelike.py:749\u001b[0m, in \u001b[0;36mDatetimeLikeArrayMixin._validate_listlike\u001b[0;34m(self, value, allow_object)\u001b[0m\n\u001b[1;32m    746\u001b[0m \u001b[39m# Do type inference if necessary up front (after unpacking PandasArray)\u001b[39;00m\n\u001b[1;32m    747\u001b[0m \u001b[39m# e.g. we passed PeriodIndex.values and got an ndarray of Periods\u001b[39;00m\n\u001b[1;32m    748\u001b[0m value \u001b[39m=\u001b[39m extract_array(value, extract_numpy\u001b[39m=\u001b[39m\u001b[39mTrue\u001b[39;00m)\n\u001b[0;32m--> 749\u001b[0m value \u001b[39m=\u001b[39m pd_array(value)\n\u001b[1;32m    750\u001b[0m value \u001b[39m=\u001b[39m extract_array(value, extract_numpy\u001b[39m=\u001b[39m\u001b[39mTrue\u001b[39;00m)\n\u001b[1;32m    752\u001b[0m \u001b[39mif\u001b[39;00m is_all_strings(value):\n\u001b[1;32m    753\u001b[0m     \u001b[39m# We got a StringArray\u001b[39;00m\n",
      "File \u001b[0;32m/usr/local/lib/python3.9/site-packages/pandas/core/construction.py:357\u001b[0m, in \u001b[0;36marray\u001b[0;34m(data, dtype, copy)\u001b[0m\n\u001b[1;32m    353\u001b[0m     \u001b[39mreturn\u001b[39;00m TimedeltaArray\u001b[39m.\u001b[39m_from_sequence(data, copy\u001b[39m=\u001b[39mcopy)\n\u001b[1;32m    355\u001b[0m \u001b[39melif\u001b[39;00m inferred_dtype \u001b[39m==\u001b[39m \u001b[39m\"\u001b[39m\u001b[39mstring\u001b[39m\u001b[39m\"\u001b[39m:\n\u001b[1;32m    356\u001b[0m     \u001b[39m# StringArray/ArrowStringArray depending on pd.options.mode.string_storage\u001b[39;00m\n\u001b[0;32m--> 357\u001b[0m     \u001b[39mreturn\u001b[39;00m StringDtype()\u001b[39m.\u001b[39;49mconstruct_array_type()\u001b[39m.\u001b[39;49m_from_sequence(data, copy\u001b[39m=\u001b[39;49mcopy)\n\u001b[1;32m    359\u001b[0m \u001b[39melif\u001b[39;00m inferred_dtype \u001b[39m==\u001b[39m \u001b[39m\"\u001b[39m\u001b[39minteger\u001b[39m\u001b[39m\"\u001b[39m:\n\u001b[1;32m    360\u001b[0m     \u001b[39mreturn\u001b[39;00m IntegerArray\u001b[39m.\u001b[39m_from_sequence(data, copy\u001b[39m=\u001b[39mcopy)\n",
      "File \u001b[0;32m/usr/local/lib/python3.9/site-packages/pandas/core/arrays/string_.py:346\u001b[0m, in \u001b[0;36mStringArray._from_sequence\u001b[0;34m(cls, scalars, dtype, copy)\u001b[0m\n\u001b[1;32m    342\u001b[0m     result[na_values] \u001b[39m=\u001b[39m libmissing\u001b[39m.\u001b[39mNA\n\u001b[1;32m    344\u001b[0m \u001b[39melse\u001b[39;00m:\n\u001b[1;32m    345\u001b[0m     \u001b[39m# convert non-na-likes to str, and nan-likes to StringDtype().na_value\u001b[39;00m\n\u001b[0;32m--> 346\u001b[0m     result \u001b[39m=\u001b[39m lib\u001b[39m.\u001b[39;49mensure_string_array(scalars, na_value\u001b[39m=\u001b[39;49mlibmissing\u001b[39m.\u001b[39;49mNA, copy\u001b[39m=\u001b[39;49mcopy)\n\u001b[1;32m    348\u001b[0m \u001b[39m# Manually creating new array avoids the validation step in the __init__, so is\u001b[39;00m\n\u001b[1;32m    349\u001b[0m \u001b[39m# faster. Refactor need for validation?\u001b[39;00m\n\u001b[1;32m    350\u001b[0m new_string_array \u001b[39m=\u001b[39m \u001b[39mcls\u001b[39m\u001b[39m.\u001b[39m\u001b[39m__new__\u001b[39m(\u001b[39mcls\u001b[39m)\n",
      "File \u001b[0;32m/usr/local/lib/python3.9/site-packages/pandas/_libs/lib.pyx:702\u001b[0m, in \u001b[0;36mpandas._libs.lib.ensure_string_array\u001b[0;34m()\u001b[0m\n",
      "File \u001b[0;32m/usr/local/lib/python3.9/site-packages/pandas/_libs/lib.pyx:753\u001b[0m, in \u001b[0;36mpandas._libs.lib.ensure_string_array\u001b[0;34m()\u001b[0m\n",
      "\u001b[0;31mIndexError\u001b[0m: too many indices for array"
     ]
    }
   ],
   "source": [
    "increase_rate_10[\"SH603105\"].rename(columns={'market_capital':'SH603105'}, inplace=True)\n",
    "\n",
    "increase_rate_10[\"SH603105\"].head"
   ]
  },
  {
   "cell_type": "code",
   "execution_count": null,
   "metadata": {},
   "outputs": [],
   "source": []
  },
  {
   "cell_type": "code",
   "execution_count": null,
   "metadata": {},
   "outputs": [],
   "source": []
  },
  {
   "cell_type": "code",
   "execution_count": 63,
   "metadata": {},
   "outputs": [
    {
     "data": {
      "text/plain": [
       "timestamp\n",
       "2022-12-02   -0.011896\n",
       "2022-12-01   -0.009797\n",
       "2022-11-30   -0.009871\n",
       "2022-11-29   -0.017151\n",
       "2022-11-28   -0.047273\n",
       "Name: market_capital, dtype: float64"
      ]
     },
     "execution_count": 63,
     "metadata": {},
     "output_type": "execute_result"
    }
   ],
   "source": [
    "increase_rate_10[\"SH603105\"].head()"
   ]
  },
  {
   "cell_type": "code",
   "execution_count": null,
   "metadata": {},
   "outputs": [],
   "source": []
  },
  {
   "cell_type": "code",
   "execution_count": null,
   "metadata": {},
   "outputs": [],
   "source": []
  },
  {
   "cell_type": "code",
   "execution_count": null,
   "metadata": {},
   "outputs": [],
   "source": []
  },
  {
   "cell_type": "code",
   "execution_count": null,
   "metadata": {},
   "outputs": [],
   "source": []
  },
  {
   "cell_type": "code",
   "execution_count": 55,
   "metadata": {},
   "outputs": [
    {
     "data": {
      "text/plain": [
       "DatetimeIndex(['2022-12-02', '2022-12-01', '2022-11-30', '2022-11-29',\n",
       "               '2022-11-28', '2022-11-25', '2022-11-24', '2022-11-23',\n",
       "               '2022-11-22', '2022-11-21',\n",
       "               ...\n",
       "               '2010-06-23', '2010-06-22', '2010-06-21', '2010-06-18',\n",
       "               '2010-06-17', '2010-06-11', '2010-06-10', '2010-06-09',\n",
       "               '2010-06-08', '2010-06-07'],\n",
       "              dtype='datetime64[ns]', name='timestamp', length=3000, freq=None)"
      ]
     },
     "execution_count": 55,
     "metadata": {},
     "output_type": "execute_result"
    }
   ],
   "source": [
    "code=\"SH600000\"\n",
    "file_name = \"out/SH600000.csv\"\n",
    "df = pd.read_csv(file_name, index_col=0, parse_dates=True)\n",
    "df = df.sort_index(ascending=False)\n",
    "market_capital = df[\"market_capital\"]\n",
    "market_capital.index"
   ]
  },
  {
   "cell_type": "code",
   "execution_count": null,
   "metadata": {},
   "outputs": [],
   "source": []
  },
  {
   "cell_type": "code",
   "execution_count": 19,
   "metadata": {},
   "outputs": [
    {
     "data": {
      "text/plain": [
       "<AxesSubplot: xlabel='timestamp'>"
      ]
     },
     "execution_count": 19,
     "metadata": {},
     "output_type": "execute_result"
    },
    {
     "data": {
      "image/png": "[encoded data removed]",
      "text/plain": [
       "<Figure size 640x480 with 1 Axes>"
      ]
     },
     "metadata": {},
     "output_type": "display_data"
    }
   ],
   "source": [
    "market_capital.plot()"
   ]
  },
  {
   "cell_type": "code",
   "execution_count": 36,
   "metadata": {},
   "outputs": [
    {
     "data": {
      "text/plain": [
       "timestamp\n",
       "2022-12-02    2.122162e+11\n",
       "2022-12-01    2.119227e+11\n",
       "2022-11-30    2.119227e+11\n",
       "2022-11-29    2.133903e+11\n",
       "2022-11-28    2.075199e+11\n",
       "Name: market_capital, dtype: float64"
      ]
     },
     "execution_count": 36,
     "metadata": {},
     "output_type": "execute_result"
    }
   ],
   "source": [
    "market_capital.head()"
   ]
  },
  {
   "cell_type": "code",
   "execution_count": 37,
   "metadata": {},
   "outputs": [
    {
     "data": {
      "text/plain": [
       "DatetimeIndex(['2022-12-02', '2022-12-01', '2022-11-30', '2022-11-29',\n",
       "               '2022-11-28', '2022-11-25', '2022-11-24', '2022-11-23',\n",
       "               '2022-11-22', '2022-11-21',\n",
       "               ...\n",
       "               '2010-06-23', '2010-06-22', '2010-06-21', '2010-06-18',\n",
       "               '2010-06-17', '2010-06-11', '2010-06-10', '2010-06-09',\n",
       "               '2010-06-08', '2010-06-07'],\n",
       "              dtype='datetime64[ns]', name='timestamp', length=3000, freq=None)"
      ]
     },
     "execution_count": 37,
     "metadata": {},
     "output_type": "execute_result"
    }
   ],
   "source": [
    "market_capital.index"
   ]
  },
  {
   "cell_type": "code",
   "execution_count": 44,
   "metadata": {},
   "outputs": [
    {
     "data": {
      "text/plain": [
       "202823504000.0"
      ]
     },
     "execution_count": 44,
     "metadata": {},
     "output_type": "execute_result"
    }
   ],
   "source": [
    "2.122162e+11 - 9.392696e+09\n",
    "    "
   ]
  },
  {
   "cell_type": "code",
   "execution_count": null,
   "metadata": {},
   "outputs": [],
   "source": []
  },
  {
   "cell_type": "code",
   "execution_count": 49,
   "metadata": {},
   "outputs": [],
   "source": [
    "t = market_capital.diff(-9)\n",
    "t1 = market_capital.shift(-9)\n",
    "t2 = t / t1"
   ]
  },
  {
   "cell_type": "code",
   "execution_count": 50,
   "metadata": {},
   "outputs": [
    {
     "data": {
      "text/plain": [
       "timestamp\n",
       "2022-12-02    0.050872\n",
       "2022-12-01    0.044863\n",
       "2022-11-30    0.034384\n",
       "2022-11-29    0.034139\n",
       "2022-11-28    0.001416\n",
       "Name: market_capital, dtype: float64"
      ]
     },
     "execution_count": 50,
     "metadata": {},
     "output_type": "execute_result"
    }
   ],
   "source": [
    "t2.head()"
   ]
  },
  {
   "cell_type": "code",
   "execution_count": null,
   "metadata": {},
   "outputs": [],
   "source": []
  },
  {
   "cell_type": "code",
   "execution_count": 46,
   "metadata": {},
   "outputs": [
    {
     "data": {
      "text/plain": [
       "timestamp\n",
       "2022-12-02    1.027326e+10\n",
       "2022-12-01    9.099174e+09\n",
       "2022-11-30    7.044522e+09\n",
       "2022-11-29    7.044522e+09\n",
       "2022-11-28    2.935217e+08\n",
       "2022-11-25    4.109304e+09\n",
       "2022-11-24    2.641696e+09\n",
       "2022-11-23    7.925087e+09\n",
       "2022-11-22    6.751000e+09\n",
       "2022-11-21    2.641696e+09\n",
       "2022-11-18    2.935217e+09\n",
       "2022-11-17    5.576913e+09\n",
       "2022-11-16    1.086030e+10\n",
       "2022-11-15    1.027326e+10\n",
       "2022-11-14    8.512130e+09\n",
       "2022-11-11    8.805652e+09\n",
       "2022-11-10   -5.870435e+08\n",
       "2022-11-09   -8.805652e+08\n",
       "2022-11-08   -8.805652e+08\n",
       "2022-11-07   -8.805652e+08\n",
       "Name: market_capital, dtype: float64"
      ]
     },
     "execution_count": 46,
     "metadata": {},
     "output_type": "execute_result"
    }
   ],
   "source": [
    "t.head(20)"
   ]
  },
  {
   "cell_type": "code",
   "execution_count": null,
   "metadata": {},
   "outputs": [],
   "source": []
  },
  {
   "cell_type": "code",
   "execution_count": 35,
   "metadata": {},
   "outputs": [
    {
     "data": {
      "text/plain": [
       "10273200000.0"
      ]
     },
     "execution_count": 35,
     "metadata": {},
     "output_type": "execute_result"
    }
   ],
   "source": [
    "2.122162e+11 - 2.019430e+11"
   ]
  },
  {
   "cell_type": "code",
   "execution_count": 48,
   "metadata": {},
   "outputs": [
    {
     "data": {
      "text/plain": [
       "timestamp\n",
       "2022-12-02    2.019430e+11\n",
       "2022-12-01    2.028235e+11\n",
       "2022-11-30    2.048782e+11\n",
       "2022-11-29    2.063458e+11\n",
       "2022-11-28    2.072263e+11\n",
       "2022-11-25    2.063458e+11\n",
       "2022-11-24    2.037041e+11\n",
       "2022-11-23    1.990077e+11\n",
       "2022-11-22    1.993013e+11\n",
       "2022-11-21    1.993013e+11\n",
       "2022-11-18    1.998883e+11\n",
       "2022-11-17    1.993013e+11\n",
       "2022-11-16    1.954855e+11\n",
       "2022-11-15    1.969531e+11\n",
       "2022-11-14    1.978337e+11\n",
       "2022-11-11    1.948984e+11\n",
       "2022-11-10    1.995948e+11\n",
       "2022-11-09    2.001818e+11\n",
       "2022-11-08    2.001818e+11\n",
       "2022-11-07    2.007689e+11\n",
       "Name: market_capital, dtype: float64"
      ]
     },
     "execution_count": 48,
     "metadata": {},
     "output_type": "execute_result"
    }
   ],
   "source": [
    "t1.head(20)\n"
   ]
  },
  {
   "cell_type": "code",
   "execution_count": null,
   "metadata": {},
   "outputs": [],
   "source": []
  },
  {
   "cell_type": "code",
   "execution_count": 9,
   "metadata": {},
   "outputs": [],
   "source": []
  },
  {
   "cell_type": "code",
   "execution_count": 10,
   "metadata": {},
   "outputs": [
    {
     "data": {
      "text/plain": [
       "timestamp\n",
       "2010-06-07    1.557620e+11\n",
       "2010-06-08    1.536428e+11\n",
       "2010-06-09    1.633558e+11\n",
       "2010-06-10    1.572631e+11\n",
       "2010-06-11    1.586406e+11\n",
       "Name: market_capital, dtype: float64"
      ]
     },
     "execution_count": 10,
     "metadata": {},
     "output_type": "execute_result"
    }
   ],
   "source": [
    "market_capital.head()"
   ]
  },
  {
   "cell_type": "code",
   "execution_count": 11,
   "metadata": {},
   "outputs": [
    {
     "data": {
      "text/plain": [
       "<AxesSubplot: xlabel='timestamp'>"
      ]
     },
     "execution_count": 11,
     "metadata": {},
     "output_type": "execute_result"
    },
    {
     "data": {
      "image/png": "[encoded data removed]",
      "text/plain": [
       "<Figure size 640x480 with 1 Axes>"
      ]
     },
     "metadata": {},
     "output_type": "display_data"
    }
   ],
   "source": [
    "market_capital.plot()"
   ]
  },
  {
   "cell_type": "code",
   "execution_count": 14,
   "metadata": {},
   "outputs": [
    {
     "data": {
      "text/plain": [
       "<AxesSubplot: xlabel='timestamp'>"
      ]
     },
     "execution_count": 14,
     "metadata": {},
     "output_type": "execute_result"
    },
    {
     "data": {
      "image/png": "[encoded data removed]",
      "text/plain": [
       "<Figure size 640x480 with 1 Axes>"
      ]
     },
     "metadata": {},
     "output_type": "display_data"
    }
   ],
   "source": [
    "# calculate the change of market capital by 10 days\n",
    "market_capital.diff(-10).plot()\n"
   ]
  },
  {
   "cell_type": "code",
   "execution_count": null,
   "metadata": {},
   "outputs": [],
   "source": []
  },
  {
   "cell_type": "code",
   "execution_count": null,
   "metadata": {},
   "outputs": [],
   "source": []
  },
  {
   "cell_type": "code",
   "execution_count": null,
   "metadata": {},
   "outputs": [],
   "source": []
  },
  {
   "cell_type": "code",
   "execution_count": null,
   "metadata": {},
   "outputs": [],
   "source": []
  },
  {
   "cell_type": "code",
   "execution_count": null,
   "metadata": {},
   "outputs": [],
   "source": []
  },
  {
   "cell_type": "code",
   "execution_count": null,
   "metadata": {},
   "outputs": [],
   "source": []
  }
 ],
 "metadata": {
  "kernelspec": {
   "display_name": "Python 3.9.13 64-bit",
   "language": "python",
   "name": "python3"
  },
  "language_info": {
   "codemirror_mode": {
    "name": "ipython",
    "version": 3
   },
   "file_extension": ".py",
   "mimetype": "text/x-python",
   "name": "python",
   "nbconvert_exporter": "python",
   "pygments_lexer": "ipython3",
   "version": "3.9.13"
  },
  "orig_nbformat": 4,
  "vscode": {
   "interpreter": {
    "hash": "aee8b7b246df8f9039afb4144a1f6fd8d2ca17a180786b69acc140d282b71a49"
   }
  }
 },
 "nbformat": 4,
 "nbformat_minor": 2
}
