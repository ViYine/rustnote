{
 "cells": [
  {
   "cell_type": "code",
   "execution_count": 2,
   "metadata": {},
   "outputs": [],
   "source": [
    "import pandas as pd\n",
    "import pathlib\n",
    "import pandas as pd\n",
    "import numpy as np\n",
    "import chart_studio.plotly as py\n",
    "import plotly.figure_factory as ff\n",
    "\n",
    "# get relative data folder\n",
    "# PATH = pathlib.Path(__file__).parent\n",
    "# DATA_PATH = PATH.joinpath(\"../data\").resolve()\n",
    "import os\n",
    "import sys\n",
    "CWDIR = os.getcwd()\n",
    "KLINE_PATH = f\"{CWDIR}/kline_out/\" # PATH.joinpath(\"../data/kline\").resolve()\n",
    "FINIAL_PATH = f\"{CWDIR}/output_base/\" # PATH.joinpath(\"../data/finial\").resolve()\n",
    "FIXTURE_PATH =  f\"{CWDIR}/fixtures/\" # PATH.joinpath(\"../data/fixture\").resolve()"
   ]
  },
  {
   "cell_type": "code",
   "execution_count": null,
   "metadata": {},
   "outputs": [],
   "source": []
  },
  {
   "cell_type": "code",
   "execution_count": 3,
   "metadata": {},
   "outputs": [
    {
     "data": {
      "text/plain": [
       "'/Users/tackyx/rust/finial_axum'"
      ]
     },
     "execution_count": 3,
     "metadata": {},
     "output_type": "execute_result"
    }
   ],
   "source": [
    "import os\n",
    "os.getcwd()\n"
   ]
  },
  {
   "cell_type": "code",
   "execution_count": null,
   "metadata": {},
   "outputs": [],
   "source": []
  },
  {
   "cell_type": "code",
   "execution_count": 4,
   "metadata": {},
   "outputs": [],
   "source": [
    "# __file__\n"
   ]
  },
  {
   "cell_type": "code",
   "execution_count": 5,
   "metadata": {},
   "outputs": [
    {
     "name": "stdout",
     "output_type": "stream",
     "text": [
      "all code: 4025\n"
     ]
    }
   ],
   "source": [
    " # all code \n",
    "# read from fixtures/SH.code and fixtures/SZ.code\n",
    "with open(f\"{FIXTURE_PATH}/SH.code\", \"r\") as f:\n",
    "    sh_code = f.read().splitlines()\n",
    "with open(f\"{FIXTURE_PATH}/SZ.code\", \"r\") as f:\n",
    "    sz_code = f.read().splitlines()\n",
    "# get all code\n",
    "all_code1 = sh_code + sz_code\n",
    "print(\"all code: {}\".format(len(all_code1)))"
   ]
  },
  {
   "cell_type": "code",
   "execution_count": 6,
   "metadata": {},
   "outputs": [],
   "source": [
    "info_df = pd.read_csv(f\"{FIXTURE_PATH}/stock_info.csv\", index_col=0)"
   ]
  },
  {
   "cell_type": "code",
   "execution_count": 7,
   "metadata": {},
   "outputs": [],
   "source": [
    "st = info_df.query(\"股票代码 == '603609.SH'\")"
   ]
  },
  {
   "cell_type": "code",
   "execution_count": 8,
   "metadata": {},
   "outputs": [],
   "source": [
    "df_brief = info_df[[\"股票代码\", \"公司名称\", \"三类行业\", \"二类行业\", \"一类行业\", \"区域\",\"简介\"]]"
   ]
  },
  {
   "cell_type": "code",
   "execution_count": 9,
   "metadata": {},
   "outputs": [],
   "source": [
    "# df_brief 去重\n",
    "df_brief = df_brief.drop_duplicates(subset=[\"股票代码\"], keep=\"first\")"
   ]
  },
  {
   "cell_type": "code",
   "execution_count": 10,
   "metadata": {},
   "outputs": [],
   "source": [
    "df_brief = df_brief.set_index(\"股票代码\")"
   ]
  },
  {
   "cell_type": "code",
   "execution_count": 11,
   "metadata": {},
   "outputs": [
    {
     "data": {
      "text/html": [
       "<div>\n",
       "<style scoped>\n",
       "    .dataframe tbody tr th:only-of-type {\n",
       "        vertical-align: middle;\n",
       "    }\n",
       "\n",
       "    .dataframe tbody tr th {\n",
       "        vertical-align: top;\n",
       "    }\n",
       "\n",
       "    .dataframe thead th {\n",
       "        text-align: right;\n",
       "    }\n",
       "</style>\n",
       "<table border=\"1\" class=\"dataframe\">\n",
       "  <thead>\n",
       "    <tr style=\"text-align: right;\">\n",
       "      <th></th>\n",
       "      <th>公司名称</th>\n",
       "      <th>三类行业</th>\n",
       "      <th>二类行业</th>\n",
       "      <th>一类行业</th>\n",
       "      <th>区域</th>\n",
       "      <th>简介</th>\n",
       "    </tr>\n",
       "    <tr>\n",
       "      <th>股票代码</th>\n",
       "      <th></th>\n",
       "      <th></th>\n",
       "      <th></th>\n",
       "      <th></th>\n",
       "      <th></th>\n",
       "      <th></th>\n",
       "    </tr>\n",
       "  </thead>\n",
       "  <tbody>\n",
       "    <tr>\n",
       "      <th>600000.SH</th>\n",
       "      <td>浦发银行</td>\n",
       "      <td>股份制银行Ⅲ</td>\n",
       "      <td>股份制银行Ⅱ</td>\n",
       "      <td>银行</td>\n",
       "      <td>上海市</td>\n",
       "      <td>公司是1999年在上海证券交易所挂牌上市的全国性股份制商业银行。\\r\\n近年来，浦发银行加快...</td>\n",
       "    </tr>\n",
       "    <tr>\n",
       "      <th>600004.SH</th>\n",
       "      <td>白云机场</td>\n",
       "      <td>机场</td>\n",
       "      <td>航空机场</td>\n",
       "      <td>交通运输</td>\n",
       "      <td>广州市</td>\n",
       "      <td>公司是国内三大门户复合型枢纽机场之一，是国家着力打造的珠三角世界级机场群及粤港澳大湾区的核心...</td>\n",
       "    </tr>\n",
       "    <tr>\n",
       "      <th>600006.SH</th>\n",
       "      <td>东风汽车</td>\n",
       "      <td>商用载货车</td>\n",
       "      <td>商用车</td>\n",
       "      <td>汽车</td>\n",
       "      <td>襄阳市</td>\n",
       "      <td>公司作为东风汽车集团有限公司轻型商用车事业的承担者，主营业务为全系列轻型商用车整车和动力总成...</td>\n",
       "    </tr>\n",
       "    <tr>\n",
       "      <th>600007.SH</th>\n",
       "      <td>中国国贸</td>\n",
       "      <td>商业地产</td>\n",
       "      <td>房地产开发</td>\n",
       "      <td>房地产</td>\n",
       "      <td>北京市</td>\n",
       "      <td>公司是经国务院批准成立的，是中国乃至全球规模最大、功能最齐全的综合性高档商务服务大型中外合资...</td>\n",
       "    </tr>\n",
       "    <tr>\n",
       "      <th>600008.SH</th>\n",
       "      <td>首创环保</td>\n",
       "      <td>水务及水治理</td>\n",
       "      <td>环境治理</td>\n",
       "      <td>环保</td>\n",
       "      <td>北京市</td>\n",
       "      <td>公司是北京首都创业集团旗下国有控股环保旗舰企业。\\r\\n公司主要从事环境综合服务业务，业务范...</td>\n",
       "    </tr>\n",
       "  </tbody>\n",
       "</table>\n",
       "</div>"
      ],
      "text/plain": [
       "           公司名称    三类行业    二类行业  一类行业   区域  \\\n",
       "股票代码                                         \n",
       "600000.SH  浦发银行  股份制银行Ⅲ  股份制银行Ⅱ    银行  上海市   \n",
       "600004.SH  白云机场      机场    航空机场  交通运输  广州市   \n",
       "600006.SH  东风汽车   商用载货车     商用车    汽车  襄阳市   \n",
       "600007.SH  中国国贸    商业地产   房地产开发   房地产  北京市   \n",
       "600008.SH  首创环保  水务及水治理    环境治理    环保  北京市   \n",
       "\n",
       "                                                          简介  \n",
       "股票代码                                                          \n",
       "600000.SH  公司是1999年在上海证券交易所挂牌上市的全国性股份制商业银行。\\r\\n近年来，浦发银行加快...  \n",
       "600004.SH  公司是国内三大门户复合型枢纽机场之一，是国家着力打造的珠三角世界级机场群及粤港澳大湾区的核心...  \n",
       "600006.SH  公司作为东风汽车集团有限公司轻型商用车事业的承担者，主营业务为全系列轻型商用车整车和动力总成...  \n",
       "600007.SH  公司是经国务院批准成立的，是中国乃至全球规模最大、功能最齐全的综合性高档商务服务大型中外合资...  \n",
       "600008.SH  公司是北京首都创业集团旗下国有控股环保旗舰企业。\\r\\n公司主要从事环境综合服务业务，业务范...  "
      ]
     },
     "execution_count": 11,
     "metadata": {},
     "output_type": "execute_result"
    }
   ],
   "source": [
    "df_brief.head()"
   ]
  },
  {
   "cell_type": "code",
   "execution_count": null,
   "metadata": {},
   "outputs": [],
   "source": []
  },
  {
   "cell_type": "code",
   "execution_count": null,
   "metadata": {},
   "outputs": [],
   "source": []
  },
  {
   "cell_type": "code",
   "execution_count": null,
   "metadata": {},
   "outputs": [],
   "source": []
  },
  {
   "cell_type": "code",
   "execution_count": 12,
   "metadata": {},
   "outputs": [],
   "source": [
    "# table = ff.create_table(info_df.query(\"股票代码 == '600004.SH'\"))\n",
    "# py.iplot(table, filename='jupyter-table1')\n"
   ]
  },
  {
   "cell_type": "code",
   "execution_count": null,
   "metadata": {},
   "outputs": [],
   "source": []
  },
  {
   "cell_type": "code",
   "execution_count": null,
   "metadata": {},
   "outputs": [],
   "source": []
  },
  {
   "cell_type": "code",
   "execution_count": 13,
   "metadata": {},
   "outputs": [],
   "source": [
    "all_code = info_df[\"股票代码\"].unique()\n",
    "# '600966.SH.csv' => 'SH603105.csv'\n",
    "def get_kline_file_name(finial_file_name):\n",
    "    sp = finial_file_name.split(\".\")\n",
    "    return sp[1] + sp[0] + \".csv\""
   ]
  },
  {
   "cell_type": "code",
   "execution_count": 14,
   "metadata": {},
   "outputs": [
    {
     "data": {
      "text/plain": [
       "'SH600966.csv'"
      ]
     },
     "execution_count": 14,
     "metadata": {},
     "output_type": "execute_result"
    }
   ],
   "source": [
    "get_kline_file_name(\"600966.SH\")"
   ]
  },
  {
   "cell_type": "code",
   "execution_count": 15,
   "metadata": {},
   "outputs": [],
   "source": [
    "# get all code finial data and kline data to one dataframe\n",
    "def get_all_code_data():\n",
    "    finial_df = []\n",
    "    kline_df = []\n",
    "    for code in all_code:\n",
    "        # read finial data\n",
    "        try:\n",
    "            cur_df = pd.read_csv(f\"{FINIAL_PATH}/{code}.csv\", index_col=0, parse_dates=True,na_values='--')\n",
    "            cur_df[\"code\"] = code\n",
    "            finial_df.append(cur_df)\n",
    "        except Exception as e:\n",
    "            print(f\"finial data {code} error: {e}\")\n",
    "            pass\n",
    "        # read kline data\n",
    "        try:\n",
    "            kline_file_name = get_kline_file_name(code)\n",
    "            cur_fdf = pd.read_csv(f\"{KLINE_PATH}/{kline_file_name}\",index_col=0, parse_dates=True,na_values='--')\n",
    "            cur_fdf[\"code\"] = code\n",
    "            kline_df.append(cur_fdf)\n",
    "        except Exception as e:\n",
    "            print(f\"kline data {code} error: {e}\")\n",
    "            pass\n",
    "    return pd.concat(finial_df), pd.concat(kline_df)"
   ]
  },
  {
   "cell_type": "code",
   "execution_count": 16,
   "metadata": {},
   "outputs": [
    {
     "name": "stdout",
     "output_type": "stream",
     "text": [
      "finial data 600000.SH error: [Errno 2] No such file or directory: '/Users/tackyx/rust/finial_axum/output_base//600000.SH.csv'\n",
      "finial data 600015.SH error: [Errno 2] No such file or directory: '/Users/tackyx/rust/finial_axum/output_base//600015.SH.csv'\n",
      "finial data 600016.SH error: [Errno 2] No such file or directory: '/Users/tackyx/rust/finial_axum/output_base//600016.SH.csv'\n",
      "finial data 600030.SH error: [Errno 2] No such file or directory: '/Users/tackyx/rust/finial_axum/output_base//600030.SH.csv'\n",
      "finial data 600036.SH error: [Errno 2] No such file or directory: '/Users/tackyx/rust/finial_axum/output_base//600036.SH.csv'\n",
      "finial data 600155.SH error: [Errno 2] No such file or directory: '/Users/tackyx/rust/finial_axum/output_base//600155.SH.csv'\n",
      "finial data 600369.SH error: [Errno 2] No such file or directory: '/Users/tackyx/rust/finial_axum/output_base//600369.SH.csv'\n",
      "finial data 600816.SH error: [Errno 2] No such file or directory: '/Users/tackyx/rust/finial_axum/output_base//600816.SH.csv'\n",
      "finial data 600837.SH error: [Errno 2] No such file or directory: '/Users/tackyx/rust/finial_axum/output_base//600837.SH.csv'\n",
      "finial data 600901.SH error: [Errno 2] No such file or directory: '/Users/tackyx/rust/finial_axum/output_base//600901.SH.csv'\n",
      "finial data 600906.SH error: [Errno 2] No such file or directory: '/Users/tackyx/rust/finial_axum/output_base//600906.SH.csv'\n",
      "finial data 600908.SH error: [Errno 2] No such file or directory: '/Users/tackyx/rust/finial_axum/output_base//600908.SH.csv'\n",
      "finial data 600909.SH error: [Errno 2] No such file or directory: '/Users/tackyx/rust/finial_axum/output_base//600909.SH.csv'\n",
      "finial data 600918.SH error: [Errno 2] No such file or directory: '/Users/tackyx/rust/finial_axum/output_base//600918.SH.csv'\n",
      "finial data 600919.SH error: [Errno 2] No such file or directory: '/Users/tackyx/rust/finial_axum/output_base//600919.SH.csv'\n",
      "finial data 600926.SH error: [Errno 2] No such file or directory: '/Users/tackyx/rust/finial_axum/output_base//600926.SH.csv'\n",
      "finial data 600928.SH error: [Errno 2] No such file or directory: '/Users/tackyx/rust/finial_axum/output_base//600928.SH.csv'\n",
      "finial data 600958.SH error: [Errno 2] No such file or directory: '/Users/tackyx/rust/finial_axum/output_base//600958.SH.csv'\n",
      "finial data 600999.SH error: [Errno 2] No such file or directory: '/Users/tackyx/rust/finial_axum/output_base//600999.SH.csv'\n",
      "finial data 601009.SH error: [Errno 2] No such file or directory: '/Users/tackyx/rust/finial_axum/output_base//601009.SH.csv'\n",
      "finial data 601066.SH error: [Errno 2] No such file or directory: '/Users/tackyx/rust/finial_axum/output_base//601066.SH.csv'\n",
      "finial data 601077.SH error: [Errno 2] No such file or directory: '/Users/tackyx/rust/finial_axum/output_base//601077.SH.csv'\n",
      "finial data 601099.SH error: [Errno 2] No such file or directory: '/Users/tackyx/rust/finial_axum/output_base//601099.SH.csv'\n",
      "finial data 601108.SH error: [Errno 2] No such file or directory: '/Users/tackyx/rust/finial_axum/output_base//601108.SH.csv'\n",
      "finial data 601128.SH error: [Errno 2] No such file or directory: '/Users/tackyx/rust/finial_axum/output_base//601128.SH.csv'\n",
      "finial data 601162.SH error: [Errno 2] No such file or directory: '/Users/tackyx/rust/finial_axum/output_base//601162.SH.csv'\n",
      "finial data 601166.SH error: [Errno 2] No such file or directory: '/Users/tackyx/rust/finial_axum/output_base//601166.SH.csv'\n",
      "finial data 601169.SH error: [Errno 2] No such file or directory: '/Users/tackyx/rust/finial_axum/output_base//601169.SH.csv'\n",
      "finial data 601187.SH error: [Errno 2] No such file or directory: '/Users/tackyx/rust/finial_axum/output_base//601187.SH.csv'\n",
      "finial data 601198.SH error: [Errno 2] No such file or directory: '/Users/tackyx/rust/finial_axum/output_base//601198.SH.csv'\n",
      "finial data 601211.SH error: [Errno 2] No such file or directory: '/Users/tackyx/rust/finial_axum/output_base//601211.SH.csv'\n",
      "finial data 601229.SH error: [Errno 2] No such file or directory: '/Users/tackyx/rust/finial_axum/output_base//601229.SH.csv'\n",
      "finial data 601236.SH error: [Errno 2] No such file or directory: '/Users/tackyx/rust/finial_axum/output_base//601236.SH.csv'\n",
      "finial data 601288.SH error: [Errno 2] No such file or directory: '/Users/tackyx/rust/finial_axum/output_base//601288.SH.csv'\n",
      "finial data 601318.SH error: [Errno 2] No such file or directory: '/Users/tackyx/rust/finial_axum/output_base//601318.SH.csv'\n",
      "finial data 601319.SH error: [Errno 2] No such file or directory: '/Users/tackyx/rust/finial_axum/output_base//601319.SH.csv'\n",
      "finial data 601328.SH error: [Errno 2] No such file or directory: '/Users/tackyx/rust/finial_axum/output_base//601328.SH.csv'\n",
      "finial data 601336.SH error: [Errno 2] No such file or directory: '/Users/tackyx/rust/finial_axum/output_base//601336.SH.csv'\n",
      "finial data 601375.SH error: [Errno 2] No such file or directory: '/Users/tackyx/rust/finial_axum/output_base//601375.SH.csv'\n",
      "finial data 601377.SH error: [Errno 2] No such file or directory: '/Users/tackyx/rust/finial_axum/output_base//601377.SH.csv'\n",
      "finial data 601398.SH error: [Errno 2] No such file or directory: '/Users/tackyx/rust/finial_axum/output_base//601398.SH.csv'\n",
      "finial data 601456.SH error: [Errno 2] No such file or directory: '/Users/tackyx/rust/finial_axum/output_base//601456.SH.csv'\n",
      "finial data 601555.SH error: [Errno 2] No such file or directory: '/Users/tackyx/rust/finial_axum/output_base//601555.SH.csv'\n",
      "finial data 601577.SH error: [Errno 2] No such file or directory: '/Users/tackyx/rust/finial_axum/output_base//601577.SH.csv'\n",
      "finial data 601601.SH error: [Errno 2] No such file or directory: '/Users/tackyx/rust/finial_axum/output_base//601601.SH.csv'\n",
      "finial data 601628.SH error: [Errno 2] No such file or directory: '/Users/tackyx/rust/finial_axum/output_base//601628.SH.csv'\n",
      "finial data 601658.SH error: [Errno 2] No such file or directory: '/Users/tackyx/rust/finial_axum/output_base//601658.SH.csv'\n",
      "finial data 601688.SH error: [Errno 2] No such file or directory: '/Users/tackyx/rust/finial_axum/output_base//601688.SH.csv'\n",
      "finial data 601696.SH error: [Errno 2] No such file or directory: '/Users/tackyx/rust/finial_axum/output_base//601696.SH.csv'\n",
      "finial data 601788.SH error: [Errno 2] No such file or directory: '/Users/tackyx/rust/finial_axum/output_base//601788.SH.csv'\n",
      "finial data 601818.SH error: [Errno 2] No such file or directory: '/Users/tackyx/rust/finial_axum/output_base//601818.SH.csv'\n",
      "finial data 601838.SH error: [Errno 2] No such file or directory: '/Users/tackyx/rust/finial_axum/output_base//601838.SH.csv'\n",
      "finial data 601860.SH error: [Errno 2] No such file or directory: '/Users/tackyx/rust/finial_axum/output_base//601860.SH.csv'\n",
      "finial data 601878.SH error: [Errno 2] No such file or directory: '/Users/tackyx/rust/finial_axum/output_base//601878.SH.csv'\n",
      "finial data 601881.SH error: [Errno 2] No such file or directory: '/Users/tackyx/rust/finial_axum/output_base//601881.SH.csv'\n",
      "finial data 601901.SH error: [Errno 2] No such file or directory: '/Users/tackyx/rust/finial_axum/output_base//601901.SH.csv'\n",
      "finial data 601916.SH error: [Errno 2] No such file or directory: '/Users/tackyx/rust/finial_axum/output_base//601916.SH.csv'\n",
      "finial data 601939.SH error: [Errno 2] No such file or directory: '/Users/tackyx/rust/finial_axum/output_base//601939.SH.csv'\n",
      "finial data 601963.SH error: [Errno 2] No such file or directory: '/Users/tackyx/rust/finial_axum/output_base//601963.SH.csv'\n",
      "finial data 601988.SH error: [Errno 2] No such file or directory: '/Users/tackyx/rust/finial_axum/output_base//601988.SH.csv'\n",
      "finial data 601990.SH error: [Errno 2] No such file or directory: '/Users/tackyx/rust/finial_axum/output_base//601990.SH.csv'\n",
      "finial data 601995.SH error: [Errno 2] No such file or directory: '/Users/tackyx/rust/finial_axum/output_base//601995.SH.csv'\n",
      "finial data 601997.SH error: [Errno 2] No such file or directory: '/Users/tackyx/rust/finial_axum/output_base//601997.SH.csv'\n",
      "finial data 601998.SH error: [Errno 2] No such file or directory: '/Users/tackyx/rust/finial_axum/output_base//601998.SH.csv'\n",
      "finial data 603093.SH error: [Errno 2] No such file or directory: '/Users/tackyx/rust/finial_axum/output_base//603093.SH.csv'\n",
      "finial data 603323.SH error: [Errno 2] No such file or directory: '/Users/tackyx/rust/finial_axum/output_base//603323.SH.csv'\n",
      "finial data 000001.SZ error: [Errno 2] No such file or directory: '/Users/tackyx/rust/finial_axum/output_base//000001.SZ.csv'\n",
      "finial data 000166.SZ error: [Errno 2] No such file or directory: '/Users/tackyx/rust/finial_axum/output_base//000166.SZ.csv'\n",
      "finial data 000563.SZ error: [Errno 2] No such file or directory: '/Users/tackyx/rust/finial_axum/output_base//000563.SZ.csv'\n",
      "finial data 000627.SZ error: [Errno 2] No such file or directory: '/Users/tackyx/rust/finial_axum/output_base//000627.SZ.csv'\n",
      "finial data 000686.SZ error: [Errno 2] No such file or directory: '/Users/tackyx/rust/finial_axum/output_base//000686.SZ.csv'\n",
      "finial data 000712.SZ error: [Errno 2] No such file or directory: '/Users/tackyx/rust/finial_axum/output_base//000712.SZ.csv'\n",
      "finial data 000728.SZ error: [Errno 2] No such file or directory: '/Users/tackyx/rust/finial_axum/output_base//000728.SZ.csv'\n",
      "finial data 000750.SZ error: [Errno 2] No such file or directory: '/Users/tackyx/rust/finial_axum/output_base//000750.SZ.csv'\n",
      "finial data 000776.SZ error: [Errno 2] No such file or directory: '/Users/tackyx/rust/finial_axum/output_base//000776.SZ.csv'\n",
      "finial data 000783.SZ error: [Errno 2] No such file or directory: '/Users/tackyx/rust/finial_axum/output_base//000783.SZ.csv'\n",
      "finial data 002142.SZ error: [Errno 2] No such file or directory: '/Users/tackyx/rust/finial_axum/output_base//002142.SZ.csv'\n",
      "finial data 002500.SZ error: [Errno 2] No such file or directory: '/Users/tackyx/rust/finial_axum/output_base//002500.SZ.csv'\n",
      "finial data 002673.SZ error: [Errno 2] No such file or directory: '/Users/tackyx/rust/finial_axum/output_base//002673.SZ.csv'\n",
      "finial data 002736.SZ error: [Errno 2] No such file or directory: '/Users/tackyx/rust/finial_axum/output_base//002736.SZ.csv'\n",
      "finial data 002797.SZ error: [Errno 2] No such file or directory: '/Users/tackyx/rust/finial_axum/output_base//002797.SZ.csv'\n",
      "finial data 002807.SZ error: [Errno 2] No such file or directory: '/Users/tackyx/rust/finial_axum/output_base//002807.SZ.csv'\n",
      "finial data 002839.SZ error: [Errno 2] No such file or directory: '/Users/tackyx/rust/finial_axum/output_base//002839.SZ.csv'\n",
      "finial data 002926.SZ error: [Errno 2] No such file or directory: '/Users/tackyx/rust/finial_axum/output_base//002926.SZ.csv'\n",
      "finial data 002936.SZ error: [Errno 2] No such file or directory: '/Users/tackyx/rust/finial_axum/output_base//002936.SZ.csv'\n",
      "finial data 002939.SZ error: [Errno 2] No such file or directory: '/Users/tackyx/rust/finial_axum/output_base//002939.SZ.csv'\n",
      "finial data 002948.SZ error: [Errno 2] No such file or directory: '/Users/tackyx/rust/finial_axum/output_base//002948.SZ.csv'\n",
      "finial data 002958.SZ error: [Errno 2] No such file or directory: '/Users/tackyx/rust/finial_axum/output_base//002958.SZ.csv'\n",
      "finial data 002961.SZ error: [Errno 2] No such file or directory: '/Users/tackyx/rust/finial_axum/output_base//002961.SZ.csv'\n",
      "finial data 002966.SZ error: [Errno 2] No such file or directory: '/Users/tackyx/rust/finial_axum/output_base//002966.SZ.csv'\n"
     ]
    }
   ],
   "source": [
    "finial_df, kline_df = get_all_code_data()"
   ]
  },
  {
   "cell_type": "code",
   "execution_count": 17,
   "metadata": {},
   "outputs": [],
   "source": [
    "import chart_studio.plotly as py\n",
    "import plotly.graph_objects as go\n",
    "import plotly.express as px\n"
   ]
  },
  {
   "cell_type": "code",
   "execution_count": 18,
   "metadata": {},
   "outputs": [],
   "source": [
    "st_6036 = info_df.query(\"股票代码 == '603609.SH'\")"
   ]
  },
  {
   "cell_type": "code",
   "execution_count": 19,
   "metadata": {},
   "outputs": [],
   "source": [
    "dfsl = info_df.query(\"三类行业 == '畜禽饲料'\")\n"
   ]
  },
  {
   "cell_type": "code",
   "execution_count": 139,
   "metadata": {},
   "outputs": [],
   "source": [
    "# dfsl.head(10)\n"
   ]
  },
  {
   "cell_type": "code",
   "execution_count": null,
   "metadata": {},
   "outputs": [],
   "source": []
  },
  {
   "cell_type": "code",
   "execution_count": 21,
   "metadata": {},
   "outputs": [],
   "source": [
    "codesl = dfsl[\"股票代码\"].unique()\n"
   ]
  },
  {
   "cell_type": "code",
   "execution_count": 22,
   "metadata": {},
   "outputs": [],
   "source": [
    "df00 = kline_df.query(\"code in @codesl\")\n",
    "# df = px.data.stocks()\n",
    "df00[\"date\"] = df00.index\n",
    "# fig size to 12, 9\n",
    "fig = px.line(df00, x=\"date\", y=\"market_capital\", color = 'code' ,title='Time Series with Rangeslider', height=900, width=1200)\n",
    "# fig = px.line(df00, x=\"date\", y=\"market_capital\", color = 'code' ,title='Time Series with Rangeslider')\n",
    "\n",
    "# fig.update_xaxes(minor=dict(ticks=\"inside\", showgrid=True))\n",
    "# fig.update_xaxes(rangeslider_visible=True)\n",
    "# fig.show()"
   ]
  },
  {
   "cell_type": "code",
   "execution_count": 23,
   "metadata": {},
   "outputs": [],
   "source": [
    "# fig = px.histogram(df00, x=\"market_capital\", y=\"market_capital\", color=\"code\",\n",
    "#                    marginal=\"box\", # or violin, rug\n",
    "#                    hover_data=df00.columns)\n",
    "# fig.show()"
   ]
  },
  {
   "cell_type": "code",
   "execution_count": 24,
   "metadata": {},
   "outputs": [],
   "source": [
    "import plotly.figure_factory as ff\n",
    "import plotly.graph_objects as go"
   ]
  },
  {
   "cell_type": "code",
   "execution_count": 25,
   "metadata": {},
   "outputs": [],
   "source": [
    "# select data: market_capital by code\n",
    "labels = []\n",
    "market_capital = []\n",
    "for c in codesl[:1]:\n",
    "    labels.append(c)\n",
    "    market_capital.append(df00.query(\"code == @c\")[\"market_capital\"].dropna().values)\n",
    "#  df00[\"market_capital\"]\n"
   ]
  },
  {
   "cell_type": "code",
   "execution_count": null,
   "metadata": {},
   "outputs": [],
   "source": []
  },
  {
   "cell_type": "code",
   "execution_count": 26,
   "metadata": {},
   "outputs": [
    {
     "data": {
      "text/html": [
       "<div>\n",
       "<style scoped>\n",
       "    .dataframe tbody tr th:only-of-type {\n",
       "        vertical-align: middle;\n",
       "    }\n",
       "\n",
       "    .dataframe tbody tr th {\n",
       "        vertical-align: top;\n",
       "    }\n",
       "\n",
       "    .dataframe thead th {\n",
       "        text-align: right;\n",
       "    }\n",
       "</style>\n",
       "<table border=\"1\" class=\"dataframe\">\n",
       "  <thead>\n",
       "    <tr style=\"text-align: right;\">\n",
       "      <th></th>\n",
       "      <th>营业总收入</th>\n",
       "      <th>营业总成本</th>\n",
       "      <th>营业利润</th>\n",
       "      <th>利润总额</th>\n",
       "      <th>营业成本</th>\n",
       "      <th>净利润</th>\n",
       "      <th>持续经营净利润</th>\n",
       "      <th>销售费用</th>\n",
       "      <th>管理费用</th>\n",
       "      <th>研发费用</th>\n",
       "      <th>...</th>\n",
       "      <th>经营性资产</th>\n",
       "      <th>经营性负债</th>\n",
       "      <th>经营性净资产</th>\n",
       "      <th>经营性净资产_期初</th>\n",
       "      <th>经营性净资产_同期</th>\n",
       "      <th>资产收益率ROA</th>\n",
       "      <th>权益收益率ROE</th>\n",
       "      <th>投资资本收益率ROIC</th>\n",
       "      <th>经营性资产周转率</th>\n",
       "      <th>code</th>\n",
       "    </tr>\n",
       "    <tr>\n",
       "      <th>报告期</th>\n",
       "      <th></th>\n",
       "      <th></th>\n",
       "      <th></th>\n",
       "      <th></th>\n",
       "      <th></th>\n",
       "      <th></th>\n",
       "      <th></th>\n",
       "      <th></th>\n",
       "      <th></th>\n",
       "      <th></th>\n",
       "      <th></th>\n",
       "      <th></th>\n",
       "      <th></th>\n",
       "      <th></th>\n",
       "      <th></th>\n",
       "      <th></th>\n",
       "      <th></th>\n",
       "      <th></th>\n",
       "      <th></th>\n",
       "      <th></th>\n",
       "      <th></th>\n",
       "    </tr>\n",
       "  </thead>\n",
       "  <tbody>\n",
       "    <tr>\n",
       "      <th>2022-09-30</th>\n",
       "      <td>3.307660e+09</td>\n",
       "      <td>4.212766e+09</td>\n",
       "      <td>-7.918296e+08</td>\n",
       "      <td>-7.908968e+08</td>\n",
       "      <td>3.664107e+09</td>\n",
       "      <td>-6.321978e+08</td>\n",
       "      <td>-6.321978e+08</td>\n",
       "      <td>72345662.35</td>\n",
       "      <td>2.685395e+08</td>\n",
       "      <td>20055258.02</td>\n",
       "      <td>...</td>\n",
       "      <td>2.461016e+10</td>\n",
       "      <td>9.573772e+09</td>\n",
       "      <td>1.503639e+10</td>\n",
       "      <td>1.648288e+10</td>\n",
       "      <td>1.608511e+10</td>\n",
       "      <td>-0.022975</td>\n",
       "      <td>-0.034626</td>\n",
       "      <td>-0.041273</td>\n",
       "      <td>0.209882</td>\n",
       "      <td>600004.SH</td>\n",
       "    </tr>\n",
       "    <tr>\n",
       "      <th>2022-06-30</th>\n",
       "      <td>2.032359e+09</td>\n",
       "      <td>2.800748e+09</td>\n",
       "      <td>-6.786197e+08</td>\n",
       "      <td>-6.782504e+08</td>\n",
       "      <td>2.462346e+09</td>\n",
       "      <td>-5.306237e+08</td>\n",
       "      <td>-5.306237e+08</td>\n",
       "      <td>43152649.35</td>\n",
       "      <td>1.613485e+08</td>\n",
       "      <td>12273517.65</td>\n",
       "      <td>...</td>\n",
       "      <td>2.491374e+10</td>\n",
       "      <td>9.613948e+09</td>\n",
       "      <td>1.529979e+10</td>\n",
       "      <td>1.648288e+10</td>\n",
       "      <td>1.596417e+10</td>\n",
       "      <td>-0.019219</td>\n",
       "      <td>-0.028947</td>\n",
       "      <td>-0.034520</td>\n",
       "      <td>0.127891</td>\n",
       "      <td>600004.SH</td>\n",
       "    </tr>\n",
       "    <tr>\n",
       "      <th>2022-03-31</th>\n",
       "      <td>1.238918e+09</td>\n",
       "      <td>1.377990e+09</td>\n",
       "      <td>-9.994370e+07</td>\n",
       "      <td>-1.002049e+08</td>\n",
       "      <td>1.216397e+09</td>\n",
       "      <td>-7.710690e+07</td>\n",
       "      <td>-7.710690e+07</td>\n",
       "      <td>20840883.54</td>\n",
       "      <td>7.515620e+07</td>\n",
       "      <td>4840642.42</td>\n",
       "      <td>...</td>\n",
       "      <td>2.528662e+10</td>\n",
       "      <td>8.728610e+09</td>\n",
       "      <td>1.655801e+10</td>\n",
       "      <td>1.648288e+10</td>\n",
       "      <td>1.634713e+10</td>\n",
       "      <td>-0.002814</td>\n",
       "      <td>-0.004154</td>\n",
       "      <td>-0.004895</td>\n",
       "      <td>0.074993</td>\n",
       "      <td>600004.SH</td>\n",
       "    </tr>\n",
       "    <tr>\n",
       "      <th>2021-12-31</th>\n",
       "      <td>5.180238e+09</td>\n",
       "      <td>5.864562e+09</td>\n",
       "      <td>-5.414947e+08</td>\n",
       "      <td>-5.299924e+08</td>\n",
       "      <td>5.227676e+09</td>\n",
       "      <td>-3.854062e+08</td>\n",
       "      <td>-3.854062e+08</td>\n",
       "      <td>75737610.51</td>\n",
       "      <td>3.405195e+08</td>\n",
       "      <td>40208372.49</td>\n",
       "      <td>...</td>\n",
       "      <td>2.542694e+10</td>\n",
       "      <td>8.944058e+09</td>\n",
       "      <td>1.648288e+10</td>\n",
       "      <td>1.670161e+10</td>\n",
       "      <td>1.670161e+10</td>\n",
       "      <td>-0.014316</td>\n",
       "      <td>-0.020250</td>\n",
       "      <td>-0.019060</td>\n",
       "      <td>0.312208</td>\n",
       "      <td>600004.SH</td>\n",
       "    </tr>\n",
       "    <tr>\n",
       "      <th>2021-09-30</th>\n",
       "      <td>3.629241e+09</td>\n",
       "      <td>4.317764e+09</td>\n",
       "      <td>-5.652004e+08</td>\n",
       "      <td>-5.581572e+08</td>\n",
       "      <td>3.825430e+09</td>\n",
       "      <td>-4.822213e+08</td>\n",
       "      <td>-4.822213e+08</td>\n",
       "      <td>64867302.61</td>\n",
       "      <td>2.663190e+08</td>\n",
       "      <td>20983705.01</td>\n",
       "      <td>...</td>\n",
       "      <td>2.544043e+10</td>\n",
       "      <td>9.355328e+09</td>\n",
       "      <td>1.608511e+10</td>\n",
       "      <td>1.670161e+10</td>\n",
       "      <td>1.468621e+10</td>\n",
       "      <td>-0.017803</td>\n",
       "      <td>-0.025404</td>\n",
       "      <td>-0.030714</td>\n",
       "      <td>0.221385</td>\n",
       "      <td>600004.SH</td>\n",
       "    </tr>\n",
       "  </tbody>\n",
       "</table>\n",
       "<p>5 rows × 104 columns</p>\n",
       "</div>"
      ],
      "text/plain": [
       "                   营业总收入         营业总成本          营业利润          利润总额  \\\n",
       "报告期                                                                  \n",
       "2022-09-30  3.307660e+09  4.212766e+09 -7.918296e+08 -7.908968e+08   \n",
       "2022-06-30  2.032359e+09  2.800748e+09 -6.786197e+08 -6.782504e+08   \n",
       "2022-03-31  1.238918e+09  1.377990e+09 -9.994370e+07 -1.002049e+08   \n",
       "2021-12-31  5.180238e+09  5.864562e+09 -5.414947e+08 -5.299924e+08   \n",
       "2021-09-30  3.629241e+09  4.317764e+09 -5.652004e+08 -5.581572e+08   \n",
       "\n",
       "                    营业成本           净利润       持续经营净利润         销售费用  \\\n",
       "报告期                                                                 \n",
       "2022-09-30  3.664107e+09 -6.321978e+08 -6.321978e+08  72345662.35   \n",
       "2022-06-30  2.462346e+09 -5.306237e+08 -5.306237e+08  43152649.35   \n",
       "2022-03-31  1.216397e+09 -7.710690e+07 -7.710690e+07  20840883.54   \n",
       "2021-12-31  5.227676e+09 -3.854062e+08 -3.854062e+08  75737610.51   \n",
       "2021-09-30  3.825430e+09 -4.822213e+08 -4.822213e+08  64867302.61   \n",
       "\n",
       "                    管理费用         研发费用  ...         经营性资产         经营性负债  \\\n",
       "报告期                                    ...                               \n",
       "2022-09-30  2.685395e+08  20055258.02  ...  2.461016e+10  9.573772e+09   \n",
       "2022-06-30  1.613485e+08  12273517.65  ...  2.491374e+10  9.613948e+09   \n",
       "2022-03-31  7.515620e+07   4840642.42  ...  2.528662e+10  8.728610e+09   \n",
       "2021-12-31  3.405195e+08  40208372.49  ...  2.542694e+10  8.944058e+09   \n",
       "2021-09-30  2.663190e+08  20983705.01  ...  2.544043e+10  9.355328e+09   \n",
       "\n",
       "                  经营性净资产     经营性净资产_期初     经营性净资产_同期  资产收益率ROA  权益收益率ROE  \\\n",
       "报告期                                                                        \n",
       "2022-09-30  1.503639e+10  1.648288e+10  1.608511e+10 -0.022975 -0.034626   \n",
       "2022-06-30  1.529979e+10  1.648288e+10  1.596417e+10 -0.019219 -0.028947   \n",
       "2022-03-31  1.655801e+10  1.648288e+10  1.634713e+10 -0.002814 -0.004154   \n",
       "2021-12-31  1.648288e+10  1.670161e+10  1.670161e+10 -0.014316 -0.020250   \n",
       "2021-09-30  1.608511e+10  1.670161e+10  1.468621e+10 -0.017803 -0.025404   \n",
       "\n",
       "            投资资本收益率ROIC  经营性资产周转率       code  \n",
       "报告期                                           \n",
       "2022-09-30    -0.041273  0.209882  600004.SH  \n",
       "2022-06-30    -0.034520  0.127891  600004.SH  \n",
       "2022-03-31    -0.004895  0.074993  600004.SH  \n",
       "2021-12-31    -0.019060  0.312208  600004.SH  \n",
       "2021-09-30    -0.030714  0.221385  600004.SH  \n",
       "\n",
       "[5 rows x 104 columns]"
      ]
     },
     "execution_count": 26,
     "metadata": {},
     "output_type": "execute_result"
    }
   ],
   "source": [
    "finial_df.head()"
   ]
  },
  {
   "cell_type": "code",
   "execution_count": 27,
   "metadata": {},
   "outputs": [],
   "source": [
    "# for d in finial_df.index:\n",
    "#     print(d.year, d.month, d.day)"
   ]
  },
  {
   "cell_type": "code",
   "execution_count": null,
   "metadata": {},
   "outputs": [],
   "source": []
  },
  {
   "cell_type": "code",
   "execution_count": 28,
   "metadata": {},
   "outputs": [],
   "source": [
    "# select finial data index is the month 12-31\n",
    "finial_df_year = finial_df[finial_df.index.month == 12] # type: ignore"
   ]
  },
  {
   "cell_type": "code",
   "execution_count": 29,
   "metadata": {},
   "outputs": [],
   "source": [
    "code_finial_df = finial_df_year.groupby(\"code\")"
   ]
  },
  {
   "cell_type": "code",
   "execution_count": 30,
   "metadata": {},
   "outputs": [
    {
     "data": {
      "text/plain": [
       "dict_keys(['000002.SZ', '000004.SZ', '000005.SZ', '000006.SZ', '000007.SZ', '000008.SZ', '000009.SZ', '000010.SZ', '000011.SZ', '000012.SZ', '000014.SZ', '000016.SZ', '000017.SZ', '000019.SZ', '000020.SZ', '000021.SZ', '000023.SZ', '000025.SZ', '000026.SZ', '000027.SZ', '000028.SZ', '000029.SZ', '000030.SZ', '000031.SZ', '000032.SZ', '000034.SZ', '000035.SZ', '000036.SZ', '000037.SZ', '000038.SZ', '000039.SZ', '000040.SZ', '000042.SZ', '000045.SZ', '000046.SZ', '000048.SZ', '000049.SZ', '000050.SZ', '000055.SZ', '000056.SZ', '000058.SZ', '000059.SZ', '000060.SZ', '000061.SZ', '000062.SZ', '000063.SZ', '000065.SZ', '000066.SZ', '000068.SZ', '000069.SZ', '000070.SZ', '000078.SZ', '000088.SZ', '000089.SZ', '000090.SZ', '000096.SZ', '000099.SZ', '000100.SZ', '000150.SZ', '000151.SZ', '000153.SZ', '000155.SZ', '000156.SZ', '000157.SZ', '000158.SZ', '000159.SZ', '000301.SZ', '000333.SZ', '000338.SZ', '000400.SZ', '000401.SZ', '000402.SZ', '000403.SZ', '000404.SZ', '000407.SZ', '000408.SZ', '000409.SZ', '000410.SZ', '000411.SZ', '000413.SZ', '000415.SZ', '000416.SZ', '000417.SZ', '000419.SZ', '000420.SZ', '000421.SZ', '000422.SZ', '000423.SZ', '000425.SZ', '000426.SZ', '000428.SZ', '000429.SZ', '000430.SZ', '000488.SZ', '000498.SZ', '000501.SZ', '000503.SZ', '000504.SZ', '000505.SZ', '000506.SZ', '000507.SZ', '000509.SZ', '000510.SZ', '000513.SZ', '000514.SZ', '000516.SZ', '000517.SZ', '000518.SZ', '000519.SZ', '000520.SZ', '000521.SZ', '000523.SZ', '000524.SZ', '000525.SZ', '000526.SZ', '000528.SZ', '000529.SZ', '000530.SZ', '000531.SZ', '000532.SZ', '000533.SZ', '000534.SZ', '000536.SZ', '000537.SZ', '000538.SZ', '000539.SZ', '000540.SZ', '000541.SZ', '000543.SZ', '000544.SZ', '000545.SZ', '000546.SZ', '000547.SZ', '000548.SZ', '000550.SZ', '000551.SZ', '000552.SZ', '000553.SZ', '000554.SZ', '000555.SZ', '000557.SZ', '000558.SZ', '000559.SZ', '000560.SZ', '000561.SZ', '000564.SZ', '000565.SZ', '000566.SZ', '000567.SZ', '000568.SZ', '000570.SZ', '000571.SZ', '000572.SZ', '000573.SZ', '000576.SZ', '000581.SZ', '000582.SZ', '000584.SZ', '000586.SZ', '000587.SZ', '000589.SZ', '000590.SZ', '000591.SZ', '000592.SZ', '000593.SZ', '000595.SZ', '000596.SZ', '000597.SZ', '000598.SZ', '000599.SZ', '000600.SZ', '000601.SZ', '000603.SZ', '000605.SZ', '000606.SZ', '000607.SZ', '000608.SZ', '000609.SZ', '000610.SZ', '000612.SZ', '000615.SZ', '000616.SZ', '000617.SZ', '000619.SZ', '000620.SZ', '000622.SZ', '000623.SZ', '000625.SZ', '000626.SZ', '000628.SZ', '000629.SZ', '000630.SZ', '000631.SZ', '000632.SZ', '000633.SZ', '000635.SZ', '000636.SZ', '000637.SZ', '000638.SZ', '000639.SZ', '000650.SZ', '000651.SZ', '000652.SZ', '000655.SZ', '000656.SZ', '000657.SZ', '000659.SZ', '000661.SZ', '000663.SZ', '000665.SZ', '000666.SZ', '000667.SZ', '000668.SZ', '000669.SZ', '000670.SZ', '000671.SZ', '000672.SZ', '000676.SZ', '000677.SZ', '000678.SZ', '000679.SZ', '000680.SZ', '000681.SZ', '000682.SZ', '000683.SZ', '000685.SZ', '000688.SZ', '000690.SZ', '000691.SZ', '000692.SZ', '000695.SZ', '000697.SZ', '000698.SZ', '000700.SZ', '000701.SZ', '000702.SZ', '000703.SZ', '000705.SZ', '000707.SZ', '000708.SZ', '000709.SZ', '000710.SZ', '000711.SZ', '000713.SZ', '000715.SZ', '000716.SZ', '000717.SZ', '000718.SZ', '000719.SZ', '000720.SZ', '000721.SZ', '000722.SZ', '000723.SZ', '000725.SZ', '000726.SZ', '000727.SZ', '000729.SZ', '000731.SZ', '000732.SZ', '000733.SZ', '000735.SZ', '000736.SZ', '000737.SZ', '000738.SZ', '000739.SZ', '000751.SZ', '000752.SZ', '000753.SZ', '000755.SZ', '000756.SZ', '000757.SZ', '000758.SZ', '000759.SZ', '000761.SZ', '000762.SZ', '000766.SZ', '000767.SZ', '000768.SZ', '000777.SZ', '000778.SZ', '000779.SZ', '000782.SZ', '000785.SZ', '000786.SZ', '000788.SZ', '000789.SZ', '000790.SZ', '000791.SZ', '000792.SZ', '000793.SZ', '000795.SZ', '000796.SZ', '000797.SZ', '000798.SZ', '000799.SZ', '000800.SZ', '000801.SZ', '000802.SZ', '000803.SZ', '000806.SZ', '000807.SZ', '000809.SZ', '000810.SZ', '000811.SZ', '000812.SZ', '000813.SZ', '000815.SZ', '000816.SZ', '000818.SZ', '000819.SZ', '000820.SZ', '000821.SZ', '000822.SZ', '000823.SZ', '000825.SZ', '000826.SZ', '000828.SZ', '000829.SZ', '000830.SZ', '000831.SZ', '000833.SZ', '000836.SZ', '000837.SZ', '000838.SZ', '000839.SZ', '000848.SZ', '000850.SZ', '000851.SZ', '000852.SZ', '000856.SZ', '000858.SZ', '000859.SZ', '000860.SZ', '000861.SZ', '000862.SZ', '000863.SZ', '000868.SZ', '000869.SZ', '000875.SZ', '000876.SZ', '000877.SZ', '000878.SZ', '000880.SZ', '000881.SZ', '000882.SZ', '000883.SZ', '000885.SZ', '000886.SZ', '000887.SZ', '000888.SZ', '000889.SZ', '000890.SZ', '000892.SZ', '000893.SZ', '000895.SZ', '000897.SZ', '000898.SZ', '000899.SZ', '000900.SZ', '000901.SZ', '000902.SZ', '000903.SZ', '000905.SZ', '000906.SZ', '000908.SZ', '000909.SZ', '000910.SZ', '000911.SZ', '000912.SZ', '000913.SZ', '000915.SZ', '000917.SZ', '000918.SZ', '000919.SZ', '000920.SZ', '000921.SZ', '000922.SZ', '000923.SZ', '000925.SZ', '000926.SZ', '000927.SZ', '000928.SZ', '000929.SZ', '000930.SZ', '000931.SZ', '000932.SZ', '000933.SZ', '000935.SZ', '000936.SZ', '000937.SZ', '000938.SZ', '000948.SZ', '000949.SZ', '000950.SZ', '000951.SZ', '000952.SZ', '000953.SZ', '000955.SZ', '000957.SZ', '000958.SZ', '000959.SZ', '000960.SZ', '000961.SZ', '000962.SZ', '000963.SZ', '000965.SZ', '000966.SZ', '000967.SZ', '000968.SZ', '000969.SZ', '000970.SZ', '000971.SZ', '000972.SZ', '000973.SZ', '000975.SZ', '000976.SZ', '000977.SZ', '000978.SZ', '000980.SZ', '000981.SZ', '000982.SZ', '000983.SZ', '000985.SZ', '000987.SZ', '000988.SZ', '000989.SZ', '000990.SZ', '000993.SZ', '000995.SZ', '000996.SZ', '000997.SZ', '000998.SZ', '000999.SZ', '001201.SZ', '001202.SZ', '001203.SZ', '001205.SZ', '001696.SZ', '001872.SZ', '001896.SZ', '001914.SZ', '001965.SZ', '001979.SZ', '002001.SZ', '002002.SZ', '002003.SZ', '002004.SZ', '002005.SZ', '002006.SZ', '002007.SZ', '002008.SZ', '002009.SZ', '002010.SZ', '002011.SZ', '002012.SZ', '002013.SZ', '002014.SZ', '002015.SZ', '002016.SZ', '002017.SZ', '002019.SZ', '002020.SZ', '002021.SZ', '002022.SZ', '002023.SZ', '002024.SZ', '002025.SZ', '002026.SZ', '002027.SZ', '002028.SZ', '002029.SZ', '002030.SZ', '002031.SZ', '002032.SZ', '002033.SZ', '002034.SZ', '002035.SZ', '002036.SZ', '002037.SZ', '002038.SZ', '002039.SZ', '002040.SZ', '002041.SZ', '002042.SZ', '002043.SZ', '002044.SZ', '002045.SZ', '002046.SZ', '002047.SZ', '002048.SZ', '002049.SZ', '002050.SZ', '002051.SZ', '002052.SZ', '002053.SZ', '002054.SZ', '002055.SZ', '002056.SZ', '002057.SZ', '002058.SZ', '002059.SZ', '002060.SZ', '002061.SZ', '002062.SZ', '002063.SZ', '002064.SZ', '002065.SZ', '002066.SZ', '002067.SZ', '002068.SZ', '002069.SZ', '002073.SZ', '002074.SZ', '002075.SZ', '002076.SZ', '002077.SZ', '002078.SZ', '002079.SZ', '002080.SZ', '002081.SZ', '002082.SZ', '002083.SZ', '002084.SZ', '002085.SZ', '002086.SZ', '002087.SZ', '002088.SZ', '002089.SZ', '002090.SZ', '002091.SZ', '002092.SZ', '002093.SZ', '002094.SZ', '002095.SZ', '002096.SZ', '002097.SZ', '002098.SZ', '002099.SZ', '002100.SZ', '002101.SZ', '002102.SZ', '002103.SZ', '002104.SZ', '002105.SZ', '002106.SZ', '002107.SZ', '002108.SZ', '002109.SZ', '002110.SZ', '002111.SZ', '002112.SZ', '002113.SZ', '002114.SZ', '002115.SZ', '002116.SZ', '002117.SZ', '002118.SZ', '002119.SZ', '002120.SZ', '002121.SZ', '002122.SZ', '002123.SZ', '002124.SZ', '002125.SZ', '002126.SZ', '002127.SZ', '002128.SZ', '002129.SZ', '002130.SZ', '002131.SZ', '002132.SZ', '002133.SZ', '002134.SZ', '002135.SZ', '002136.SZ', '002137.SZ', '002138.SZ', '002139.SZ', '002140.SZ', '002141.SZ', '002144.SZ', '002145.SZ', '002146.SZ', '002148.SZ', '002149.SZ', '002150.SZ', '002151.SZ', '002152.SZ', '002153.SZ', '002154.SZ', '002155.SZ', '002156.SZ', '002157.SZ', '002158.SZ', '002159.SZ', '002160.SZ', '002161.SZ', '002162.SZ', '002163.SZ', '002164.SZ', '002165.SZ', '002166.SZ', '002167.SZ', '002168.SZ', '002169.SZ', '002170.SZ', '002171.SZ', '002172.SZ', '002173.SZ', '002174.SZ', '002175.SZ', '002176.SZ', '002177.SZ', '002178.SZ', '002179.SZ', '002180.SZ', '002181.SZ', '002182.SZ', '002183.SZ', '002184.SZ', '002185.SZ', '002186.SZ', '002187.SZ', '002188.SZ', '002189.SZ', '002190.SZ', '002191.SZ', '002192.SZ', '002193.SZ', '002194.SZ', '002195.SZ', '002196.SZ', '002197.SZ', '002198.SZ', '002199.SZ', '002200.SZ', '002201.SZ', '002202.SZ', '002203.SZ', '002204.SZ', '002205.SZ', '002206.SZ', '002207.SZ', '002208.SZ', '002209.SZ', '002210.SZ', '002211.SZ', '002212.SZ', '002213.SZ', '002214.SZ', '002215.SZ', '002216.SZ', '002217.SZ', '002218.SZ', '002219.SZ', '002221.SZ', '002222.SZ', '002223.SZ', '002224.SZ', '002225.SZ', '002226.SZ', '002227.SZ', '002228.SZ', '002229.SZ', '002230.SZ', '002231.SZ', '002232.SZ', '002233.SZ', '002234.SZ', '002235.SZ', '002236.SZ', '002237.SZ', '002238.SZ', '002239.SZ', '002240.SZ', '002241.SZ', '002242.SZ', '002243.SZ', '002244.SZ', '002245.SZ', '002246.SZ', '002247.SZ', '002248.SZ', '002249.SZ', '002250.SZ', '002251.SZ', '002252.SZ', '002253.SZ', '002254.SZ', '002255.SZ', '002256.SZ', '002258.SZ', '002259.SZ', '002261.SZ', '002262.SZ', '002263.SZ', '002264.SZ', '002265.SZ', '002266.SZ', '002267.SZ', '002268.SZ', '002269.SZ', '002270.SZ', '002271.SZ', '002272.SZ', '002273.SZ', '002274.SZ', '002275.SZ', '002276.SZ', '002277.SZ', '002278.SZ', '002279.SZ', '002280.SZ', '002281.SZ', '002282.SZ', '002283.SZ', '002284.SZ', '002285.SZ', '002286.SZ', '002287.SZ', '002288.SZ', '002289.SZ', '002290.SZ', '002291.SZ', '002292.SZ', '002293.SZ', '002294.SZ', '002295.SZ', '002296.SZ', '002297.SZ', '002298.SZ', '002299.SZ', '002300.SZ', '002301.SZ', '002302.SZ', '002303.SZ', '002304.SZ', '002305.SZ', '002306.SZ', '002307.SZ', '002308.SZ', '002309.SZ', '002310.SZ', '002311.SZ', '002312.SZ', '002313.SZ', '002314.SZ', '002315.SZ', '002316.SZ', '002317.SZ', '002318.SZ', '002319.SZ', '002320.SZ', '002321.SZ', '002322.SZ', '002323.SZ', '002324.SZ', '002325.SZ', '002326.SZ', '002327.SZ', '002328.SZ', '002329.SZ', '002330.SZ', '002331.SZ', '002332.SZ', '002333.SZ', '002334.SZ', '002335.SZ', '002336.SZ', '002337.SZ', '002338.SZ', '002339.SZ', '002340.SZ', '002341.SZ', '002342.SZ', '002343.SZ', '002344.SZ', '002345.SZ', '002346.SZ', '002347.SZ', '002348.SZ', '002349.SZ', '002350.SZ', '002351.SZ', '002352.SZ', '002353.SZ', '002354.SZ', '002355.SZ', '002356.SZ', '002357.SZ', '002358.SZ', '002360.SZ', '002361.SZ', '002362.SZ', '002363.SZ', '002364.SZ', '002365.SZ', '002366.SZ', '002367.SZ', '002368.SZ', '002369.SZ', '002370.SZ', '002371.SZ', '002372.SZ', '002373.SZ', '002374.SZ', '002375.SZ', '002376.SZ', '002377.SZ', '002378.SZ', '002379.SZ', '002380.SZ', '002381.SZ', '002382.SZ', '002383.SZ', '002384.SZ', '002385.SZ', '002386.SZ', '002387.SZ', '002388.SZ', '002389.SZ', '002390.SZ', '002391.SZ', '002392.SZ', '002393.SZ', '002394.SZ', '002395.SZ', '002396.SZ', '002397.SZ', '002398.SZ', '002399.SZ', '002400.SZ', '002401.SZ', '002402.SZ', '002403.SZ', '002404.SZ', '002405.SZ', '002406.SZ', '002407.SZ', '002408.SZ', '002409.SZ', '002410.SZ', '002411.SZ', '002412.SZ', '002413.SZ', '002414.SZ', '002415.SZ', '002416.SZ', '002417.SZ', '002418.SZ', '002419.SZ', '002420.SZ', '002421.SZ', '002422.SZ', '002423.SZ', '002424.SZ', '002425.SZ', '002426.SZ', '002427.SZ', '002428.SZ', '002429.SZ', '002430.SZ', '002431.SZ', '002432.SZ', '002433.SZ', '002434.SZ', '002435.SZ', '002436.SZ', '002437.SZ', '002438.SZ', '002439.SZ', '002440.SZ', '002441.SZ', '002442.SZ', '002443.SZ', '002444.SZ', '002445.SZ', '002446.SZ', '002448.SZ', '002449.SZ', '002451.SZ', '002452.SZ', '002453.SZ', '002454.SZ', '002455.SZ', '002456.SZ', '002457.SZ', '002458.SZ', '002459.SZ', '002460.SZ', '002461.SZ', '002462.SZ', '002463.SZ', '002465.SZ', '002466.SZ', '002467.SZ', '002468.SZ', '002469.SZ', '002470.SZ', '002471.SZ', '002472.SZ', '002474.SZ', '002475.SZ', '002476.SZ', '002478.SZ', '002479.SZ', '002480.SZ', '002481.SZ', '002482.SZ', '002483.SZ', '002484.SZ', '002485.SZ', '002486.SZ', '002487.SZ', '002488.SZ', '002489.SZ', '002491.SZ', '002492.SZ', '002493.SZ', '002494.SZ', '002495.SZ', '002496.SZ', '002497.SZ', '002498.SZ', '002499.SZ', '002501.SZ', '002502.SZ', '002503.SZ', '002504.SZ', '002505.SZ', '002506.SZ', '002507.SZ', '002508.SZ', '002510.SZ', '002511.SZ', '002512.SZ', '002513.SZ', '002514.SZ', '002515.SZ', '002516.SZ', '002517.SZ', '002518.SZ', '002519.SZ', '002520.SZ', '002521.SZ', '002522.SZ', '002523.SZ', '002524.SZ', '002526.SZ', '002527.SZ', '002528.SZ', '002529.SZ', '002530.SZ', '002531.SZ', '002532.SZ', '002533.SZ', '002534.SZ', '002535.SZ', '002536.SZ', '002537.SZ', '002538.SZ', '002539.SZ', '002540.SZ', '002541.SZ', '002542.SZ', '002543.SZ', '002544.SZ', '002545.SZ', '002546.SZ', '002547.SZ', '002548.SZ', '002549.SZ', '002550.SZ', '002551.SZ', '002552.SZ', '002553.SZ', '002554.SZ', '002555.SZ', '002556.SZ', '002557.SZ', '002558.SZ', '002559.SZ', '002560.SZ', '002561.SZ', '002562.SZ', '002563.SZ', '002564.SZ', '002565.SZ', '002566.SZ', '002567.SZ', '002568.SZ', '002569.SZ', '002570.SZ', '002571.SZ', '002572.SZ', '002573.SZ', '002574.SZ', '002575.SZ', '002576.SZ', '002577.SZ', '002578.SZ', '002579.SZ', '002580.SZ', '002581.SZ', '002582.SZ', '002583.SZ', '002584.SZ', '002585.SZ', '002586.SZ', '002587.SZ', '002588.SZ', '002589.SZ', '002590.SZ', '002591.SZ', '002592.SZ', '002593.SZ', '002594.SZ', '002595.SZ', '002596.SZ', '002597.SZ', '002598.SZ', '002599.SZ', '002600.SZ', '002601.SZ', '002602.SZ', '002603.SZ', '002605.SZ', '002606.SZ', '002607.SZ', '002608.SZ', '002609.SZ', '002610.SZ', '002611.SZ', '002612.SZ', '002613.SZ', '002614.SZ', '002615.SZ', '002616.SZ', '002617.SZ', '002620.SZ', '002621.SZ', '002622.SZ', '002623.SZ', '002624.SZ', '002625.SZ', '002626.SZ', '002627.SZ', '002628.SZ', '002629.SZ', '002630.SZ', '002631.SZ', '002632.SZ', '002633.SZ', '002634.SZ', '002635.SZ', '002636.SZ', '002637.SZ', '002638.SZ', '002639.SZ', '002640.SZ', '002641.SZ', '002642.SZ', '002643.SZ', '002644.SZ', '002645.SZ', '002646.SZ', '002647.SZ', '002648.SZ', '002649.SZ', '002650.SZ', '002651.SZ', '002652.SZ', '002653.SZ', '002654.SZ', '002655.SZ', '002656.SZ', '002657.SZ', '002658.SZ', '002660.SZ', '002661.SZ', '002662.SZ', '002663.SZ', '002664.SZ', '002665.SZ', '002666.SZ', '002667.SZ', '002668.SZ', '002669.SZ', '002670.SZ', '002671.SZ', '002672.SZ', '002674.SZ', '002675.SZ', '002676.SZ', '002677.SZ', '002678.SZ', '002679.SZ', '002681.SZ', '002682.SZ', '002683.SZ', '002685.SZ', '002686.SZ', '002687.SZ', '002688.SZ', '002689.SZ', '002690.SZ', '002691.SZ', '002692.SZ', '002693.SZ', '002694.SZ', '002695.SZ', '002696.SZ', '002697.SZ', '002698.SZ', '002699.SZ', '002700.SZ', '002701.SZ', '002702.SZ', '002703.SZ', '002705.SZ', '002706.SZ', '002707.SZ', '002708.SZ', '002709.SZ', '002712.SZ', '002713.SZ', '002714.SZ', '002715.SZ', '002716.SZ', '002717.SZ', '002718.SZ', '002719.SZ', '002721.SZ', '002722.SZ', '002723.SZ', '002724.SZ', '002725.SZ', '002726.SZ', '002727.SZ', '002728.SZ', '002729.SZ', '002730.SZ', '002731.SZ', '002732.SZ', '002733.SZ', '002734.SZ', '002735.SZ', '002737.SZ', '002738.SZ', '002739.SZ', '002740.SZ', '002741.SZ', '002742.SZ', '002743.SZ', '002745.SZ', '002746.SZ', '002747.SZ', '002748.SZ', '002749.SZ', '002750.SZ', '002751.SZ', '002752.SZ', '002753.SZ', '002755.SZ', '002756.SZ', '002757.SZ', '002758.SZ', '002759.SZ', '002760.SZ', '002761.SZ', '002762.SZ', '002763.SZ', '002765.SZ', '002766.SZ', '002767.SZ', '002768.SZ', '002769.SZ', '002771.SZ', '002772.SZ', '002773.SZ', '002774.SZ', '002775.SZ', '002776.SZ', '002777.SZ', '002778.SZ', '002779.SZ', '002780.SZ', '002781.SZ', '002782.SZ', '002783.SZ', '002785.SZ', '002786.SZ', '002787.SZ', '002788.SZ', '002789.SZ', '002790.SZ', '002791.SZ', '002792.SZ', '002793.SZ', '002795.SZ', '002796.SZ', '002798.SZ', '002799.SZ', '002800.SZ', '002801.SZ', '002802.SZ', '002803.SZ', '002805.SZ', '002806.SZ', '002808.SZ', '002809.SZ', '002810.SZ', '002811.SZ', '002812.SZ', '002813.SZ', '002815.SZ', '002816.SZ', '002817.SZ', '002818.SZ', '002819.SZ', '002820.SZ', '002821.SZ', '002822.SZ', '002823.SZ', '002824.SZ', '002825.SZ', '002826.SZ', '002827.SZ', '002828.SZ', '002829.SZ', '002830.SZ', '002831.SZ', '002832.SZ', '002833.SZ', '002835.SZ', '002836.SZ', '002837.SZ', '002838.SZ', '002840.SZ', '002841.SZ', '002842.SZ', '002843.SZ', '002845.SZ', '002846.SZ', '002847.SZ', '002848.SZ', '002849.SZ', '002850.SZ', '002851.SZ', '002852.SZ', '002853.SZ', '002855.SZ', '002856.SZ', '002857.SZ', '002858.SZ', '002859.SZ', '002860.SZ', '002861.SZ', '002862.SZ', '002863.SZ', '002864.SZ', '002865.SZ', '002866.SZ', '002867.SZ', '002868.SZ', '002869.SZ', '002870.SZ', '002871.SZ', '002872.SZ', '002873.SZ', '002875.SZ', '002876.SZ', '002878.SZ', '002879.SZ', '002880.SZ', '002881.SZ', '002882.SZ', '002883.SZ', '002884.SZ', '002885.SZ', '002886.SZ', '002887.SZ', '002888.SZ', '002889.SZ', '002890.SZ', '002891.SZ', '002892.SZ', '002893.SZ', '002895.SZ', '002896.SZ', '002897.SZ', '002898.SZ', '002899.SZ', '002900.SZ', '002901.SZ', '002902.SZ', '002903.SZ', '002905.SZ', '002906.SZ', '002907.SZ', '002908.SZ', '002909.SZ', '002910.SZ', '002911.SZ', '002912.SZ', '002913.SZ', '002915.SZ', '002916.SZ', '002917.SZ', '002918.SZ', '002919.SZ', '002920.SZ', '002921.SZ', '002922.SZ', '002923.SZ', '002925.SZ', '002927.SZ', '002928.SZ', '002929.SZ', '002930.SZ', '002931.SZ', '002932.SZ', '002933.SZ', '002935.SZ', '002937.SZ', '002938.SZ', '002940.SZ', '002941.SZ', '002942.SZ', '002943.SZ', '002946.SZ', '002947.SZ', '002949.SZ', '002950.SZ', '002951.SZ', '002952.SZ', '002953.SZ', '002955.SZ', '002956.SZ', '002957.SZ', '002959.SZ', '002960.SZ', '002962.SZ', '002963.SZ', '002965.SZ', '002967.SZ', '002968.SZ', '002969.SZ', '002970.SZ', '002971.SZ', '002972.SZ', '002973.SZ', '002975.SZ', '002976.SZ', '002977.SZ', '002978.SZ', '002979.SZ', '002980.SZ', '002981.SZ', '002982.SZ', '002983.SZ', '002984.SZ', '002985.SZ', '002986.SZ', '002987.SZ', '002988.SZ', '002989.SZ', '002990.SZ', '002991.SZ', '002992.SZ', '002993.SZ', '002995.SZ', '002996.SZ', '002997.SZ', '002998.SZ', '002999.SZ', '003000.SZ', '003001.SZ', '003002.SZ', '003003.SZ', '003004.SZ', '003005.SZ', '003006.SZ', '003007.SZ', '003008.SZ', '003009.SZ', '003010.SZ', '003011.SZ', '003012.SZ', '003013.SZ', '003015.SZ', '003016.SZ', '003017.SZ', '003018.SZ', '003019.SZ', '003020.SZ', '003021.SZ', '003022.SZ', '003023.SZ', '003025.SZ', '003026.SZ', '003027.SZ', '003028.SZ', '003029.SZ', '003030.SZ', '003031.SZ', '003032.SZ', '003033.SZ', '003035.SZ', '003036.SZ', '003037.SZ', '003038.SZ', '003039.SZ', '003040.SZ', '003041.SZ', '003042.SZ', '003043.SZ', '003816.SZ', '300001.SZ', '300002.SZ', '300003.SZ', '300004.SZ', '300005.SZ', '300006.SZ', '300007.SZ', '300008.SZ', '300009.SZ', '300010.SZ', '300011.SZ', '300012.SZ', '300013.SZ', '300014.SZ', '300015.SZ', '300016.SZ', '300017.SZ', '300018.SZ', '300019.SZ', '300020.SZ', '300021.SZ', '300022.SZ', '300024.SZ', '300025.SZ', '300026.SZ', '300027.SZ', '300029.SZ', '300030.SZ', '300031.SZ', '300032.SZ', '300033.SZ', '300034.SZ', '300035.SZ', '300036.SZ', '300037.SZ', '300039.SZ', '300040.SZ', '300041.SZ', '300042.SZ', '300043.SZ', '300044.SZ', '300045.SZ', '300046.SZ', '300047.SZ', '300048.SZ', '300049.SZ', '300050.SZ', '300051.SZ', '300052.SZ', '300053.SZ', '300054.SZ', '300055.SZ', '300056.SZ', '300057.SZ', '300058.SZ', '300059.SZ', '300061.SZ', '300062.SZ', '300063.SZ', '300065.SZ', '300066.SZ', '300067.SZ', '300068.SZ', '300069.SZ', '300070.SZ', '300071.SZ', '300072.SZ', '300073.SZ', '300074.SZ', '300075.SZ', '300076.SZ', '300077.SZ', '300078.SZ', '300079.SZ', '300080.SZ', '300081.SZ', '300082.SZ', '300083.SZ', '300084.SZ', '300085.SZ', '300086.SZ', '300087.SZ', '300088.SZ', '300089.SZ', '300091.SZ', '300092.SZ', '300093.SZ', '300094.SZ', '300095.SZ', '300096.SZ', '300097.SZ', '300098.SZ', '300099.SZ', '300100.SZ', '300101.SZ', '300102.SZ', '300103.SZ', '300105.SZ', '300106.SZ', '300107.SZ', '300108.SZ', '300109.SZ', '300110.SZ', '300111.SZ', '300112.SZ', '300113.SZ', '300114.SZ', '300115.SZ', '300116.SZ', '300117.SZ', '300118.SZ', '300119.SZ', '300120.SZ', '300121.SZ', '300122.SZ', '300123.SZ', '300124.SZ', '300125.SZ', '300126.SZ', '300127.SZ', '300128.SZ', '300129.SZ', '300130.SZ', '300131.SZ', '300132.SZ', '300133.SZ', '300134.SZ', '300135.SZ', '300136.SZ', '300137.SZ', '300138.SZ', '300139.SZ', '300140.SZ', '300141.SZ', '300142.SZ', '300143.SZ', '300144.SZ', '300145.SZ', '300146.SZ', '300147.SZ', '300148.SZ', '300149.SZ', '300150.SZ', '300151.SZ', '300152.SZ', '300153.SZ', '300154.SZ', '300155.SZ', '300157.SZ', '300158.SZ', '300159.SZ', '300160.SZ', '300161.SZ', '300162.SZ', '300163.SZ', '300164.SZ', '300165.SZ', '300166.SZ', '300167.SZ', '300168.SZ', '300169.SZ', '300170.SZ', '300171.SZ', '300172.SZ', '300173.SZ', '300174.SZ', '300175.SZ', '300176.SZ', '300177.SZ', '300179.SZ', '300180.SZ', '300181.SZ', '300182.SZ', '300183.SZ', '300184.SZ', '300185.SZ', '300187.SZ', '300188.SZ', '300189.SZ', '300190.SZ', '300191.SZ', '300192.SZ', '300193.SZ', '300194.SZ', '300195.SZ', '300196.SZ', '300197.SZ', '300198.SZ', '300199.SZ', '300200.SZ', '300201.SZ', '300203.SZ', '300204.SZ', '300205.SZ', '300206.SZ', '300207.SZ', '300208.SZ', '300209.SZ', '300210.SZ', '300211.SZ', '300212.SZ', '300213.SZ', '300214.SZ', '300215.SZ', '300217.SZ', '300218.SZ', '300219.SZ', '300220.SZ', '300221.SZ', '300222.SZ', '300223.SZ', '300224.SZ', '300225.SZ', '300226.SZ', '300227.SZ', '300228.SZ', '300229.SZ', '300230.SZ', '300231.SZ', '300232.SZ', '300233.SZ', '300234.SZ', '300235.SZ', '300236.SZ', '300237.SZ', '300238.SZ', '300239.SZ', '300240.SZ', '300241.SZ', '300242.SZ', '300243.SZ', '300244.SZ', '300245.SZ', '300246.SZ', '300247.SZ', '300248.SZ', '300249.SZ', '300250.SZ', '300251.SZ', '300252.SZ', '300253.SZ', '300254.SZ', '300255.SZ', '300256.SZ', '300257.SZ', '300258.SZ', '300259.SZ', '300260.SZ', '300261.SZ', '300262.SZ', '300263.SZ', '300264.SZ', '300265.SZ', '300266.SZ', '300267.SZ', '300268.SZ', '300269.SZ', '300270.SZ', '300271.SZ', '300272.SZ', '300273.SZ', '300274.SZ', '300275.SZ', '300276.SZ', '300277.SZ', '300278.SZ', '300279.SZ', '300280.SZ', '300281.SZ', '300282.SZ', '300283.SZ', '300284.SZ', '300285.SZ', '300286.SZ', '300287.SZ', '300288.SZ', '300289.SZ', '300290.SZ', '300291.SZ', '300292.SZ', '300293.SZ', '300294.SZ', '300295.SZ', '300296.SZ', '300297.SZ', '300298.SZ', '300299.SZ', '300300.SZ', '300301.SZ', '300302.SZ', '300303.SZ', '300304.SZ', '300305.SZ', '300306.SZ', '300307.SZ', '300308.SZ', '300309.SZ', '300310.SZ', '300311.SZ', '300313.SZ', '300314.SZ', '300315.SZ', '300316.SZ', '300317.SZ', '300318.SZ', '300319.SZ', '300320.SZ', '300321.SZ', '300322.SZ', '300323.SZ', '300324.SZ', '300326.SZ', '300328.SZ', '300329.SZ', '300330.SZ', '300331.SZ', '300332.SZ', '300333.SZ', '300334.SZ', '300335.SZ', '300336.SZ', '300337.SZ', '300338.SZ', '300339.SZ', '300340.SZ', '300341.SZ', '300342.SZ', '300343.SZ', '300344.SZ', '300345.SZ', '300346.SZ', '300347.SZ', '300348.SZ', '300349.SZ', '300350.SZ', '300351.SZ', '300352.SZ', '300353.SZ', '300354.SZ', '300355.SZ', '300356.SZ', '300357.SZ', '300358.SZ', '300359.SZ', '300360.SZ', '300363.SZ', '300364.SZ', '300365.SZ', '300366.SZ', '300368.SZ', '300369.SZ', '300370.SZ', '300371.SZ', '300373.SZ', '300374.SZ', '300375.SZ', '300376.SZ', '300377.SZ', '300378.SZ', '300379.SZ', '300380.SZ', '300381.SZ', '300382.SZ', '300383.SZ', '300384.SZ', '300385.SZ', '300386.SZ', '300387.SZ', '300388.SZ', '300389.SZ', '300390.SZ', '300391.SZ', '300392.SZ', '300393.SZ', '300394.SZ', '300395.SZ', '300396.SZ', '300397.SZ', '300398.SZ', '300399.SZ', '300400.SZ', '300401.SZ', '300402.SZ', '300403.SZ', '300404.SZ', '300405.SZ', '300406.SZ', '300407.SZ', '300408.SZ', '300409.SZ', '300410.SZ', '300411.SZ', '300412.SZ', '300413.SZ', '300414.SZ', '300415.SZ', '300416.SZ', '300417.SZ', '300418.SZ', '300419.SZ', '300420.SZ', '300421.SZ', '300422.SZ', '300423.SZ', '300424.SZ', '300425.SZ', '300426.SZ', '300427.SZ', '300428.SZ', '300429.SZ', '300430.SZ', '300432.SZ', '300433.SZ', '300434.SZ', '300435.SZ', '300436.SZ', '300437.SZ', '300438.SZ', '300439.SZ', '300440.SZ', '300441.SZ', '300442.SZ', '300443.SZ', '300444.SZ', '300445.SZ', '300446.SZ', '300447.SZ', '300448.SZ', '300449.SZ', '300450.SZ', '300451.SZ', '300452.SZ', '300453.SZ', '300454.SZ', '300455.SZ', '300456.SZ', '300457.SZ', '300458.SZ', '300459.SZ', '300460.SZ', '300461.SZ', '300462.SZ', '300463.SZ', '300464.SZ', '300465.SZ', '300466.SZ', '300467.SZ', '300468.SZ', '300469.SZ', '300470.SZ', '300471.SZ', '300472.SZ', '300473.SZ', '300474.SZ', '300475.SZ', '300476.SZ', '300477.SZ', '300478.SZ', '300479.SZ', '300480.SZ', '300481.SZ', '300482.SZ', '300483.SZ', '300484.SZ', '300485.SZ', '300486.SZ', '300487.SZ', '300488.SZ', '300489.SZ', '300490.SZ', '300491.SZ', '300492.SZ', '300493.SZ', '300494.SZ', '300495.SZ', '300496.SZ', '300497.SZ', '300498.SZ', '300499.SZ', '300500.SZ', '300501.SZ', '300502.SZ', '300503.SZ', '300504.SZ', '300505.SZ', '300506.SZ', '300507.SZ', '300508.SZ', '300509.SZ', '300510.SZ', '300511.SZ', '300512.SZ', '300513.SZ', '300514.SZ', '300515.SZ', '300516.SZ', '300517.SZ', '300518.SZ', '300519.SZ', '300520.SZ', '300521.SZ', '300522.SZ', '300523.SZ', '300525.SZ', '300526.SZ', '300527.SZ', '300528.SZ', '300529.SZ', '300530.SZ', '300531.SZ', '300532.SZ', '300533.SZ', '300534.SZ', '300535.SZ', '300536.SZ', '300537.SZ', '300538.SZ', '300539.SZ', '300540.SZ', '300541.SZ', '300542.SZ', '300543.SZ', '300545.SZ', '300546.SZ', '300547.SZ', '300548.SZ', '300549.SZ', '300550.SZ', '300551.SZ', '300552.SZ', '300553.SZ', '300554.SZ', '300555.SZ', '300556.SZ', '300557.SZ', '300558.SZ', '300559.SZ', '300560.SZ', '300561.SZ', '300562.SZ', '300563.SZ', '300564.SZ', '300565.SZ', '300566.SZ', '300567.SZ', '300568.SZ', '300569.SZ', '300570.SZ', '300571.SZ', '300572.SZ', '300573.SZ', '300575.SZ', '300576.SZ', '300577.SZ', '300578.SZ', '300579.SZ', '300580.SZ', '300581.SZ', '300582.SZ', '300583.SZ', '300584.SZ', '300585.SZ', '300586.SZ', '300587.SZ', '300588.SZ', '300589.SZ', '300590.SZ', '300591.SZ', '300592.SZ', '300593.SZ', '300594.SZ', '300595.SZ', '300596.SZ', '300597.SZ', '300598.SZ', '300599.SZ', '300600.SZ', '300601.SZ', '300602.SZ', '300603.SZ', '300604.SZ', '300605.SZ', '300606.SZ', '300607.SZ', '300608.SZ', '300609.SZ', '300610.SZ', '300611.SZ', '300612.SZ', '300613.SZ', '300615.SZ', '300616.SZ', '300617.SZ', '300618.SZ', '300619.SZ', '300620.SZ', '300621.SZ', '300622.SZ', '300623.SZ', '300624.SZ', '300625.SZ', '300626.SZ', '300627.SZ', '300628.SZ', '300629.SZ', '300630.SZ', '300631.SZ', '300632.SZ', '300633.SZ', '300634.SZ', '300635.SZ', '300636.SZ', '300637.SZ', '300638.SZ', '300639.SZ', '300640.SZ', '300641.SZ', '300642.SZ', '300643.SZ', '300644.SZ', '300645.SZ', '300647.SZ', '300648.SZ', '300649.SZ', '300650.SZ', '300651.SZ', '300652.SZ', '300653.SZ', '300654.SZ', '300655.SZ', '300656.SZ', '300657.SZ', '300658.SZ', '300659.SZ', '300660.SZ', '300661.SZ', '300662.SZ', '300663.SZ', '300664.SZ', '300665.SZ', '300666.SZ', '300667.SZ', '300668.SZ', '300669.SZ', '300670.SZ', '300671.SZ', '300672.SZ', '300673.SZ', '300674.SZ', '300675.SZ', '300676.SZ', '300677.SZ', '300678.SZ', '300679.SZ', '300680.SZ', '300681.SZ', '300682.SZ', '300683.SZ', '300684.SZ', '300685.SZ', '300686.SZ', '300687.SZ', '300688.SZ', '300689.SZ', '300690.SZ', '300691.SZ', '300692.SZ', '300693.SZ', '300694.SZ', '300695.SZ', '300696.SZ', '300697.SZ', '300698.SZ', '300699.SZ', '300700.SZ', '300701.SZ', '300702.SZ', '300703.SZ', '300705.SZ', '300706.SZ', '300707.SZ', '300708.SZ', '300709.SZ', '300710.SZ', '300711.SZ', '300712.SZ', '300713.SZ', '300715.SZ', '300716.SZ', '300717.SZ', '300718.SZ', '300719.SZ', '300720.SZ', '300721.SZ', '300722.SZ', '300723.SZ', '300724.SZ', '300725.SZ', '300726.SZ', '300727.SZ', '300729.SZ', '300730.SZ', '300731.SZ', '300732.SZ', '300733.SZ', '300735.SZ', '300736.SZ', '300737.SZ', '300738.SZ', '300739.SZ', '300740.SZ', '300741.SZ', '300742.SZ', '300743.SZ', '300745.SZ', '300746.SZ', '300747.SZ', '300748.SZ', '300749.SZ', '300750.SZ', '300751.SZ', '300752.SZ', '300753.SZ', '300755.SZ', '300756.SZ', '300757.SZ', '300758.SZ', '300759.SZ', '300760.SZ', '300761.SZ', '300762.SZ', '300763.SZ', '300765.SZ', '300766.SZ', '300767.SZ', '300768.SZ', '300769.SZ', '300770.SZ', '300771.SZ', '300772.SZ', '300773.SZ', '300775.SZ', '300776.SZ', '300777.SZ', '300778.SZ', '300779.SZ', '300780.SZ', '300781.SZ', '300782.SZ', '300783.SZ', '300785.SZ', '300786.SZ', '300787.SZ', '300788.SZ', '300789.SZ', '300790.SZ', '300791.SZ', '300792.SZ', '300793.SZ', '300795.SZ', '300796.SZ', '300797.SZ', '300798.SZ', '300799.SZ', '300800.SZ', '300801.SZ', '300802.SZ', '300803.SZ', '300805.SZ', '300806.SZ', '300807.SZ', '300808.SZ', '300809.SZ', '300810.SZ', '300811.SZ', '300812.SZ', '300813.SZ', '300815.SZ', '300816.SZ', '300817.SZ', '300818.SZ', '300819.SZ', '300820.SZ', '300821.SZ', '300822.SZ', '300823.SZ', '300824.SZ', '300825.SZ', '300826.SZ', '300827.SZ', '300828.SZ', '300829.SZ', '300830.SZ', '300831.SZ', '300832.SZ', '300833.SZ', '300835.SZ', '300836.SZ', '300837.SZ', '300838.SZ', '300839.SZ', '300840.SZ', '300841.SZ', '300842.SZ', '300843.SZ', '300845.SZ', '300846.SZ', '300847.SZ', '300848.SZ', '300849.SZ', '300850.SZ', '300851.SZ', '300852.SZ', '300853.SZ', '300855.SZ', '300856.SZ', '300857.SZ', '300858.SZ', '300859.SZ', '300860.SZ', '300861.SZ', '300862.SZ', '300863.SZ', '300864.SZ', '300865.SZ', '300866.SZ', '300867.SZ', '300868.SZ', '300869.SZ', '300870.SZ', '300871.SZ', '300872.SZ', '300873.SZ', '300875.SZ', '300876.SZ', '300877.SZ', '300878.SZ', '300879.SZ', '300880.SZ', '300881.SZ', '300882.SZ', '300883.SZ', '300884.SZ', '300885.SZ', '300886.SZ', '300887.SZ', '300888.SZ', '300889.SZ', '300890.SZ', '300891.SZ', '300892.SZ', '300893.SZ', '300894.SZ', '300895.SZ', '300896.SZ', '300897.SZ', '300898.SZ', '300899.SZ', '300900.SZ', '300901.SZ', '300902.SZ', '300903.SZ', '300905.SZ', '300906.SZ', '300907.SZ', '300908.SZ', '300909.SZ', '300910.SZ', '300911.SZ', '300912.SZ', '300913.SZ', '300915.SZ', '300916.SZ', '300917.SZ', '300918.SZ', '300919.SZ', '300920.SZ', '300921.SZ', '300922.SZ', '300923.SZ', '300925.SZ', '300926.SZ', '300927.SZ', '300928.SZ', '300929.SZ', '300930.SZ', '300931.SZ', '300932.SZ', '300933.SZ', '300935.SZ', '300936.SZ', '300937.SZ', '300938.SZ', '300939.SZ', '300940.SZ', '300941.SZ', '300942.SZ', '300943.SZ', '300945.SZ', '300946.SZ', '300947.SZ', '300948.SZ', '300949.SZ', '300950.SZ', '300951.SZ', '300952.SZ', '300953.SZ', '300955.SZ', '300956.SZ', '300957.SZ', '300958.SZ', '300959.SZ', '300960.SZ', '300961.SZ', '300962.SZ', '300963.SZ', '300965.SZ', '300966.SZ', '300967.SZ', '300968.SZ', '300969.SZ', '300970.SZ', '300971.SZ', '300972.SZ', '300973.SZ', '300975.SZ', '300976.SZ', '300977.SZ', '300978.SZ', '300979.SZ', '300980.SZ', '300981.SZ', '300982.SZ', '300983.SZ', '300985.SZ', '300986.SZ', '300987.SZ', '300988.SZ', '300989.SZ', '300990.SZ', '300999.SZ', '600004.SH', '600006.SH', '600007.SH', '600008.SH', '600009.SH', '600010.SH', '600011.SH', '600012.SH', '600017.SH', '600018.SH', '600019.SH', '600020.SH', '600021.SH', '600022.SH', '600023.SH', '600025.SH', '600026.SH', '600027.SH', '600028.SH', '600029.SH', '600031.SH', '600033.SH', '600035.SH', '600037.SH', '600038.SH', '600039.SH', '600048.SH', '600050.SH', '600051.SH', '600052.SH', '600053.SH', '600054.SH', '600055.SH', '600056.SH', '600057.SH', '600058.SH', '600059.SH', '600060.SH', '600061.SH', '600062.SH', '600063.SH', '600064.SH', '600066.SH', '600067.SH', '600070.SH', '600071.SH', '600072.SH', '600073.SH', '600075.SH', '600076.SH', '600077.SH', '600078.SH', '600079.SH', '600080.SH', '600081.SH', '600082.SH', '600083.SH', '600084.SH', '600085.SH', '600088.SH', '600089.SH', '600094.SH', '600095.SH', '600096.SH', '600097.SH', '600098.SH', '600099.SH', '600100.SH', '600101.SH', '600103.SH', '600104.SH', '600105.SH', '600106.SH', '600107.SH', '600108.SH', '600110.SH', '600111.SH', '600112.SH', '600113.SH', '600114.SH', '600115.SH', '600116.SH', '600117.SH', '600118.SH', '600119.SH', '600120.SH', '600121.SH', '600122.SH', '600123.SH', '600125.SH', '600126.SH', '600127.SH', '600128.SH', '600129.SH', '600130.SH', '600131.SH', '600132.SH', '600133.SH', '600135.SH', '600136.SH', '600137.SH', '600138.SH', '600139.SH', '600141.SH', '600143.SH', '600148.SH', '600149.SH', '600150.SH', '600151.SH', '600152.SH', '600153.SH', '600156.SH', '600157.SH', '600158.SH', '600159.SH', '600160.SH', '600161.SH', '600162.SH', '600163.SH', '600165.SH', '600166.SH', '600167.SH', '600168.SH', '600169.SH', '600170.SH', '600171.SH', '600172.SH', '600173.SH', '600176.SH', '600177.SH', '600178.SH', '600179.SH', '600180.SH', '600182.SH', '600183.SH', '600184.SH', '600185.SH', '600186.SH', '600187.SH', '600188.SH', '600189.SH', '600190.SH', '600191.SH', '600192.SH', '600193.SH', '600195.SH', '600196.SH', '600197.SH', '600198.SH', '600199.SH', '600200.SH', '600201.SH', '600202.SH', '600203.SH', '600206.SH', '600207.SH', '600208.SH', '600210.SH', '600211.SH', '600212.SH', '600213.SH', '600215.SH', '600216.SH', '600217.SH', '600218.SH', '600219.SH', '600220.SH', '600221.SH', '600222.SH', '600223.SH', '600225.SH', '600226.SH', '600227.SH', '600228.SH', '600229.SH', '600230.SH', '600231.SH', '600232.SH', '600233.SH', '600234.SH', '600235.SH', '600236.SH', '600237.SH', '600238.SH', '600239.SH', '600241.SH', '600242.SH', '600243.SH', '600246.SH', '600248.SH', '600249.SH', '600250.SH', '600251.SH', '600252.SH', '600255.SH', '600256.SH', '600257.SH', '600258.SH', '600259.SH', '600261.SH', '600262.SH', '600265.SH', '600266.SH', '600267.SH', '600268.SH', '600269.SH', '600271.SH', '600272.SH', '600273.SH', '600276.SH', '600277.SH', '600278.SH', '600279.SH', '600280.SH', '600281.SH', '600282.SH', '600283.SH', '600284.SH', '600285.SH', '600287.SH', '600288.SH', '600289.SH', '600290.SH', '600292.SH', '600293.SH', '600295.SH', '600297.SH', '600298.SH', '600299.SH', '600300.SH', '600301.SH', '600302.SH', '600303.SH', '600305.SH', '600306.SH', '600307.SH', '600308.SH', '600309.SH', '600310.SH', '600311.SH', '600312.SH', '600313.SH', '600315.SH', '600316.SH', '600318.SH', '600319.SH', '600320.SH', '600321.SH', '600322.SH', '600323.SH', '600325.SH', '600326.SH', '600327.SH', '600328.SH', '600329.SH', '600330.SH', '600331.SH', '600332.SH', '600333.SH', '600335.SH', '600336.SH', '600337.SH', '600338.SH', '600339.SH', '600340.SH', '600343.SH', '600345.SH', '600346.SH', '600348.SH', '600350.SH', '600351.SH', '600352.SH', '600353.SH', '600354.SH', '600355.SH', '600356.SH', '600358.SH', '600359.SH', '600360.SH', '600361.SH', '600362.SH', '600363.SH', '600365.SH', '600366.SH', '600367.SH', '600368.SH', '600370.SH', '600371.SH', '600372.SH', '600373.SH', '600375.SH', '600376.SH', '600377.SH', '600378.SH', '600379.SH', '600380.SH', '600381.SH', '600382.SH', '600383.SH', '600386.SH', '600387.SH', '600388.SH', '600389.SH', '600390.SH', '600391.SH', '600392.SH', '600393.SH', '600395.SH', '600396.SH', '600397.SH', '600398.SH', '600399.SH', '600400.SH', '600403.SH', '600405.SH', '600406.SH', '600408.SH', '600409.SH', '600410.SH', '600415.SH', '600416.SH', '600418.SH', '600419.SH', '600420.SH', '600421.SH', '600422.SH', '600423.SH', '600425.SH', '600426.SH', '600428.SH', '600429.SH', '600433.SH', '600435.SH', '600436.SH', '600438.SH', '600439.SH', '600444.SH', '600446.SH', '600448.SH', '600449.SH', '600452.SH', '600455.SH', '600456.SH', '600458.SH', '600459.SH', '600460.SH', '600461.SH', '600462.SH', '600463.SH', '600466.SH', '600467.SH', '600468.SH', '600469.SH', '600470.SH', '600475.SH', '600476.SH', '600477.SH', '600478.SH', '600479.SH', '600481.SH', '600482.SH', '600483.SH', '600486.SH', '600487.SH', '600488.SH', '600489.SH', '600490.SH', '600491.SH', '600493.SH', '600495.SH', '600496.SH', '600497.SH', '600498.SH', '600499.SH', '600500.SH', '600501.SH', '600502.SH', '600503.SH', '600505.SH', '600506.SH', '600507.SH', '600508.SH', '600509.SH', '600510.SH', '600511.SH', '600512.SH', '600513.SH', '600515.SH', '600516.SH', '600517.SH', '600518.SH', '600519.SH', '600520.SH', '600521.SH', '600522.SH', '600523.SH', '600525.SH', '600526.SH', '600527.SH', '600528.SH', '600529.SH', '600530.SH', '600531.SH', '600532.SH', '600533.SH', '600535.SH', '600536.SH', '600537.SH', '600538.SH', '600539.SH', '600540.SH', '600543.SH', '600545.SH', '600546.SH', '600548.SH', '600549.SH', '600550.SH', '600551.SH', '600552.SH', '600556.SH', '600557.SH', '600558.SH', '600559.SH', '600560.SH', '600561.SH', '600562.SH', '600563.SH', '600565.SH', '600566.SH', '600567.SH', '600568.SH', '600569.SH', '600570.SH', '600571.SH', '600572.SH', '600573.SH', '600575.SH', '600576.SH', '600577.SH', '600578.SH', '600579.SH', '600580.SH', '600581.SH', '600582.SH', '600583.SH', '600584.SH', '600585.SH', '600586.SH', '600587.SH', '600588.SH', '600589.SH', '600590.SH', '600592.SH', '600593.SH', '600594.SH', '600595.SH', '600596.SH', '600597.SH', '600598.SH', '600599.SH', '600600.SH', '600601.SH', '600602.SH', '600603.SH', '600604.SH', '600605.SH', '600606.SH', '600608.SH', '600609.SH', '600610.SH', '600611.SH', '600612.SH', '600613.SH', '600615.SH', '600616.SH', '600617.SH', '600618.SH', '600619.SH', '600620.SH', '600621.SH', '600622.SH', '600623.SH', '600624.SH', '600626.SH', '600628.SH', '600629.SH', '600630.SH', '600633.SH', '600635.SH', '600636.SH', '600637.SH', '600638.SH', '600639.SH', '600640.SH', '600641.SH', '600642.SH', '600643.SH', '600644.SH', '600645.SH', '600647.SH', '600648.SH', '600649.SH', '600650.SH', '600651.SH', '600653.SH', '600654.SH', '600655.SH', '600657.SH', '600658.SH', '600660.SH', '600661.SH', '600662.SH', '600663.SH', '600664.SH', '600665.SH', '600666.SH', '600667.SH', '600668.SH', '600671.SH', '600673.SH', '600674.SH', '600675.SH', '600676.SH', '600678.SH', '600679.SH', '600681.SH', '600682.SH', '600683.SH', '600684.SH', '600685.SH', '600686.SH', '600688.SH', '600689.SH', '600690.SH', '600691.SH', '600692.SH', '600693.SH', '600694.SH', '600696.SH', '600697.SH', '600698.SH', '600699.SH', '600702.SH', '600703.SH', '600704.SH', '600705.SH', '600706.SH', '600707.SH', '600708.SH', '600710.SH', '600711.SH', '600712.SH', '600713.SH', '600714.SH', '600715.SH', '600716.SH', '600717.SH', '600718.SH', '600719.SH', '600720.SH', '600721.SH', '600722.SH', '600724.SH', '600725.SH', '600726.SH', '600727.SH', '600728.SH', '600729.SH', '600730.SH', '600731.SH', '600732.SH', '600733.SH', '600734.SH', '600735.SH', '600736.SH', '600737.SH', '600738.SH', '600739.SH', '600740.SH', '600741.SH', '600742.SH', '600743.SH', '600744.SH', '600745.SH', '600746.SH', '600748.SH', '600749.SH', '600750.SH', '600751.SH', '600753.SH', '600754.SH', '600755.SH', '600756.SH', '600757.SH', '600758.SH', '600759.SH', '600760.SH', '600761.SH', '600763.SH', '600764.SH', '600765.SH', '600766.SH', '600767.SH', '600768.SH', '600769.SH', '600770.SH', '600771.SH', '600773.SH', '600774.SH', '600775.SH', '600776.SH', '600777.SH', '600778.SH', '600779.SH', '600780.SH', '600781.SH', '600782.SH', '600783.SH', '600784.SH', '600785.SH', '600787.SH', '600789.SH', '600790.SH', '600791.SH', '600792.SH', '600793.SH', '600794.SH', '600795.SH', '600796.SH', '600797.SH', '600798.SH', '600800.SH', '600801.SH', '600802.SH', '600803.SH', '600804.SH', '600805.SH', '600807.SH', '600808.SH', '600809.SH', '600810.SH', '600811.SH', '600812.SH', '600814.SH', '600815.SH', '600817.SH', '600818.SH', '600819.SH', '600820.SH', '600821.SH', '600822.SH', '600823.SH', '600824.SH', '600825.SH', '600826.SH', '600827.SH', '600828.SH', '600829.SH', '600830.SH', '600831.SH', '600833.SH', '600834.SH', '600835.SH', '600836.SH', '600838.SH', '600839.SH', '600841.SH', '600843.SH', '600844.SH', '600845.SH', '600846.SH', '600847.SH', '600848.SH', '600850.SH', '600851.SH', '600853.SH', '600854.SH', '600855.SH', '600857.SH', '600858.SH', '600859.SH', '600860.SH', '600861.SH', '600862.SH', '600863.SH', '600864.SH', '600865.SH', '600866.SH', '600867.SH', '600868.SH', '600869.SH', '600871.SH', '600872.SH', '600873.SH', '600874.SH', '600875.SH', '600876.SH', '600877.SH', '600879.SH', '600880.SH', '600881.SH', '600882.SH', '600883.SH', '600884.SH', '600885.SH', '600886.SH', '600887.SH', '600888.SH', '600889.SH', '600892.SH', '600893.SH', '600894.SH', '600895.SH', '600897.SH', '600898.SH', '600900.SH', '600903.SH', '600916.SH', '600917.SH', '600929.SH', '600933.SH', '600936.SH', '600939.SH', '600956.SH', '600959.SH', '600960.SH', '600961.SH', '600962.SH', '600963.SH', '600965.SH', '600966.SH', '600967.SH', '600968.SH', '600969.SH', '600970.SH', '600971.SH', '600973.SH', '600975.SH', '600976.SH', '600977.SH', '600979.SH', '600980.SH', '600981.SH', '600982.SH', '600983.SH', '600984.SH', '600985.SH', '600986.SH', '600987.SH', '600988.SH', '600989.SH', '600990.SH', '600992.SH', '600993.SH', '600995.SH', '600996.SH', '600997.SH', '600998.SH', '601000.SH', '601001.SH', '601002.SH', '601003.SH', '601005.SH', '601006.SH', '601007.SH', '601008.SH', '601010.SH', '601011.SH', '601012.SH', '601015.SH', '601016.SH', '601018.SH', '601020.SH', '601021.SH', '601028.SH', '601038.SH', '601058.SH', '601068.SH', '601069.SH', '601086.SH', '601088.SH', '601098.SH', '601100.SH', '601101.SH', '601106.SH', '601107.SH', '601111.SH', '601113.SH', '601116.SH', '601117.SH', '601118.SH', '601126.SH', '601127.SH', '601137.SH', '601138.SH', '601139.SH', '601155.SH', '601158.SH', '601163.SH', '601168.SH', '601177.SH', '601179.SH', '601186.SH', '601188.SH', '601199.SH', '601200.SH', '601208.SH', '601212.SH', '601216.SH', '601218.SH', '601222.SH', '601225.SH', '601226.SH', '601228.SH', '601231.SH', '601233.SH', '601238.SH', '601258.SH', '601279.SH', '601298.SH', '601311.SH', '601326.SH', '601330.SH', '601333.SH', '601339.SH', '601360.SH', '601366.SH', '601368.SH', '601369.SH', '601388.SH', '601390.SH', '601399.SH', '601500.SH', '601512.SH', '601515.SH', '601518.SH', '601519.SH', '601566.SH', '601567.SH', '601568.SH', '601579.SH', '601588.SH', '601595.SH', '601598.SH', '601599.SH', '601600.SH', '601606.SH', '601607.SH', '601608.SH', '601609.SH', '601611.SH', '601615.SH', '601616.SH', '601618.SH', '601619.SH', '601633.SH', '601636.SH', '601666.SH', '601668.SH', '601669.SH', '601677.SH', '601678.SH', '601686.SH', '601689.SH', '601698.SH', '601699.SH', '601700.SH', '601702.SH', '601717.SH', '601718.SH', '601727.SH', '601766.SH', '601777.SH', '601778.SH', '601789.SH', '601798.SH', '601799.SH', '601800.SH', '601801.SH', '601808.SH', '601811.SH', '601816.SH', '601827.SH', '601828.SH', '601857.SH', '601858.SH', '601865.SH', '601866.SH', '601869.SH', '601872.SH', '601877.SH', '601880.SH', '601882.SH', '601886.SH', '601888.SH', '601890.SH', '601898.SH', '601899.SH', '601900.SH', '601908.SH', '601918.SH', '601919.SH', '601928.SH', '601929.SH', '601933.SH', '601949.SH', '601952.SH', '601956.SH', '601958.SH', '601965.SH', '601966.SH', '601968.SH', '601969.SH', '601975.SH', '601985.SH', '601989.SH', '601991.SH', '601992.SH', '601996.SH', '601999.SH', '603000.SH', '603001.SH', '603002.SH', '603003.SH', '603005.SH', '603006.SH', '603007.SH', '603008.SH', '603009.SH', '603010.SH', '603011.SH', '603012.SH', '603013.SH', '603015.SH', '603016.SH', '603017.SH', '603018.SH', '603019.SH', '603020.SH', '603021.SH', '603022.SH', '603023.SH', '603025.SH', '603026.SH', '603027.SH', '603028.SH', '603029.SH', '603030.SH', '603031.SH', '603032.SH', '603033.SH', '603035.SH', '603036.SH', '603037.SH', '603038.SH', '603039.SH', '603040.SH', '603041.SH', '603042.SH', '603043.SH', '603045.SH', '603050.SH', '603053.SH', '603055.SH', '603056.SH', '603058.SH', '603059.SH', '603060.SH', '603063.SH', '603066.SH', '603067.SH', '603068.SH', '603069.SH', '603076.SH', '603077.SH', '603078.SH', '603079.SH', '603080.SH', '603081.SH', '603083.SH', '603085.SH', '603086.SH', '603087.SH', '603088.SH', '603089.SH', '603090.SH', '603095.SH', '603096.SH', '603098.SH', '603099.SH', '603100.SH', '603101.SH', '603103.SH', '603105.SH', '603106.SH', '603108.SH', '603109.SH', '603110.SH', '603111.SH', '603112.SH', '603113.SH', '603115.SH', '603116.SH', '603117.SH', '603118.SH', '603121.SH', '603123.SH', '603126.SH', '603127.SH', '603128.SH', '603129.SH', '603131.SH', '603133.SH', '603136.SH', '603138.SH', '603139.SH', '603155.SH', '603156.SH', '603158.SH', '603159.SH', '603160.SH', '603161.SH', '603165.SH', '603166.SH', '603167.SH', '603168.SH', '603169.SH', '603177.SH', '603178.SH', '603179.SH', '603180.SH', '603181.SH', '603183.SH', '603185.SH', '603186.SH', '603187.SH', '603188.SH', '603189.SH', '603192.SH', '603195.SH', '603196.SH', '603197.SH', '603198.SH', '603199.SH', '603200.SH', '603203.SH', '603208.SH', '603212.SH', '603214.SH', '603217.SH', '603218.SH', '603220.SH', '603221.SH', '603222.SH', '603223.SH', '603225.SH', '603226.SH', '603227.SH', '603228.SH', '603229.SH', '603232.SH', '603233.SH', '603236.SH', '603238.SH', '603239.SH', '603256.SH', '603258.SH', '603259.SH', '603260.SH', '603266.SH', '603267.SH', '603268.SH', '603269.SH', '603277.SH', '603278.SH', '603279.SH', '603283.SH', '603286.SH', '603288.SH', '603289.SH', '603290.SH', '603297.SH', '603298.SH', '603299.SH', '603300.SH', '603301.SH', '603303.SH', '603305.SH', '603306.SH', '603308.SH', '603309.SH', '603311.SH', '603313.SH', '603315.SH', '603316.SH', '603317.SH', '603318.SH', '603319.SH', '603320.SH', '603321.SH', '603322.SH', '603324.SH', '603326.SH', '603327.SH', '603328.SH', '603329.SH', '603330.SH', '603331.SH', '603332.SH', '603333.SH', '603335.SH', '603336.SH', '603337.SH', '603338.SH', '603339.SH', '603345.SH', '603348.SH', '603351.SH', '603353.SH', '603355.SH', '603356.SH', '603357.SH', '603358.SH', '603359.SH', '603360.SH', '603363.SH', '603365.SH', '603366.SH', '603367.SH', '603368.SH', '603369.SH', '603377.SH', '603378.SH', '603379.SH', '603380.SH', '603383.SH', '603385.SH', '603386.SH', '603387.SH', '603388.SH', '603389.SH', '603390.SH', '603392.SH', '603393.SH', '603396.SH', '603398.SH', '603399.SH', '603408.SH', '603416.SH', '603421.SH', '603429.SH', '603439.SH', '603444.SH', '603456.SH', '603458.SH', '603466.SH', '603477.SH', '603486.SH', '603488.SH', '603489.SH', '603496.SH', '603499.SH', '603500.SH', '603501.SH', '603505.SH', '603506.SH', '603507.SH', '603508.SH', '603515.SH', '603516.SH', '603517.SH', '603518.SH', '603519.SH', '603520.SH', '603527.SH', '603528.SH', '603530.SH', '603533.SH', '603535.SH', '603536.SH', '603538.SH', '603551.SH', '603555.SH', '603556.SH', '603557.SH', '603558.SH', '603559.SH', '603565.SH', '603566.SH', '603567.SH', '603568.SH', '603569.SH', '603577.SH', '603578.SH', '603579.SH', '603580.SH', '603583.SH', '603585.SH', '603586.SH', '603587.SH', '603588.SH', '603589.SH', '603590.SH', '603595.SH', '603596.SH', '603598.SH', '603599.SH', '603600.SH', '603601.SH', '603602.SH', '603603.SH', '603605.SH', '603606.SH', '603607.SH', '603608.SH', '603609.SH', '603610.SH', '603611.SH', '603612.SH', '603613.SH', '603615.SH', '603616.SH', '603617.SH', '603618.SH', '603619.SH', '603626.SH', '603628.SH', '603629.SH', '603630.SH', '603633.SH', '603636.SH', '603637.SH', '603638.SH', '603639.SH', '603648.SH', '603650.SH', '603655.SH', '603656.SH', '603657.SH', '603658.SH', '603659.SH', '603660.SH', '603661.SH', '603662.SH', '603663.SH', '603665.SH', '603666.SH', '603667.SH', '603668.SH', '603669.SH', '603676.SH', '603677.SH', '603678.SH', '603679.SH', '603680.SH', '603681.SH', '603682.SH', '603683.SH', '603685.SH', '603686.SH', '603687.SH', '603688.SH', '603689.SH', '603690.SH', '603693.SH', '603696.SH', '603697.SH', '603698.SH', '603699.SH', '603700.SH', '603701.SH', '603703.SH', '603706.SH', '603707.SH', '603708.SH', '603709.SH', '603711.SH', '603712.SH', '603713.SH', '603716.SH', '603717.SH', '603718.SH', '603719.SH', '603721.SH', '603722.SH', '603725.SH', '603726.SH', '603727.SH', '603728.SH', '603729.SH', '603730.SH', '603733.SH', '603737.SH', '603738.SH', '603739.SH', '603755.SH', '603757.SH', '603758.SH', '603759.SH', '603766.SH', '603767.SH', '603768.SH', '603773.SH', '603776.SH', '603777.SH', '603778.SH', '603779.SH', '603786.SH', '603787.SH', '603788.SH', '603789.SH', '603790.SH', '603797.SH', '603798.SH', '603799.SH', '603800.SH', '603801.SH', '603803.SH', '603806.SH', '603808.SH', '603809.SH', '603810.SH', '603811.SH', '603813.SH', '603815.SH', '603816.SH', '603817.SH', '603818.SH', '603819.SH', '603822.SH', '603823.SH', '603825.SH', '603826.SH', '603828.SH', '603829.SH', '603833.SH', '603838.SH', '603839.SH', '603843.SH', '603848.SH', '603855.SH', '603856.SH', '603858.SH', '603859.SH', '603860.SH', '603861.SH', '603863.SH', '603866.SH', '603867.SH', '603868.SH', '603869.SH', '603871.SH', '603876.SH', '603877.SH', '603878.SH', '603879.SH', '603880.SH', '603881.SH', '603882.SH', '603883.SH', '603885.SH', '603886.SH', '603887.SH', '603888.SH', '603889.SH', '603890.SH', '603893.SH', '603895.SH', '603896.SH', '603897.SH', '603898.SH', '603899.SH', '603900.SH', '603901.SH', '603903.SH', '603906.SH', '603908.SH', '603909.SH', '603912.SH', '603915.SH', '603916.SH', '603917.SH', '603918.SH', '603919.SH', '603920.SH', '603922.SH', '603926.SH', '603927.SH', '603928.SH', '603929.SH', '603931.SH', '603933.SH', '603936.SH', '603937.SH', '603938.SH', '603939.SH', '603948.SH', '603949.SH', '603950.SH', '603955.SH', '603956.SH', '603958.SH', '603959.SH', '603960.SH', '603963.SH', '603966.SH', '603967.SH', '603968.SH', '603969.SH', '603970.SH', '603976.SH', '603977.SH', '603978.SH', '603979.SH', '603980.SH', '603982.SH', '603983.SH', '603985.SH', '603986.SH', '603987.SH', '603988.SH', '603989.SH', '603990.SH', '603991.SH', '603992.SH', '603993.SH', '603995.SH', '603997.SH', '603998.SH', '603999.SH', '605001.SH', '605003.SH', '605005.SH', '605006.SH', '605007.SH', '605008.SH', '605009.SH', '605016.SH', '605018.SH', '605050.SH', '605055.SH', '605058.SH', '605060.SH', '605066.SH', '605068.SH', '605077.SH', '605080.SH', '605081.SH', '605086.SH', '605088.SH', '605089.SH', '605098.SH', '605099.SH', '605100.SH', '605108.SH', '605111.SH', '605116.SH', '605117.SH', '605118.SH', '605122.SH', '605123.SH', '605128.SH', '605133.SH', '605136.SH', '605151.SH', '605155.SH', '605158.SH', '605166.SH', '605168.SH', '605169.SH', '605177.SH', '605178.SH', '605179.SH', '605180.SH', '605183.SH', '605186.SH', '605188.SH', '605196.SH', '605198.SH', '605199.SH', '605208.SH', '605218.SH', '605222.SH', '605228.SH', '605255.SH', '605258.SH', '605266.SH', '605268.SH', '605277.SH', '605286.SH', '605288.SH', '605289.SH', '605298.SH', '605299.SH', '605300.SH', '605303.SH', '605305.SH', '605318.SH', '605333.SH', '605336.SH', '605337.SH', '605338.SH', '605358.SH', '605366.SH', '605368.SH', '605369.SH', '605376.SH', '605377.SH', '605378.SH', '605388.SH', '605389.SH', '605398.SH', '605399.SH', '605488.SH', '605500.SH'])"
      ]
     },
     "execution_count": 30,
     "metadata": {},
     "output_type": "execute_result"
    }
   ],
   "source": [
    "# all group keys\n",
    "code_finial_df.groups.keys()"
   ]
  },
  {
   "cell_type": "code",
   "execution_count": 31,
   "metadata": {},
   "outputs": [
    {
     "data": {
      "text/html": [
       "<div>\n",
       "<style scoped>\n",
       "    .dataframe tbody tr th:only-of-type {\n",
       "        vertical-align: middle;\n",
       "    }\n",
       "\n",
       "    .dataframe tbody tr th {\n",
       "        vertical-align: top;\n",
       "    }\n",
       "\n",
       "    .dataframe thead th {\n",
       "        text-align: right;\n",
       "    }\n",
       "</style>\n",
       "<table border=\"1\" class=\"dataframe\">\n",
       "  <thead>\n",
       "    <tr style=\"text-align: right;\">\n",
       "      <th></th>\n",
       "      <th>营业总收入</th>\n",
       "      <th>营业总成本</th>\n",
       "      <th>营业利润</th>\n",
       "      <th>利润总额</th>\n",
       "      <th>营业成本</th>\n",
       "      <th>净利润</th>\n",
       "      <th>持续经营净利润</th>\n",
       "      <th>销售费用</th>\n",
       "      <th>管理费用</th>\n",
       "      <th>研发费用</th>\n",
       "      <th>...</th>\n",
       "      <th>经营性资产</th>\n",
       "      <th>经营性负债</th>\n",
       "      <th>经营性净资产</th>\n",
       "      <th>经营性净资产_期初</th>\n",
       "      <th>经营性净资产_同期</th>\n",
       "      <th>资产收益率ROA</th>\n",
       "      <th>权益收益率ROE</th>\n",
       "      <th>投资资本收益率ROIC</th>\n",
       "      <th>经营性资产周转率</th>\n",
       "      <th>code</th>\n",
       "    </tr>\n",
       "    <tr>\n",
       "      <th>报告期</th>\n",
       "      <th></th>\n",
       "      <th></th>\n",
       "      <th></th>\n",
       "      <th></th>\n",
       "      <th></th>\n",
       "      <th></th>\n",
       "      <th></th>\n",
       "      <th></th>\n",
       "      <th></th>\n",
       "      <th></th>\n",
       "      <th></th>\n",
       "      <th></th>\n",
       "      <th></th>\n",
       "      <th></th>\n",
       "      <th></th>\n",
       "      <th></th>\n",
       "      <th></th>\n",
       "      <th></th>\n",
       "      <th></th>\n",
       "      <th></th>\n",
       "      <th></th>\n",
       "    </tr>\n",
       "  </thead>\n",
       "  <tbody>\n",
       "    <tr>\n",
       "      <th>2016-12-31</th>\n",
       "      <td>6.166683e+09</td>\n",
       "      <td>4.297098e+09</td>\n",
       "      <td>1.900167e+09</td>\n",
       "      <td>1.904709e+09</td>\n",
       "      <td>3.724037e+09</td>\n",
       "      <td>1.391942e+09</td>\n",
       "      <td>1.391942e+09</td>\n",
       "      <td>1.009950e+08</td>\n",
       "      <td>3.929888e+08</td>\n",
       "      <td>0.00</td>\n",
       "      <td>...</td>\n",
       "      <td>1.663614e+10</td>\n",
       "      <td>6.868987e+09</td>\n",
       "      <td>9.767154e+09</td>\n",
       "      <td>9.767154e+09</td>\n",
       "      <td>9.767154e+09</td>\n",
       "      <td>0.078448</td>\n",
       "      <td>0.128001</td>\n",
       "      <td>0.251545</td>\n",
       "      <td>0.631369</td>\n",
       "      <td>600004.SH</td>\n",
       "    </tr>\n",
       "    <tr>\n",
       "      <th>2017-12-31</th>\n",
       "      <td>6.761551e+09</td>\n",
       "      <td>4.676283e+09</td>\n",
       "      <td>2.164937e+09</td>\n",
       "      <td>2.165782e+09</td>\n",
       "      <td>4.018886e+09</td>\n",
       "      <td>1.601244e+09</td>\n",
       "      <td>1.601244e+09</td>\n",
       "      <td>8.834603e+07</td>\n",
       "      <td>3.996213e+08</td>\n",
       "      <td>23484887.69</td>\n",
       "      <td>...</td>\n",
       "      <td>1.948322e+10</td>\n",
       "      <td>5.069752e+09</td>\n",
       "      <td>1.441347e+10</td>\n",
       "      <td>9.767154e+09</td>\n",
       "      <td>9.767154e+09</td>\n",
       "      <td>0.079539</td>\n",
       "      <td>0.123295</td>\n",
       "      <td>0.360087</td>\n",
       "      <td>0.559254</td>\n",
       "      <td>600004.SH</td>\n",
       "    </tr>\n",
       "    <tr>\n",
       "      <th>2018-12-31</th>\n",
       "      <td>7.746818e+09</td>\n",
       "      <td>6.306452e+09</td>\n",
       "      <td>1.528128e+09</td>\n",
       "      <td>1.538337e+09</td>\n",
       "      <td>5.442283e+09</td>\n",
       "      <td>1.161929e+09</td>\n",
       "      <td>1.161929e+09</td>\n",
       "      <td>6.915999e+07</td>\n",
       "      <td>4.463866e+08</td>\n",
       "      <td>31053386.02</td>\n",
       "      <td>...</td>\n",
       "      <td>2.456108e+10</td>\n",
       "      <td>1.067265e+10</td>\n",
       "      <td>1.388843e+10</td>\n",
       "      <td>1.441347e+10</td>\n",
       "      <td>1.441347e+10</td>\n",
       "      <td>0.046867</td>\n",
       "      <td>0.075347</td>\n",
       "      <td>0.089629</td>\n",
       "      <td>0.547442</td>\n",
       "      <td>600004.SH</td>\n",
       "    </tr>\n",
       "    <tr>\n",
       "      <th>2019-12-31</th>\n",
       "      <td>8.238623e+09</td>\n",
       "      <td>6.959268e+09</td>\n",
       "      <td>1.420398e+09</td>\n",
       "      <td>1.428167e+09</td>\n",
       "      <td>6.076211e+09</td>\n",
       "      <td>1.130648e+09</td>\n",
       "      <td>1.130648e+09</td>\n",
       "      <td>9.815257e+07</td>\n",
       "      <td>5.289574e+08</td>\n",
       "      <td>27722859.77</td>\n",
       "      <td>...</td>\n",
       "      <td>2.463620e+10</td>\n",
       "      <td>8.420112e+09</td>\n",
       "      <td>1.621608e+10</td>\n",
       "      <td>1.388843e+10</td>\n",
       "      <td>1.388843e+10</td>\n",
       "      <td>0.042461</td>\n",
       "      <td>0.068705</td>\n",
       "      <td>0.073259</td>\n",
       "      <td>0.547335</td>\n",
       "      <td>600004.SH</td>\n",
       "    </tr>\n",
       "    <tr>\n",
       "      <th>2020-12-31</th>\n",
       "      <td>5.224638e+09</td>\n",
       "      <td>5.722640e+09</td>\n",
       "      <td>-1.748238e+08</td>\n",
       "      <td>-1.483956e+08</td>\n",
       "      <td>5.285013e+09</td>\n",
       "      <td>-2.319300e+08</td>\n",
       "      <td>-2.319300e+08</td>\n",
       "      <td>6.851522e+07</td>\n",
       "      <td>3.641575e+08</td>\n",
       "      <td>32514658.91</td>\n",
       "      <td>...</td>\n",
       "      <td>2.351653e+10</td>\n",
       "      <td>6.814916e+09</td>\n",
       "      <td>1.670161e+10</td>\n",
       "      <td>1.621608e+10</td>\n",
       "      <td>1.621608e+10</td>\n",
       "      <td>-0.008837</td>\n",
       "      <td>-0.012662</td>\n",
       "      <td>-0.013208</td>\n",
       "      <td>0.317436</td>\n",
       "      <td>600004.SH</td>\n",
       "    </tr>\n",
       "    <tr>\n",
       "      <th>2021-12-31</th>\n",
       "      <td>5.180238e+09</td>\n",
       "      <td>5.864562e+09</td>\n",
       "      <td>-5.414947e+08</td>\n",
       "      <td>-5.299924e+08</td>\n",
       "      <td>5.227676e+09</td>\n",
       "      <td>-3.854062e+08</td>\n",
       "      <td>-3.854062e+08</td>\n",
       "      <td>7.573761e+07</td>\n",
       "      <td>3.405195e+08</td>\n",
       "      <td>40208372.49</td>\n",
       "      <td>...</td>\n",
       "      <td>2.542694e+10</td>\n",
       "      <td>8.944058e+09</td>\n",
       "      <td>1.648288e+10</td>\n",
       "      <td>1.670161e+10</td>\n",
       "      <td>1.670161e+10</td>\n",
       "      <td>-0.014316</td>\n",
       "      <td>-0.020250</td>\n",
       "      <td>-0.019060</td>\n",
       "      <td>0.312208</td>\n",
       "      <td>600004.SH</td>\n",
       "    </tr>\n",
       "  </tbody>\n",
       "</table>\n",
       "<p>6 rows × 104 columns</p>\n",
       "</div>"
      ],
      "text/plain": [
       "                   营业总收入         营业总成本          营业利润          利润总额  \\\n",
       "报告期                                                                  \n",
       "2016-12-31  6.166683e+09  4.297098e+09  1.900167e+09  1.904709e+09   \n",
       "2017-12-31  6.761551e+09  4.676283e+09  2.164937e+09  2.165782e+09   \n",
       "2018-12-31  7.746818e+09  6.306452e+09  1.528128e+09  1.538337e+09   \n",
       "2019-12-31  8.238623e+09  6.959268e+09  1.420398e+09  1.428167e+09   \n",
       "2020-12-31  5.224638e+09  5.722640e+09 -1.748238e+08 -1.483956e+08   \n",
       "2021-12-31  5.180238e+09  5.864562e+09 -5.414947e+08 -5.299924e+08   \n",
       "\n",
       "                    营业成本           净利润       持续经营净利润          销售费用  \\\n",
       "报告期                                                                  \n",
       "2016-12-31  3.724037e+09  1.391942e+09  1.391942e+09  1.009950e+08   \n",
       "2017-12-31  4.018886e+09  1.601244e+09  1.601244e+09  8.834603e+07   \n",
       "2018-12-31  5.442283e+09  1.161929e+09  1.161929e+09  6.915999e+07   \n",
       "2019-12-31  6.076211e+09  1.130648e+09  1.130648e+09  9.815257e+07   \n",
       "2020-12-31  5.285013e+09 -2.319300e+08 -2.319300e+08  6.851522e+07   \n",
       "2021-12-31  5.227676e+09 -3.854062e+08 -3.854062e+08  7.573761e+07   \n",
       "\n",
       "                    管理费用         研发费用  ...         经营性资产         经营性负债  \\\n",
       "报告期                                    ...                               \n",
       "2016-12-31  3.929888e+08         0.00  ...  1.663614e+10  6.868987e+09   \n",
       "2017-12-31  3.996213e+08  23484887.69  ...  1.948322e+10  5.069752e+09   \n",
       "2018-12-31  4.463866e+08  31053386.02  ...  2.456108e+10  1.067265e+10   \n",
       "2019-12-31  5.289574e+08  27722859.77  ...  2.463620e+10  8.420112e+09   \n",
       "2020-12-31  3.641575e+08  32514658.91  ...  2.351653e+10  6.814916e+09   \n",
       "2021-12-31  3.405195e+08  40208372.49  ...  2.542694e+10  8.944058e+09   \n",
       "\n",
       "                  经营性净资产     经营性净资产_期初     经营性净资产_同期  资产收益率ROA  权益收益率ROE  \\\n",
       "报告期                                                                        \n",
       "2016-12-31  9.767154e+09  9.767154e+09  9.767154e+09  0.078448  0.128001   \n",
       "2017-12-31  1.441347e+10  9.767154e+09  9.767154e+09  0.079539  0.123295   \n",
       "2018-12-31  1.388843e+10  1.441347e+10  1.441347e+10  0.046867  0.075347   \n",
       "2019-12-31  1.621608e+10  1.388843e+10  1.388843e+10  0.042461  0.068705   \n",
       "2020-12-31  1.670161e+10  1.621608e+10  1.621608e+10 -0.008837 -0.012662   \n",
       "2021-12-31  1.648288e+10  1.670161e+10  1.670161e+10 -0.014316 -0.020250   \n",
       "\n",
       "            投资资本收益率ROIC  经营性资产周转率       code  \n",
       "报告期                                           \n",
       "2016-12-31     0.251545  0.631369  600004.SH  \n",
       "2017-12-31     0.360087  0.559254  600004.SH  \n",
       "2018-12-31     0.089629  0.547442  600004.SH  \n",
       "2019-12-31     0.073259  0.547335  600004.SH  \n",
       "2020-12-31    -0.013208  0.317436  600004.SH  \n",
       "2021-12-31    -0.019060  0.312208  600004.SH  \n",
       "\n",
       "[6 rows x 104 columns]"
      ]
     },
     "execution_count": 31,
     "metadata": {},
     "output_type": "execute_result"
    }
   ],
   "source": [
    "#  get one group data\n",
    "code_finial_df.get_group(\"600004.SH\").sort_index(ascending=True)"
   ]
  },
  {
   "cell_type": "code",
   "execution_count": 32,
   "metadata": {},
   "outputs": [],
   "source": [
    "\n",
    "# get all group data\n",
    "code_finial_df_year = code_finial_df.apply(lambda x: x.sort_index(ascending=True))"
   ]
  },
  {
   "cell_type": "code",
   "execution_count": 56,
   "metadata": {},
   "outputs": [],
   "source": [
    "# code_finial_df_year for one dataFrame calculate geo mean the window size = 5\n",
    "# geometric_mean() is the function\n",
    "import statistics\n",
    "def cal_geo_mean(df):\n",
    "    # print(df)\n",
    "    # df[f\"{col_name}_geo_mean\"] = statistics.geometric_mean(df[col_name]+1) - 1\n",
    "    return statistics.geometric_mean(df+1) - 1\n",
    "\n",
    "code_df_dir = {}\n",
    "ablity = [\"毛利率\", \"营业利润率\", \"净利率\", \"息税前利润率\", \"净资产收益率\", \"总资产报酬率\", \"现金比率\",\"资产负债率\"]\n",
    "for code in code_finial_df.groups.keys():\n",
    "    df = code_finial_df.get_group(code).sort_index(ascending=True)\n",
    "    # 毛利率,营业利润率,净利率,息税前利润率,净资产收益率,总资产报酬率\n",
    "    dfablity = df[ablity]\n",
    "    # filter < 0\n",
    "    dfablity = dfablity[dfablity > 0]\n",
    "    code_df_dir[code] = dfablity.rolling(3, min_periods=1).apply(cal_geo_mean)"
   ]
  },
  {
   "cell_type": "code",
   "execution_count": 57,
   "metadata": {},
   "outputs": [
    {
     "data": {
      "text/plain": [
       "3874"
      ]
     },
     "execution_count": 57,
     "metadata": {},
     "output_type": "execute_result"
    }
   ],
   "source": [
    "len(code_df_dir)"
   ]
  },
  {
   "cell_type": "code",
   "execution_count": 58,
   "metadata": {},
   "outputs": [],
   "source": [
    "for c, df in code_df_dir.items():\n",
    "    df.sort_index(ascending=False, inplace=True)"
   ]
  },
  {
   "cell_type": "code",
   "execution_count": 59,
   "metadata": {},
   "outputs": [],
   "source": [
    "i = 0\n",
    "for c, df in code_df_dir.items():\n",
    "    df[\"code\"] = c\n",
    "    df[\"date\"] = df.index"
   ]
  },
  {
   "cell_type": "code",
   "execution_count": 60,
   "metadata": {},
   "outputs": [],
   "source": [
    "# connect all code data by 行业\n",
    "# dfall = pd.concat(code_df_dir.values())"
   ]
  },
  {
   "cell_type": "code",
   "execution_count": 61,
   "metadata": {},
   "outputs": [],
   "source": [
    "# info_df.head()\n",
    "def query_industry(industry):\n",
    "    df = info_df.query(f\"三类行业 == '{industry}'\")\n",
    "    codes = df[\"股票代码\"].unique()\n",
    "    return df, codes"
   ]
  },
  {
   "cell_type": "code",
   "execution_count": 62,
   "metadata": {},
   "outputs": [],
   "source": [
    "in_code = {}\n",
    "for industry in info_df[\"三类行业\"].unique():\n",
    "    df, codes = query_industry(industry)\n",
    "    # in_code[industry] = codes\n",
    "    # get codes data\n",
    "    dflist = [code_df_dir[c] for c in codes if c in code_df_dir]\n",
    "    if len(dflist) == 0:\n",
    "        continue\n",
    "    dfall = pd.concat(dflist)\n",
    "    dfall[\"industry\"] = industry\n",
    "    in_code[industry] = dfall\n"
   ]
  },
  {
   "cell_type": "code",
   "execution_count": 63,
   "metadata": {},
   "outputs": [
    {
     "data": {
      "text/html": [
       "<div>\n",
       "<style scoped>\n",
       "    .dataframe tbody tr th:only-of-type {\n",
       "        vertical-align: middle;\n",
       "    }\n",
       "\n",
       "    .dataframe tbody tr th {\n",
       "        vertical-align: top;\n",
       "    }\n",
       "\n",
       "    .dataframe thead th {\n",
       "        text-align: right;\n",
       "    }\n",
       "</style>\n",
       "<table border=\"1\" class=\"dataframe\">\n",
       "  <thead>\n",
       "    <tr style=\"text-align: right;\">\n",
       "      <th></th>\n",
       "      <th>毛利率</th>\n",
       "      <th>营业利润率</th>\n",
       "      <th>净利率</th>\n",
       "      <th>息税前利润率</th>\n",
       "      <th>净资产收益率</th>\n",
       "      <th>总资产报酬率</th>\n",
       "      <th>现金比率</th>\n",
       "      <th>资产负债率</th>\n",
       "      <th>code</th>\n",
       "      <th>date</th>\n",
       "      <th>industry</th>\n",
       "    </tr>\n",
       "    <tr>\n",
       "      <th>报告期</th>\n",
       "      <th></th>\n",
       "      <th></th>\n",
       "      <th></th>\n",
       "      <th></th>\n",
       "      <th></th>\n",
       "      <th></th>\n",
       "      <th></th>\n",
       "      <th></th>\n",
       "      <th></th>\n",
       "      <th></th>\n",
       "      <th></th>\n",
       "    </tr>\n",
       "  </thead>\n",
       "  <tbody>\n",
       "    <tr>\n",
       "      <th>2021-12-31</th>\n",
       "      <td>NaN</td>\n",
       "      <td>NaN</td>\n",
       "      <td>NaN</td>\n",
       "      <td>NaN</td>\n",
       "      <td>NaN</td>\n",
       "      <td>NaN</td>\n",
       "      <td>0.263327</td>\n",
       "      <td>0.309165</td>\n",
       "      <td>600004.SH</td>\n",
       "      <td>2021-12-31</td>\n",
       "      <td>机场</td>\n",
       "    </tr>\n",
       "    <tr>\n",
       "      <th>2020-12-31</th>\n",
       "      <td>NaN</td>\n",
       "      <td>NaN</td>\n",
       "      <td>NaN</td>\n",
       "      <td>NaN</td>\n",
       "      <td>NaN</td>\n",
       "      <td>NaN</td>\n",
       "      <td>0.254664</td>\n",
       "      <td>0.339314</td>\n",
       "      <td>600004.SH</td>\n",
       "      <td>2020-12-31</td>\n",
       "      <td>机场</td>\n",
       "    </tr>\n",
       "    <tr>\n",
       "      <th>2019-12-31</th>\n",
       "      <td>0.320478</td>\n",
       "      <td>0.228288</td>\n",
       "      <td>0.173861</td>\n",
       "      <td>0.240043</td>\n",
       "      <td>0.081761</td>\n",
       "      <td>0.052319</td>\n",
       "      <td>0.299676</td>\n",
       "      <td>0.363529</td>\n",
       "      <td>600004.SH</td>\n",
       "      <td>2019-12-31</td>\n",
       "      <td>机场</td>\n",
       "    </tr>\n",
       "    <tr>\n",
       "      <th>2018-12-31</th>\n",
       "      <td>0.365514</td>\n",
       "      <td>0.273967</td>\n",
       "      <td>0.203547</td>\n",
       "      <td>0.283431</td>\n",
       "      <td>0.102393</td>\n",
       "      <td>0.064051</td>\n",
       "      <td>0.374919</td>\n",
       "      <td>0.377825</td>\n",
       "      <td>600004.SH</td>\n",
       "      <td>2018-12-31</td>\n",
       "      <td>机场</td>\n",
       "    </tr>\n",
       "    <tr>\n",
       "      <th>2017-12-31</th>\n",
       "      <td>0.400857</td>\n",
       "      <td>0.314145</td>\n",
       "      <td>0.231255</td>\n",
       "      <td>0.317385</td>\n",
       "      <td>0.116969</td>\n",
       "      <td>0.074770</td>\n",
       "      <td>0.451489</td>\n",
       "      <td>0.357998</td>\n",
       "      <td>600004.SH</td>\n",
       "      <td>2017-12-31</td>\n",
       "      <td>机场</td>\n",
       "    </tr>\n",
       "  </tbody>\n",
       "</table>\n",
       "</div>"
      ],
      "text/plain": [
       "                 毛利率     营业利润率       净利率    息税前利润率    净资产收益率    总资产报酬率  \\\n",
       "报告期                                                                      \n",
       "2021-12-31       NaN       NaN       NaN       NaN       NaN       NaN   \n",
       "2020-12-31       NaN       NaN       NaN       NaN       NaN       NaN   \n",
       "2019-12-31  0.320478  0.228288  0.173861  0.240043  0.081761  0.052319   \n",
       "2018-12-31  0.365514  0.273967  0.203547  0.283431  0.102393  0.064051   \n",
       "2017-12-31  0.400857  0.314145  0.231255  0.317385  0.116969  0.074770   \n",
       "\n",
       "                现金比率     资产负债率       code       date industry  \n",
       "报告期                                                            \n",
       "2021-12-31  0.263327  0.309165  600004.SH 2021-12-31       机场  \n",
       "2020-12-31  0.254664  0.339314  600004.SH 2020-12-31       机场  \n",
       "2019-12-31  0.299676  0.363529  600004.SH 2019-12-31       机场  \n",
       "2018-12-31  0.374919  0.377825  600004.SH 2018-12-31       机场  \n",
       "2017-12-31  0.451489  0.357998  600004.SH 2017-12-31       机场  "
      ]
     },
     "execution_count": 63,
     "metadata": {},
     "output_type": "execute_result"
    }
   ],
   "source": [
    "in_code[\"机场\"].head()"
   ]
  },
  {
   "cell_type": "code",
   "execution_count": null,
   "metadata": {},
   "outputs": [],
   "source": []
  },
  {
   "cell_type": "code",
   "execution_count": null,
   "metadata": {},
   "outputs": [],
   "source": []
  },
  {
   "cell_type": "code",
   "execution_count": null,
   "metadata": {},
   "outputs": [],
   "source": []
  },
  {
   "cell_type": "code",
   "execution_count": null,
   "metadata": {},
   "outputs": [],
   "source": []
  },
  {
   "cell_type": "code",
   "execution_count": 64,
   "metadata": {},
   "outputs": [
    {
     "data": {
      "text/plain": [
       "326"
      ]
     },
     "execution_count": 64,
     "metadata": {},
     "output_type": "execute_result"
    }
   ],
   "source": [
    "len(in_code)"
   ]
  },
  {
   "cell_type": "code",
   "execution_count": 65,
   "metadata": {},
   "outputs": [],
   "source": [
    "from plotly.subplots import make_subplots\n",
    "\n",
    "# fig = make_subplots(rows=len(in_code), cols=1)\n",
    "\n",
    "# for i, (industry, df) in enumerate(in_code.items()):\n",
    "#     fig = px.line(df, x=\"date\", y=\"净资产收益率\", color = 'code' ,title=f'{industry} Time Series with Rangeslider', height=900, width=1200)\n",
    "#     fig.update_xaxes(minor=dict(ticks=\"inside\", showgrid=True))\n",
    "#     fig.update_xaxes(rangeslider_visible=True)\n",
    "#     fig.show()\n",
    "#     break\n",
    "\n",
    "# fig.show()\n",
    "\n",
    "# fig = px.line(all_df, x=\"date\", y=\"净资产收益率\", color = 'code' ,title='Time Series with Rangeslider', height=900, width=1200)\n",
    "# fig = px.line(df00, x=\"date\", y=\"market_capital\", color = 'code' ,title='Time Series with Rangeslider')\n",
    "\n",
    "# fig.update_xaxes(minor=dict(ticks=\"inside\", showgrid=True))\n",
    "# fig.update_xaxes(rangeslider_visible=True)\n",
    "# fig.show()"
   ]
  },
  {
   "cell_type": "code",
   "execution_count": 66,
   "metadata": {},
   "outputs": [],
   "source": [
    "def fig_line(df, col_name, industry):\n",
    "    fig = px.line(df, x=\"date\", y=col_name, color = 'code' ,title=f'{col_name} Time Series {industry}', height=900, width=1200)\n",
    "    # fig.update_xaxes(minor=dict(ticks=\"inside\", showgrid=True))\n",
    "    # fig.update_xaxes(rangeslider_visible=True)\n",
    "    fig.show()"
   ]
  },
  {
   "cell_type": "code",
   "execution_count": 67,
   "metadata": {},
   "outputs": [
    {
     "data": {
      "text/plain": [
       "dict_keys(['机场', '商用载货车', '商业地产', '水务及水治理', '板材', '火力发电', '高速公路', '港口', '水力发电', '航运', '炼油化工', '航空运输', '证券Ⅲ', '工程机械整机', '电视广播Ⅲ', '航空装备Ⅲ', '基建市政工程', '住宅开发', '电信运营商', '综合Ⅲ', '影视动漫制作', '资产管理', '自然景区', '医疗设备', '医药流通', '原材料供应链服务', '贸易Ⅲ', '其他酒类', '彩电', '金融控股', '化学制剂', '其他化学纤维', '商用载客车', '光学元件', '航海装备Ⅲ', '肉制品', '氯碱', '综合包装', '磷肥及磷化工', '中药Ⅲ', '车身附件及饰件', '产业地产', '输变电设备', '海洋捕捞', '其他运输设备', '其他计算机设备', '电能综合服务', '特种纸', '综合乘用车', '通信线缆及配套', '非运动服装', '其他种植业', '锂电池', '稀土', '商业物业经营', '金属制品', '特钢Ⅲ', '航天装备Ⅲ', '跨境物流', '动力煤', '专业连锁Ⅲ', '焦煤', '铁路运输', '粮油加工', '消费电子零部件及组装', 'IT服务Ⅲ', '啤酒', '膜材料', '体育Ⅲ', '鞋帽及其他', '人工景区', '租赁', '改性塑料', '底盘与发动机系统', '热力服务', '光伏电池组件', '其他纺织', '氟化工', '血液制品', '风力发电', '其他化学制品', '能源及重型设备', '房屋建设Ⅲ', '模拟芯片设计', '磨具磨料', '玻纤制造', '轮胎轮毂', '印制电路板', '地面兵装Ⅲ', '调味发酵品Ⅲ', '软饮料', '其他农产品加工', '装修装饰Ⅲ', '动物保健Ⅲ', '白酒Ⅲ', '通信终端及配件', '制冷空调设备', '半导体材料', '光伏辅材', '塑料包装', '机器人', '原料药', '固废治理', '铝', '氮肥', '门户网站', '大众出版', '聚氨酯', '长材', '纺织服装设备', '快递', '被动元件', '营销代理', '其他通用设备', '洗护用品', '果蔬加工', '其他金属新材料', '油品石化贸易', '水产养殖', '酒店', '照明设备Ⅲ', '林业Ⅲ', '电网自动化设备', '百货', '其他小金属', '其他电子Ⅲ', '通信工程及服务', '配电设备', '大气治理', '玻璃制造', '冶钢辅料', '汽车经销商', '食品及饲料添加剂', '工程咨询服务Ⅲ', '大宗用纸', '黄金', '种子', '品牌化妆品', '其他专业工程', '水泥制造', '无机盐', '其他专用设备', '燃气Ⅲ', '冰洗', '成品家居', '铅锌', '油气及炼化工程', '其他通信设备', '纺织化学制品', '分立器件', '超市', '铜', '综合电商', '磁性材料', '涤纶', '保健品', '铁矿石', '环保设备Ⅲ', '农药', '其他电源设备Ⅲ', '焦炭Ⅲ', '纯碱', '风电整机', '乳品', '硅料硅片', '其他饰品', '印染', '垂直应用软件', '风电零部件', '综合电力设备商', '钢结构', '棉纺', '轨交设备Ⅲ', '通信网络设备及器件', '信托', '其他汽车零部件', '医疗耗材', '电商服务', '钨', '面板', '公交', '军工电子Ⅲ', '医院', '线缆部件及其他', '电机Ⅲ', '集成电路封测', '横向通用软件', '其他塑料制品', '有机硅', '粮食种植', '其他化学原料', '钟表珠宝', '家电零部件Ⅲ', '煤化工', '游戏Ⅲ', '教育运营及其他', '体外诊断', 'LED', '培训教育', '人力资源服务', '其他生物制品', '多业态零售', '汽车电子电气系统', '钴', '医疗研发外包', '钛白粉', '电动乘用车', '疫苗', '教育出版', '油气开采Ⅲ', '仓储物流', '其他石化', '锦纶', '光伏发电', '会展服务', '线下药店', '楼宇设备', '印刷', '蓄电池及其他电池', '空调', '油田服务', '食用菌', '电池化学品', '粘胶', '其他养殖', '国际工程', '生猪养殖', '农用机械', '工程机械器件', '跨境电商', '化学工程', '白银', '纸包装', '钢铁管材', '摩托车', '机床工具', '旅游零售Ⅲ', '钼', '汽车综合服务', '金属包装', '核力发电', '其他家居用品', '电子化学品Ⅲ', '园林工程', '工控设备', '其他橡胶制品', '其他建材', '烘焙食品', '检测服务', '仪器仪表', '院线', '涂料油墨', '定制家居', '光伏加工设备', '瓷砖地板', '民爆制品', '生活用纸', '预加工食品', '清洁小家电', '畜禽饲料', '家纺', '卫浴电器', '涂料', '卫浴制品', '娱乐用品', '数字芯片设计', '物业管理', '安防设备', '熟食', '文字媒体', '运动服装', '电工仪器仪表', '公路货运', '其他家电Ⅲ', '非金属材料Ⅲ', '水泥制品', '中间产品及消费品供应链服务', '橡胶助剂', '水产饲料', '胶黏剂及胶带', '半导体设备', '零食', '管材', '个护小家电', '合成树脂', '诊断服务', '文化用品', '印刷包装机械', '其他自动化设备', '餐饮', '炭黑', '厨房电器', '综合环境治理', '钾肥', '其他医疗服务', '旅游综合', '房产租赁经纪', '广告媒体', '医美服务', '图片媒体', '锂', '其他黑色家电', '通信应用增值服务', '复合肥', '氨纶', '其他多元金融', '激光设备', '辅料', '厨房小家电', '品牌消费电子', '耐火材料', '化妆品制造及其他', '肉鸡养殖', '火电设备', '防水材料', '金融信息服务', '农业综合Ⅲ', '其他能源发电', '宠物食品', '锂电专用设备', '逆变器', '视频媒体', '集成电路制造', '医美耗材', '其他专业服务', '纺织鞋类制造'])"
      ]
     },
     "execution_count": 67,
     "metadata": {},
     "output_type": "execute_result"
    }
   ],
   "source": [
    "in_code.keys()"
   ]
  },
  {
   "cell_type": "code",
   "execution_count": null,
   "metadata": {},
   "outputs": [],
   "source": []
  },
  {
   "cell_type": "code",
   "execution_count": 74,
   "metadata": {},
   "outputs": [],
   "source": [
    "# fig_line(in_code[\"机场\"], \"净资产收益率\", \"机场\")\n",
    "filter_df = {}\n",
    "for industry, df in in_code.items():\n",
    "    # 毛利率 > 0.3\n",
    "    # 营业利润率 > 0.3\n",
    "    # 净利率 > 0.3\n",
    "    # 净资产收益率 > 0.1\n",
    "    # 总资产报酬率 > 0.1\n",
    "    # 资产负债率 < 0.5\n",
    "    df = df[(df[\"毛利率\"] > 0.3) & (df[\"营业利润率\"] > 0.3) & (df[\"净利率\"] > 0.3) & (df[\"净资产收益率\"] > 0.1) & (df[\"总资产报酬率\"] > 0.1) & (df[\"资产负债率\"] < 0.5)]\n",
    "    filter_df[industry] = df\n",
    "    # if industry == \"其他汽车零部件\":\n",
    "    #     fig_line(df, \"净资产收益率\", industry)\n",
    "    #     fig_line(df, \"毛利率\", industry)\n",
    "    #     fig_line(df, \"营业利润率\", industry)\n",
    "    #     fig_line(df, \"净利率\", industry)\n",
    "    #     fig_line(df, \"息税前利润率\", industry)\n",
    "    #     fig_line(df, \"总资产报酬率\", industry)\n",
    "    #     fig_line(df, \"现金比率\", industry)\n",
    "    #     fig_line(df, \"资产负债率\", industry)\n",
    "    #     break\n",
    "    "
   ]
  },
  {
   "cell_type": "code",
   "execution_count": 75,
   "metadata": {},
   "outputs": [
    {
     "data": {
      "text/plain": [
       "326"
      ]
     },
     "execution_count": 75,
     "metadata": {},
     "output_type": "execute_result"
    }
   ],
   "source": []
  },
  {
   "cell_type": "code",
   "execution_count": 77,
   "metadata": {},
   "outputs": [],
   "source": [
    "filter_df1 = {}\n",
    "for i, df in filter_df.items():\n",
    "    if len(df) > 0:\n",
    "        filter_df1[i] = df"
   ]
  },
  {
   "cell_type": "code",
   "execution_count": 81,
   "metadata": {},
   "outputs": [],
   "source": [
    "code_filter_df = []\n",
    "for i, df in filter_df1.items():\n",
    "    code_filter_df.append(df)"
   ]
  },
  {
   "cell_type": "code",
   "execution_count": 83,
   "metadata": {},
   "outputs": [],
   "source": [
    "all_filter_df = pd.concat(code_filter_df)"
   ]
  },
  {
   "cell_type": "code",
   "execution_count": 84,
   "metadata": {},
   "outputs": [
    {
     "data": {
      "text/plain": [
       "560"
      ]
     },
     "execution_count": 84,
     "metadata": {},
     "output_type": "execute_result"
    }
   ],
   "source": [
    "len(all_filter_df)"
   ]
  },
  {
   "cell_type": "code",
   "execution_count": 92,
   "metadata": {},
   "outputs": [],
   "source": [
    "filter_code = all_filter_df[\"code\"].unique()"
   ]
  },
  {
   "cell_type": "code",
   "execution_count": 90,
   "metadata": {},
   "outputs": [
    {
     "data": {
      "text/plain": [
       "8957324"
      ]
     },
     "execution_count": 90,
     "metadata": {},
     "output_type": "execute_result"
    }
   ],
   "source": [
    "len(kline_df)"
   ]
  },
  {
   "cell_type": "code",
   "execution_count": 93,
   "metadata": {},
   "outputs": [],
   "source": [
    "filter_kline = kline_df.query(\"code in @filter_code\")"
   ]
  },
  {
   "cell_type": "code",
   "execution_count": 94,
   "metadata": {},
   "outputs": [
    {
     "data": {
      "text/plain": [
       "332394"
      ]
     },
     "execution_count": 94,
     "metadata": {},
     "output_type": "execute_result"
    }
   ],
   "source": [
    "len(filter_kline)"
   ]
  },
  {
   "cell_type": "code",
   "execution_count": 98,
   "metadata": {},
   "outputs": [],
   "source": [
    "filter_kline.sort_index(ascending=False, inplace=True)"
   ]
  },
  {
   "cell_type": "code",
   "execution_count": 103,
   "metadata": {},
   "outputs": [],
   "source": [
    "# index = 2023-03-10\n",
    "last_kline = filter_kline.loc[\"2021-03-10\"]"
   ]
  },
  {
   "cell_type": "code",
   "execution_count": 107,
   "metadata": {},
   "outputs": [
    {
     "data": {
      "text/plain": [
       "Index(['volume', 'open', 'high', 'low', 'close', 'chg', 'percent',\n",
       "       'turnoverrate', 'amount', 'volume_post', 'amount_post', 'pe', 'pb',\n",
       "       'ps', 'pcf', 'market_capital', 'balance', 'hold_volume_cn',\n",
       "       'hold_ratio_cn', 'net_volume_cn', 'hold_volume_hk', 'hold_ratio_hk',\n",
       "       'net_volume_hk', 'code'],\n",
       "      dtype='object')"
      ]
     },
     "execution_count": 107,
     "metadata": {},
     "output_type": "execute_result"
    }
   ],
   "source": [
    "last_kline.columns"
   ]
  },
  {
   "cell_type": "code",
   "execution_count": 119,
   "metadata": {},
   "outputs": [],
   "source": [
    "# pe < 50\n",
    "# pb < 5\n",
    "# ps < 5\n",
    "filter_kline_price = last_kline[(last_kline[\"pe\"] < 40) & (last_kline[\"pb\"] < 5) & (last_kline[\"ps\"] < 5)][['volume', 'open', 'high', 'low', 'close', 'chg', 'percent',\n",
    "       'turnoverrate', 'amount', 'pe', 'pb',\n",
    "       'ps', 'pcf', 'market_capital','code']]"
   ]
  },
  {
   "cell_type": "code",
   "execution_count": null,
   "metadata": {},
   "outputs": [],
   "source": []
  },
  {
   "cell_type": "code",
   "execution_count": 120,
   "metadata": {},
   "outputs": [
    {
     "data": {
      "text/plain": [
       "13"
      ]
     },
     "execution_count": 120,
     "metadata": {},
     "output_type": "execute_result"
    }
   ],
   "source": [
    "len(filter_kline_price)"
   ]
  },
  {
   "cell_type": "code",
   "execution_count": null,
   "metadata": {},
   "outputs": [],
   "source": []
  },
  {
   "cell_type": "code",
   "execution_count": 121,
   "metadata": {},
   "outputs": [],
   "source": [
    "filter_kline_price.sort_values(by=\"market_capital\", ascending=False, inplace=True)"
   ]
  },
  {
   "cell_type": "code",
   "execution_count": 123,
   "metadata": {},
   "outputs": [],
   "source": [
    "pcode = filter_kline_price[\"code\"].unique()"
   ]
  },
  {
   "cell_type": "code",
   "execution_count": 124,
   "metadata": {},
   "outputs": [],
   "source": [
    "pinfo = info_df.query(\"股票代码 in @pcode\")"
   ]
  },
  {
   "cell_type": "code",
   "execution_count": 126,
   "metadata": {},
   "outputs": [
    {
     "data": {
      "text/plain": [
       "74"
      ]
     },
     "execution_count": 126,
     "metadata": {},
     "output_type": "execute_result"
    }
   ],
   "source": [
    "len(pinfo)"
   ]
  },
  {
   "cell_type": "code",
   "execution_count": 137,
   "metadata": {},
   "outputs": [],
   "source": [
    "#  简介 replace \\r\\n\n",
    "pinfo[\"简介\"] = pinfo[\"简介\"].str.replace(\"\\r\\n\", \"\")"
   ]
  },
  {
   "cell_type": "code",
   "execution_count": null,
   "metadata": {},
   "outputs": [],
   "source": [
    "df00 = kline_df.query(\"code in @pcode\")\n",
    "# df = px.data.stocks()\n",
    "df00[\"date\"] = df00.index\n",
    "# fig size to 12, 9\n",
    "fig = px.line(df00, x=\"date\", y=\"close\", color = 'code' ,title='Time Series with Rangeslider', height=900, width=1200)\n",
    "fig.show()"
   ]
  },
  {
   "cell_type": "code",
   "execution_count": null,
   "metadata": {},
   "outputs": [],
   "source": []
  },
  {
   "cell_type": "code",
   "execution_count": 131,
   "metadata": {},
   "outputs": [],
   "source": [
    "ppinfo = pinfo[['tag', '情绪', '股票代码', '公司名称', '三类行业', '二类行业', '一类行业', '区域']]"
   ]
  },
  {
   "cell_type": "code",
   "execution_count": 138,
   "metadata": {},
   "outputs": [
    {
     "data": {
      "text/markdown": [
       "| value                                                                              | tag   | 情绪   | 简介                                                                                                                                                                                                                                                                                                                                                                                                                                                                                                                                                                                                                                                                                                                                                                                                                         | 股票代码   | 公司名称   | 三类行业   | 二类行业   | 一类行业   | 区域   |\n",
       "|:-----------------------------------------------------------------------------------|:------|:-------|:-----------------------------------------------------------------------------------------------------------------------------------------------------------------------------------------------------------------------------------------------------------------------------------------------------------------------------------------------------------------------------------------------------------------------------------------------------------------------------------------------------------------------------------------------------------------------------------------------------------------------------------------------------------------------------------------------------------------------------------------------------------------------------------------------------------------------------|:-----------|:-----------|:-----------|:-----------|:-----------|:-------|\n",
       "| 近5年，净现比达到 163% ，净利润现金含量较高。                                      | 净现  | 积极   | 公司是中国报业集团中一家媒体经营性资产整体上市的公司。公司致力于全面互联网化发展并不断推动产业优化升级。公司以“建设国内领先的互联网数字文化产业集团”为目标，全面发展基于互联网的数字文化产业。重点聚焦以优质IP为核心的数字娱乐产业、数字体育产业、“四位一体”的大数据产业等三大板块，同时着力发展具备先发优势的电商服务、艺术品服务等文化产业服务和文化产业投资业务。公司坚持领先的持续创新，致力于为用户创造大价值，公司业绩持续保持较快增长，先后入选上证公司治理指数、上证180指数、沪深300指数样本股，2014、2015连续两年荣获“年度最受投资者尊重的上市公司百强”称号。2016年跻身中国上市公司市值500强，入选亚洲品牌500强，公司监事会获评“卓有成效30强”奖。                                                                                                                                                                   | 600633.SH  | 浙数文化   | 游戏Ⅲ      | 游戏Ⅱ      | 传媒       | 杭州市 |\n",
       "| 在建工程占总资产 5.1% ，未来产能扩张后，营收有望进一步增长。                       | 产能  | 积极   | 公司是中国报业集团中一家媒体经营性资产整体上市的公司。公司致力于全面互联网化发展并不断推动产业优化升级。公司以“建设国内领先的互联网数字文化产业集团”为目标，全面发展基于互联网的数字文化产业。重点聚焦以优质IP为核心的数字娱乐产业、数字体育产业、“四位一体”的大数据产业等三大板块，同时着力发展具备先发优势的电商服务、艺术品服务等文化产业服务和文化产业投资业务。公司坚持领先的持续创新，致力于为用户创造大价值，公司业绩持续保持较快增长，先后入选上证公司治理指数、上证180指数、沪深300指数样本股，2014、2015连续两年荣获“年度最受投资者尊重的上市公司百强”称号。2016年跻身中国上市公司市值500强，入选亚洲品牌500强，公司监事会获评“卓有成效30强”奖。                                                                                                                                                                   | 600633.SH  | 浙数文化   | 游戏Ⅲ      | 游戏Ⅱ      | 传媒       | 杭州市 |\n",
       "| 公司所属 游戏Ⅱ 行业，自2022年11月以来持续走强，正处于上涨趋势中。                  | 趋势  | 积极   | 公司是中国报业集团中一家媒体经营性资产整体上市的公司。公司致力于全面互联网化发展并不断推动产业优化升级。公司以“建设国内领先的互联网数字文化产业集团”为目标，全面发展基于互联网的数字文化产业。重点聚焦以优质IP为核心的数字娱乐产业、数字体育产业、“四位一体”的大数据产业等三大板块，同时着力发展具备先发优势的电商服务、艺术品服务等文化产业服务和文化产业投资业务。公司坚持领先的持续创新，致力于为用户创造大价值，公司业绩持续保持较快增长，先后入选上证公司治理指数、上证180指数、沪深300指数样本股，2014、2015连续两年荣获“年度最受投资者尊重的上市公司百强”称号。2016年跻身中国上市公司市值500强，入选亚洲品牌500强，公司监事会获评“卓有成效30强”奖。                                                                                                                                                                   | 600633.SH  | 浙数文化   | 游戏Ⅲ      | 游戏Ⅱ      | 传媒       | 杭州市 |\n",
       "| 近6月，股价涨幅超过A股市场 95% 的股票，收盘价接近一年新高，走势较强。              | 强势  | 积极   | 公司是中国报业集团中一家媒体经营性资产整体上市的公司。公司致力于全面互联网化发展并不断推动产业优化升级。公司以“建设国内领先的互联网数字文化产业集团”为目标，全面发展基于互联网的数字文化产业。重点聚焦以优质IP为核心的数字娱乐产业、数字体育产业、“四位一体”的大数据产业等三大板块，同时着力发展具备先发优势的电商服务、艺术品服务等文化产业服务和文化产业投资业务。公司坚持领先的持续创新，致力于为用户创造大价值，公司业绩持续保持较快增长，先后入选上证公司治理指数、上证180指数、沪深300指数样本股，2014、2015连续两年荣获“年度最受投资者尊重的上市公司百强”称号。2016年跻身中国上市公司市值500强，入选亚洲品牌500强，公司监事会获评“卓有成效30强”奖。                                                                                                                                                                   | 600633.SH  | 浙数文化   | 游戏Ⅲ      | 游戏Ⅱ      | 传媒       | 杭州市 |\n",
       "| 商誉占净资产 43% ，商誉减值风险很高。                                              | 商誉  | 消极   | 公司是中国报业集团中一家媒体经营性资产整体上市的公司。公司致力于全面互联网化发展并不断推动产业优化升级。公司以“建设国内领先的互联网数字文化产业集团”为目标，全面发展基于互联网的数字文化产业。重点聚焦以优质IP为核心的数字娱乐产业、数字体育产业、“四位一体”的大数据产业等三大板块，同时着力发展具备先发优势的电商服务、艺术品服务等文化产业服务和文化产业投资业务。公司坚持领先的持续创新，致力于为用户创造大价值，公司业绩持续保持较快增长，先后入选上证公司治理指数、上证180指数、沪深300指数样本股，2014、2015连续两年荣获“年度最受投资者尊重的上市公司百强”称号。2016年跻身中国上市公司市值500强，入选亚洲品牌500强，公司监事会获评“卓有成效30强”奖。                                                                                                                                                                   | 600633.SH  | 浙数文化   | 游戏Ⅲ      | 游戏Ⅱ      | 传媒       | 杭州市 |\n",
       "| 2021年度，审计师出具 带强调事项段的无保留意见 的审计报告，财务风险较高。           | 审计  | 消极   | 公司是中国报业集团中一家媒体经营性资产整体上市的公司。公司致力于全面互联网化发展并不断推动产业优化升级。公司以“建设国内领先的互联网数字文化产业集团”为目标，全面发展基于互联网的数字文化产业。重点聚焦以优质IP为核心的数字娱乐产业、数字体育产业、“四位一体”的大数据产业等三大板块，同时着力发展具备先发优势的电商服务、艺术品服务等文化产业服务和文化产业投资业务。公司坚持领先的持续创新，致力于为用户创造大价值，公司业绩持续保持较快增长，先后入选上证公司治理指数、上证180指数、沪深300指数样本股，2014、2015连续两年荣获“年度最受投资者尊重的上市公司百强”称号。2016年跻身中国上市公司市值500强，入选亚洲品牌500强，公司监事会获评“卓有成效30强”奖。                                                                                                                                                                   | 600633.SH  | 浙数文化   | 游戏Ⅲ      | 游戏Ⅱ      | 传媒       | 杭州市 |\n",
       "| 近5年，净资产收益率为 15% ，投入资本回报率为 13% ，盈利能力很强。                  | 盈利  | 积极   | 公司是一家上市清洁能源企业。公司通过重大资产重组，全部资产和业务从公司剥离，主营业务变更为燃气销售、燃气接驳与燃气具销售。公司转型为燃气经营企业，资产规模迅速扩大，盈利能力显著增强，持续经营能力明显提升。公司将持续做大、做强、做优、做细京津冀核心区域市场；大力拓展全国市场；打通上下游产业链，探索实施油气田项目开发、LNG接收码头建设和国际能源贸易，力争上游气源项目取得实质性进展。下游方面，特别是在分布式能源领域，实现冷、热、电、气综合能源服务项目取得快速突破。                                                                                                                                                                                                                                                                                                                                                | 600681.SH  | 百川能源   | 燃气Ⅲ      | 燃气Ⅱ      | 公用事业   | 武汉市 |\n",
       "| 近5年，净现比达到 164% ，净利润现金含量较高。                                      | 净现  | 积极   | 公司是一家上市清洁能源企业。公司通过重大资产重组，全部资产和业务从公司剥离，主营业务变更为燃气销售、燃气接驳与燃气具销售。公司转型为燃气经营企业，资产规模迅速扩大，盈利能力显著增强，持续经营能力明显提升。公司将持续做大、做强、做优、做细京津冀核心区域市场；大力拓展全国市场；打通上下游产业链，探索实施油气田项目开发、LNG接收码头建设和国际能源贸易，力争上游气源项目取得实质性进展。下游方面，特别是在分布式能源领域，实现冷、热、电、气综合能源服务项目取得快速突破。                                                                                                                                                                                                                                                                                                                                                | 600681.SH  | 百川能源   | 燃气Ⅲ      | 燃气Ⅱ      | 公用事业   | 武汉市 |\n",
       "| 最新综合估值仅高于借壳以来 15% 的时间，处于历史低位。                              | 估值  | 积极   | 公司是一家上市清洁能源企业。公司通过重大资产重组，全部资产和业务从公司剥离，主营业务变更为燃气销售、燃气接驳与燃气具销售。公司转型为燃气经营企业，资产规模迅速扩大，盈利能力显著增强，持续经营能力明显提升。公司将持续做大、做强、做优、做细京津冀核心区域市场；大力拓展全国市场；打通上下游产业链，探索实施油气田项目开发、LNG接收码头建设和国际能源贸易，力争上游气源项目取得实质性进展。下游方面，特别是在分布式能源领域，实现冷、热、电、气综合能源服务项目取得快速突破。                                                                                                                                                                                                                                                                                                                                                | 600681.SH  | 百川能源   | 燃气Ⅲ      | 燃气Ⅱ      | 公用事业   | 武汉市 |\n",
       "| 近5年，股息收益率均值达到 6.2% ，现金分红极高。                                    | 分红  | 积极   | 公司是一家上市清洁能源企业。公司通过重大资产重组，全部资产和业务从公司剥离，主营业务变更为燃气销售、燃气接驳与燃气具销售。公司转型为燃气经营企业，资产规模迅速扩大，盈利能力显著增强，持续经营能力明显提升。公司将持续做大、做强、做优、做细京津冀核心区域市场；大力拓展全国市场；打通上下游产业链，探索实施油气田项目开发、LNG接收码头建设和国际能源贸易，力争上游气源项目取得实质性进展。下游方面，特别是在分布式能源领域，实现冷、热、电、气综合能源服务项目取得快速突破。                                                                                                                                                                                                                                                                                                                                                | 600681.SH  | 百川能源   | 燃气Ⅲ      | 燃气Ⅱ      | 公用事业   | 武汉市 |\n",
       "| 近5年，毛利率从 32% 下滑至 17% ，企业缺乏竞争力。                                  | 毛利  | 消极   | 公司是一家上市清洁能源企业。公司通过重大资产重组，全部资产和业务从公司剥离，主营业务变更为燃气销售、燃气接驳与燃气具销售。公司转型为燃气经营企业，资产规模迅速扩大，盈利能力显著增强，持续经营能力明显提升。公司将持续做大、做强、做优、做细京津冀核心区域市场；大力拓展全国市场；打通上下游产业链，探索实施油气田项目开发、LNG接收码头建设和国际能源贸易，力争上游气源项目取得实质性进展。下游方面，特别是在分布式能源领域，实现冷、热、电、气综合能源服务项目取得快速突破。                                                                                                                                                                                                                                                                                                                                                | 600681.SH  | 百川能源   | 燃气Ⅲ      | 燃气Ⅱ      | 公用事业   | 武汉市 |\n",
       "| 商誉占净资产 35% ，商誉减值风险很高。                                              | 商誉  | 消极   | 公司是一家上市清洁能源企业。公司通过重大资产重组，全部资产和业务从公司剥离，主营业务变更为燃气销售、燃气接驳与燃气具销售。公司转型为燃气经营企业，资产规模迅速扩大，盈利能力显著增强，持续经营能力明显提升。公司将持续做大、做强、做优、做细京津冀核心区域市场；大力拓展全国市场；打通上下游产业链，探索实施油气田项目开发、LNG接收码头建设和国际能源贸易，力争上游气源项目取得实质性进展。下游方面，特别是在分布式能源领域，实现冷、热、电、气综合能源服务项目取得快速突破。                                                                                                                                                                                                                                                                                                                                                | 600681.SH  | 百川能源   | 燃气Ⅲ      | 燃气Ⅱ      | 公用事业   | 武汉市 |\n",
       "| 固定资产占总资产 50% ，为重资产模式，维持竞争优势成本较高。                        | 资产  | 消极   | 公司是一家上市清洁能源企业。公司通过重大资产重组，全部资产和业务从公司剥离，主营业务变更为燃气销售、燃气接驳与燃气具销售。公司转型为燃气经营企业，资产规模迅速扩大，盈利能力显著增强，持续经营能力明显提升。公司将持续做大、做强、做优、做细京津冀核心区域市场；大力拓展全国市场；打通上下游产业链，探索实施油气田项目开发、LNG接收码头建设和国际能源贸易，力争上游气源项目取得实质性进展。下游方面，特别是在分布式能源领域，实现冷、热、电、气综合能源服务项目取得快速突破。                                                                                                                                                                                                                                                                                                                                                | 600681.SH  | 百川能源   | 燃气Ⅲ      | 燃气Ⅱ      | 公用事业   | 武汉市 |\n",
       "| 大股东质押数占持股数 79% ，若股价下跌，被动减持风险较高。                          | 质押  | 消极   | 公司是一家上市清洁能源企业。公司通过重大资产重组，全部资产和业务从公司剥离，主营业务变更为燃气销售、燃气接驳与燃气具销售。公司转型为燃气经营企业，资产规模迅速扩大，盈利能力显著增强，持续经营能力明显提升。公司将持续做大、做强、做优、做细京津冀核心区域市场；大力拓展全国市场；打通上下游产业链，探索实施油气田项目开发、LNG接收码头建设和国际能源贸易，力争上游气源项目取得实质性进展。下游方面，特别是在分布式能源领域，实现冷、热、电、气综合能源服务项目取得快速突破。                                                                                                                                                                                                                                                                                                                                                | 600681.SH  | 百川能源   | 燃气Ⅲ      | 燃气Ⅱ      | 公用事业   | 武汉市 |\n",
       "| 近90天，没有机构发布研究报告，机构关注度低。                                       | 评级  | 消极   | 公司是一家上市清洁能源企业。公司通过重大资产重组，全部资产和业务从公司剥离，主营业务变更为燃气销售、燃气接驳与燃气具销售。公司转型为燃气经营企业，资产规模迅速扩大，盈利能力显著增强，持续经营能力明显提升。公司将持续做大、做强、做优、做细京津冀核心区域市场；大力拓展全国市场；打通上下游产业链，探索实施油气田项目开发、LNG接收码头建设和国际能源贸易，力争上游气源项目取得实质性进展。下游方面，特别是在分布式能源领域，实现冷、热、电、气综合能源服务项目取得快速突破。                                                                                                                                                                                                                                                                                                                                                | 600681.SH  | 百川能源   | 燃气Ⅲ      | 燃气Ⅱ      | 公用事业   | 武汉市 |\n",
       "| 近10天，日均成交额 1575万 ，流动性较差，不适合大资金交易。                         | 流动  | 消极   | 公司是一家上市清洁能源企业。公司通过重大资产重组，全部资产和业务从公司剥离，主营业务变更为燃气销售、燃气接驳与燃气具销售。公司转型为燃气经营企业，资产规模迅速扩大，盈利能力显著增强，持续经营能力明显提升。公司将持续做大、做强、做优、做细京津冀核心区域市场；大力拓展全国市场；打通上下游产业链，探索实施油气田项目开发、LNG接收码头建设和国际能源贸易，力争上游气源项目取得实质性进展。下游方面，特别是在分布式能源领域，实现冷、热、电、气综合能源服务项目取得快速突破。                                                                                                                                                                                                                                                                                                                                                | 600681.SH  | 百川能源   | 燃气Ⅲ      | 燃气Ⅱ      | 公用事业   | 武汉市 |\n",
       "| 近5年，净资产收益率为 24% ，投入资本回报率为 23% ，盈利能力很强。                  | 盈利  | 积极   | 公司作为行业内领先的异噻唑啉酮类工业杀菌剂制造商，主要产品为异噻唑啉酮杀菌剂原药剂及复配产品，分为CIT/MIT、MIT、OIT、DCOIT等几大系列。异噻唑啉酮类杀菌剂是一种广谱、高效、低毒、非氧化性、环境友好型工业杀菌剂，主要用以杀灭或抑制微生物生长，广泛运用于油田注水、工业循环水、造纸、日化、涂料、农药、切削油、皮革、油墨、染料、制革、木材制品等下游领域。公司多年来专注于异噻唑啉酮类产品的生产、研发和销售，产品系列覆盖了此类杀菌剂的所有常用品种，产品质量达到国际先进水平，可满足下游应用的不同需求。公司在行业内建立起了良好的口碑，“百傲”品牌已得到国内外客户的广泛认可，产品直接出口至亚洲、欧洲、美国、南美等多个国家及地区。公司与陶氏化学、德国朗盛、科莱恩、特洛伊等国际化工巨头、广东省石油化工研究院、广东迪美生物技术有限公司、华泰纸业有限公司、江海环保股份有限公司等国内知名企业建立了长期稳定的合作关系。 | 603360.SH  | 百傲化学   | 农药       | 农化制品   | 基础化工   | 大连市 |\n",
       "| 最新综合估值仅高于上市以来 18% 的时间，处于历史低位。                              | 估值  | 积极   | 公司作为行业内领先的异噻唑啉酮类工业杀菌剂制造商，主要产品为异噻唑啉酮杀菌剂原药剂及复配产品，分为CIT/MIT、MIT、OIT、DCOIT等几大系列。异噻唑啉酮类杀菌剂是一种广谱、高效、低毒、非氧化性、环境友好型工业杀菌剂，主要用以杀灭或抑制微生物生长，广泛运用于油田注水、工业循环水、造纸、日化、涂料、农药、切削油、皮革、油墨、染料、制革、木材制品等下游领域。公司多年来专注于异噻唑啉酮类产品的生产、研发和销售，产品系列覆盖了此类杀菌剂的所有常用品种，产品质量达到国际先进水平，可满足下游应用的不同需求。公司在行业内建立起了良好的口碑，“百傲”品牌已得到国内外客户的广泛认可，产品直接出口至亚洲、欧洲、美国、南美等多个国家及地区。公司与陶氏化学、德国朗盛、科莱恩、特洛伊等国际化工巨头、广东省石油化工研究院、广东迪美生物技术有限公司、华泰纸业有限公司、江海环保股份有限公司等国内知名企业建立了长期稳定的合作关系。 | 603360.SH  | 百傲化学   | 农药       | 农化制品   | 基础化工   | 大连市 |\n",
       "| 近1年，股价涨幅超过A股市场 95% 的股票，收盘价接近一年新高，走势较强。              | 强势  | 积极   | 公司作为行业内领先的异噻唑啉酮类工业杀菌剂制造商，主要产品为异噻唑啉酮杀菌剂原药剂及复配产品，分为CIT/MIT、MIT、OIT、DCOIT等几大系列。异噻唑啉酮类杀菌剂是一种广谱、高效、低毒、非氧化性、环境友好型工业杀菌剂，主要用以杀灭或抑制微生物生长，广泛运用于油田注水、工业循环水、造纸、日化、涂料、农药、切削油、皮革、油墨、染料、制革、木材制品等下游领域。公司多年来专注于异噻唑啉酮类产品的生产、研发和销售，产品系列覆盖了此类杀菌剂的所有常用品种，产品质量达到国际先进水平，可满足下游应用的不同需求。公司在行业内建立起了良好的口碑，“百傲”品牌已得到国内外客户的广泛认可，产品直接出口至亚洲、欧洲、美国、南美等多个国家及地区。公司与陶氏化学、德国朗盛、科莱恩、特洛伊等国际化工巨头、广东省石油化工研究院、广东迪美生物技术有限公司、华泰纸业有限公司、江海环保股份有限公司等国内知名企业建立了长期稳定的合作关系。 | 603360.SH  | 百傲化学   | 农药       | 农化制品   | 基础化工   | 大连市 |\n",
       "| 固定资产占总资产 43% ，为重资产模式，维持竞争优势成本较高。                        | 资产  | 消极   | 公司作为行业内领先的异噻唑啉酮类工业杀菌剂制造商，主要产品为异噻唑啉酮杀菌剂原药剂及复配产品，分为CIT/MIT、MIT、OIT、DCOIT等几大系列。异噻唑啉酮类杀菌剂是一种广谱、高效、低毒、非氧化性、环境友好型工业杀菌剂，主要用以杀灭或抑制微生物生长，广泛运用于油田注水、工业循环水、造纸、日化、涂料、农药、切削油、皮革、油墨、染料、制革、木材制品等下游领域。公司多年来专注于异噻唑啉酮类产品的生产、研发和销售，产品系列覆盖了此类杀菌剂的所有常用品种，产品质量达到国际先进水平，可满足下游应用的不同需求。公司在行业内建立起了良好的口碑，“百傲”品牌已得到国内外客户的广泛认可，产品直接出口至亚洲、欧洲、美国、南美等多个国家及地区。公司与陶氏化学、德国朗盛、科莱恩、特洛伊等国际化工巨头、广东省石油化工研究院、广东迪美生物技术有限公司、华泰纸业有限公司、江海环保股份有限公司等国内知名企业建立了长期稳定的合作关系。 | 603360.SH  | 百傲化学   | 农药       | 农化制品   | 基础化工   | 大连市 |\n",
       "| 近5年，股息收益率均值达到 5.8% ，现金分红极高。                                    | 分红  | 积极   | 公司原是深圳市最早从事专业化纤产品生产与经营的国营内联企业，目前公司主营业务为房地产开发和自有物业租赁管理业务。房地产开发业务主要集中在深圳、杭州、千岛湖等城市，物业资产及物业经营管理业务主要集中深圳、杭州、上海、千岛湖等区域。从事房地产开发的实体主要包括：公司本部、深圳华联置业公司、杭州华联置业公司、浙江兴财公司、上海申冠置业公司等五家企业。从事物业经营管理业务的实体为华联物业集团，负责统筹、运营和管理本公司和华联集团的物业资产出租及住宅地产项目、商业地产项目等运营与服务管理。                                                                                                                                                                                                                                                                                                                         | 000036.SZ  | 华联控股   | 住宅开发   | 房地产开发 | 房地产     | 深圳市 |\n",
       "| 近3年，营业收入每年下滑 19% ，收入成长性很弱。                                     | 收入  | 消极   | 公司原是深圳市最早从事专业化纤产品生产与经营的国营内联企业，目前公司主营业务为房地产开发和自有物业租赁管理业务。房地产开发业务主要集中在深圳、杭州、千岛湖等城市，物业资产及物业经营管理业务主要集中深圳、杭州、上海、千岛湖等区域。从事房地产开发的实体主要包括：公司本部、深圳华联置业公司、杭州华联置业公司、浙江兴财公司、上海申冠置业公司等五家企业。从事物业经营管理业务的实体为华联物业集团，负责统筹、运营和管理本公司和华联集团的物业资产出租及住宅地产项目、商业地产项目等运营与服务管理。                                                                                                                                                                                                                                                                                                                         | 000036.SZ  | 华联控股   | 住宅开发   | 房地产开发 | 房地产     | 深圳市 |\n",
       "| 近90天，没有机构发布研究报告，机构关注度低。                                       | 评级  | 消极   | 公司原是深圳市最早从事专业化纤产品生产与经营的国营内联企业，目前公司主营业务为房地产开发和自有物业租赁管理业务。房地产开发业务主要集中在深圳、杭州、千岛湖等城市，物业资产及物业经营管理业务主要集中深圳、杭州、上海、千岛湖等区域。从事房地产开发的实体主要包括：公司本部、深圳华联置业公司、杭州华联置业公司、浙江兴财公司、上海申冠置业公司等五家企业。从事物业经营管理业务的实体为华联物业集团，负责统筹、运营和管理本公司和华联集团的物业资产出租及住宅地产项目、商业地产项目等运营与服务管理。                                                                                                                                                                                                                                                                                                                         | 000036.SZ  | 华联控股   | 住宅开发   | 房地产开发 | 房地产     | 深圳市 |\n",
       "| 近3月，股价表现差于A股市场 91% 的股票，走势较弱。                                  | 弱势  | 消极   | 公司原是深圳市最早从事专业化纤产品生产与经营的国营内联企业，目前公司主营业务为房地产开发和自有物业租赁管理业务。房地产开发业务主要集中在深圳、杭州、千岛湖等城市，物业资产及物业经营管理业务主要集中深圳、杭州、上海、千岛湖等区域。从事房地产开发的实体主要包括：公司本部、深圳华联置业公司、杭州华联置业公司、浙江兴财公司、上海申冠置业公司等五家企业。从事物业经营管理业务的实体为华联物业集团，负责统筹、运营和管理本公司和华联集团的物业资产出租及住宅地产项目、商业地产项目等运营与服务管理。                                                                                                                                                                                                                                                                                                                         | 000036.SZ  | 华联控股   | 住宅开发   | 房地产开发 | 房地产     | 深圳市 |\n",
       "| 管理层披露减持计划，自2022年12月01日起6个月内减持不超过 46万股 ，占总股本 0.03% 。 | 减持  | 消极   | 公司原是深圳市最早从事专业化纤产品生产与经营的国营内联企业，目前公司主营业务为房地产开发和自有物业租赁管理业务。房地产开发业务主要集中在深圳、杭州、千岛湖等城市，物业资产及物业经营管理业务主要集中深圳、杭州、上海、千岛湖等区域。从事房地产开发的实体主要包括：公司本部、深圳华联置业公司、杭州华联置业公司、浙江兴财公司、上海申冠置业公司等五家企业。从事物业经营管理业务的实体为华联物业集团，负责统筹、运营和管理本公司和华联集团的物业资产出租及住宅地产项目、商业地产项目等运营与服务管理。                                                                                                                                                                                                                                                                                                                         | 000036.SZ  | 华联控股   | 住宅开发   | 房地产开发 | 房地产     | 深圳市 |\n",
       "| 2022年09月20日至2023年02月28日期间，股东户数减少 34% ，大资金买入。                | 户数  | 积极   | 公司前身是深圳市长城投资控股股份有限公司，创立于1984年，1994年经股份制改造成为公众上市公司，为首批获得国家房地产开发一级资质企业。公司以房地产开发业务为主，范围涉及酒店经营、资产管理、物业管理、商业管理、投资等多个领域。近年来，公司继续扎根于主流的经济区域，多渠道、多方式取地，扩大区域影响范围，逐渐实现“专注区域、深耕城市、多盘联动”的战略布局。                                                                                                                                                                                                                                                                                                                                                                                                                                                                   | 000042.SZ  | 中洲控股   | 住宅开发   | 房地产开发 | 房地产     | 深圳市 |\n",
       "| 带息债务占全部投入资本 62% ，偿债压力很大。                                        | 偿债  | 消极   | 公司前身是深圳市长城投资控股股份有限公司，创立于1984年，1994年经股份制改造成为公众上市公司，为首批获得国家房地产开发一级资质企业。公司以房地产开发业务为主，范围涉及酒店经营、资产管理、物业管理、商业管理、投资等多个领域。近年来，公司继续扎根于主流的经济区域，多渠道、多方式取地，扩大区域影响范围，逐渐实现“专注区域、深耕城市、多盘联动”的战略布局。                                                                                                                                                                                                                                                                                                                                                                                                                                                                   | 000042.SZ  | 中洲控股   | 住宅开发   | 房地产开发 | 房地产     | 深圳市 |\n",
       "| 近90天，没有机构发布研究报告，机构关注度低。                                       | 评级  | 消极   | 公司前身是深圳市长城投资控股股份有限公司，创立于1984年，1994年经股份制改造成为公众上市公司，为首批获得国家房地产开发一级资质企业。公司以房地产开发业务为主，范围涉及酒店经营、资产管理、物业管理、商业管理、投资等多个领域。近年来，公司继续扎根于主流的经济区域，多渠道、多方式取地，扩大区域影响范围，逐渐实现“专注区域、深耕城市、多盘联动”的战略布局。                                                                                                                                                                                                                                                                                                                                                                                                                                                                   | 000042.SZ  | 中洲控股   | 住宅开发   | 房地产开发 | 房地产     | 深圳市 |\n",
       "| 近5年，净资产收益率为 16% ，投入资本回报率为 13% ，盈利能力很强。                  | 盈利  | 积极   | 公司主营高速公路、桥梁的建设施工，公路、桥梁的收费和养护管理业务，公司坚持“依托集团、立足省内、兼顾省外”投资策略，不断加大新项目开发力度，多方建立沟通合作关系，积极拓展项目源。坚持收购已运营的优质路产项目，以控股为主，注重盈利水平。逐步改变参股项目散、小、多的现状，按照“适度释放、有效整合”的原则，逐步调整资产结构、改善盈利能力。大力发展高速公路节能服务项目，加强技术研发，注重人才积累，争取政策支持。公司还建立完善、高效、明晰的管理机制，不断提高项目公司盈利能力。                                                                                                                                                                                                                                                                                                                                           | 000429.SZ  | 粤高速A    | 高速公路   | 铁路公路   | 交通运输   | 广州市 |\n",
       "| 近5年，股息收益率均值达到 6.3% ，现金分红极高。                                    | 分红  | 积极   | 公司主营高速公路、桥梁的建设施工，公路、桥梁的收费和养护管理业务，公司坚持“依托集团、立足省内、兼顾省外”投资策略，不断加大新项目开发力度，多方建立沟通合作关系，积极拓展项目源。坚持收购已运营的优质路产项目，以控股为主，注重盈利水平。逐步改变参股项目散、小、多的现状，按照“适度释放、有效整合”的原则，逐步调整资产结构、改善盈利能力。大力发展高速公路节能服务项目，加强技术研发，注重人才积累，争取政策支持。公司还建立完善、高效、明晰的管理机制，不断提高项目公司盈利能力。                                                                                                                                                                                                                                                                                                                                           | 000429.SZ  | 粤高速A    | 高速公路   | 铁路公路   | 交通运输   | 广州市 |\n",
       "| 公司所属 铁路公路 行业，自2022年10月以来持续走强，正处于上涨趋势中。               | 趋势  | 积极   | 公司主营高速公路、桥梁的建设施工，公路、桥梁的收费和养护管理业务，公司坚持“依托集团、立足省内、兼顾省外”投资策略，不断加大新项目开发力度，多方建立沟通合作关系，积极拓展项目源。坚持收购已运营的优质路产项目，以控股为主，注重盈利水平。逐步改变参股项目散、小、多的现状，按照“适度释放、有效整合”的原则，逐步调整资产结构、改善盈利能力。大力发展高速公路节能服务项目，加强技术研发，注重人才积累，争取政策支持。公司还建立完善、高效、明晰的管理机制，不断提高项目公司盈利能力。                                                                                                                                                                                                                                                                                                                                           | 000429.SZ  | 粤高速A    | 高速公路   | 铁路公路   | 交通运输   | 广州市 |\n",
       "| 固定资产占总资产 55% ，为重资产模式，维持竞争优势成本较高。                        | 资产  | 消极   | 公司主营高速公路、桥梁的建设施工，公路、桥梁的收费和养护管理业务，公司坚持“依托集团、立足省内、兼顾省外”投资策略，不断加大新项目开发力度，多方建立沟通合作关系，积极拓展项目源。坚持收购已运营的优质路产项目，以控股为主，注重盈利水平。逐步改变参股项目散、小、多的现状，按照“适度释放、有效整合”的原则，逐步调整资产结构、改善盈利能力。大力发展高速公路节能服务项目，加强技术研发，注重人才积累，争取政策支持。公司还建立完善、高效、明晰的管理机制，不断提高项目公司盈利能力。                                                                                                                                                                                                                                                                                                                                           | 000429.SZ  | 粤高速A    | 高速公路   | 铁路公路   | 交通运输   | 广州市 |\n",
       "| 近5年，净资产收益率为 19% ，投入资本回报率为 17% ，盈利能力很强。                  | 盈利  | 积极   | 公司是集医药研发、生产、销售为一体的综合性企业集团，全国医药行业首家A、B股上市的公司。公司建立了覆盖国内市场的营销网络，与商业主渠道和数千家医院建立了稳定、良好的业务关系；随着质量体系的持续完善和提高，随着销售的快速增长，随着产能的不断扩大，随着新厂建设步伐的加快，丽珠集团将成为国内领先、国际一流的现代化制药龙头企业。丽珠集团已经跻身中国上市企业投资10强，最佳上市企业治理10强、广东省高新技术企业、广东省医药行业杰出贡献企业、中国制药工业(销售)百强企业第46名、广东省医药工业综合实力50强。                                                                                                                                                                                                                                                                                                                   | 000513.SZ  | 丽珠集团   | 化学制剂   | 化学制药   | 医药生物   | 珠海市 |\n",
       "| 近5年，净现比达到 123% ，净利润现金含量很高。                                      | 净现  | 积极   | 公司是集医药研发、生产、销售为一体的综合性企业集团，全国医药行业首家A、B股上市的公司。公司建立了覆盖国内市场的营销网络，与商业主渠道和数千家医院建立了稳定、良好的业务关系；随着质量体系的持续完善和提高，随着销售的快速增长，随着产能的不断扩大，随着新厂建设步伐的加快，丽珠集团将成为国内领先、国际一流的现代化制药龙头企业。丽珠集团已经跻身中国上市企业投资10强，最佳上市企业治理10强、广东省高新技术企业、广东省医药行业杰出贡献企业、中国制药工业(销售)百强企业第46名、广东省医药工业综合实力50强。                                                                                                                                                                                                                                                                                                                   | 000513.SZ  | 丽珠集团   | 化学制剂   | 化学制药   | 医药生物   | 珠海市 |\n",
       "| 近5年，股息收益率均值达到 3.7% ，现金分红极高。                                    | 分红  | 积极   | 公司是集医药研发、生产、销售为一体的综合性企业集团，全国医药行业首家A、B股上市的公司。公司建立了覆盖国内市场的营销网络，与商业主渠道和数千家医院建立了稳定、良好的业务关系；随着质量体系的持续完善和提高，随着销售的快速增长，随着产能的不断扩大，随着新厂建设步伐的加快，丽珠集团将成为国内领先、国际一流的现代化制药龙头企业。丽珠集团已经跻身中国上市企业投资10强，最佳上市企业治理10强、广东省高新技术企业、广东省医药行业杰出贡献企业、中国制药工业(销售)百强企业第46名、广东省医药工业综合实力50强。                                                                                                                                                                                                                                                                                                                   | 000513.SZ  | 丽珠集团   | 化学制剂   | 化学制药   | 医药生物   | 珠海市 |\n",
       "| 近1月，北向资金增持 0.54% ，持股达到 5.2% ，很受外资机构青睐。                     | 北向  | 积极   | 公司是集医药研发、生产、销售为一体的综合性企业集团，全国医药行业首家A、B股上市的公司。公司建立了覆盖国内市场的营销网络，与商业主渠道和数千家医院建立了稳定、良好的业务关系；随着质量体系的持续完善和提高，随着销售的快速增长，随着产能的不断扩大，随着新厂建设步伐的加快，丽珠集团将成为国内领先、国际一流的现代化制药龙头企业。丽珠集团已经跻身中国上市企业投资10强，最佳上市企业治理10强、广东省高新技术企业、广东省医药行业杰出贡献企业、中国制药工业(销售)百强企业第46名、广东省医药工业综合实力50强。                                                                                                                                                                                                                                                                                                                   | 000513.SZ  | 丽珠集团   | 化学制剂   | 化学制药   | 医药生物   | 珠海市 |\n",
       "| 近6月，公司累计回购 387万股 ，占总股本比例 0.41% ，金额合计 1.3亿元 。             | 回购  | 积极   | 公司是集医药研发、生产、销售为一体的综合性企业集团，全国医药行业首家A、B股上市的公司。公司建立了覆盖国内市场的营销网络，与商业主渠道和数千家医院建立了稳定、良好的业务关系；随着质量体系的持续完善和提高，随着销售的快速增长，随着产能的不断扩大，随着新厂建设步伐的加快，丽珠集团将成为国内领先、国际一流的现代化制药龙头企业。丽珠集团已经跻身中国上市企业投资10强，最佳上市企业治理10强、广东省高新技术企业、广东省医药行业杰出贡献企业、中国制药工业(销售)百强企业第46名、广东省医药工业综合实力50强。                                                                                                                                                                                                                                                                                                                   | 000513.SZ  | 丽珠集团   | 化学制剂   | 化学制药   | 医药生物   | 珠海市 |\n",
       "| 近5年，净资产收益率为 38% ，投入资本回报率为 27% ，盈利能力很强。                  | 盈利  | 积极   | 公司是一家专业从事水泥熟料、水泥、水泥制品生产、销售的大型水泥企业，拥有浙江、安徽等大战略区域，在铜陵、安庆、诸暨等地建立了大型水泥及水泥熟料生产基地。公司生产的“上峰”牌水泥色泽佳、凝结硬化快、抗折抗压强度高、抗冻耐磨性能好，各项品质指标均达到和超过国家标准，产品先后获得国家免检产品，国家级重点新品、浙江名牌产品、浙江省著名商标等荣誉称号。产品广泛用于高层建筑、高速公路、桥梁、码头和隧道等重点工程建设，深受广大用户的青睐。已通过ISO9001质量体系认证、ISO14000环境管理体系认证和职业健康安全管理体系认证。公司被评为“中国水泥行业信息化标杆企业”。                                                                                                                                                                                                                                                            | 000672.SZ  | 上峰水泥   | 水泥制造   | 水泥       | 建筑材料   | 白银市 |\n",
       "| 近5年，净现比达到 123% ，净利润现金含量很高。                                      | 净现  | 积极   | 公司是一家专业从事水泥熟料、水泥、水泥制品生产、销售的大型水泥企业，拥有浙江、安徽等大战略区域，在铜陵、安庆、诸暨等地建立了大型水泥及水泥熟料生产基地。公司生产的“上峰”牌水泥色泽佳、凝结硬化快、抗折抗压强度高、抗冻耐磨性能好，各项品质指标均达到和超过国家标准，产品先后获得国家免检产品，国家级重点新品、浙江名牌产品、浙江省著名商标等荣誉称号。产品广泛用于高层建筑、高速公路、桥梁、码头和隧道等重点工程建设，深受广大用户的青睐。已通过ISO9001质量体系认证、ISO14000环境管理体系认证和职业健康安全管理体系认证。公司被评为“中国水泥行业信息化标杆企业”。                                                                                                                                                                                                                                                            | 000672.SZ  | 上峰水泥   | 水泥制造   | 水泥       | 建筑材料   | 白银市 |\n",
       "| 近5年，股息收益率均值达到 4.8% ，现金分红较高。                                    | 分红  | 积极   | 公司是一家专业从事水泥熟料、水泥、水泥制品生产、销售的大型水泥企业，拥有浙江、安徽等大战略区域，在铜陵、安庆、诸暨等地建立了大型水泥及水泥熟料生产基地。公司生产的“上峰”牌水泥色泽佳、凝结硬化快、抗折抗压强度高、抗冻耐磨性能好，各项品质指标均达到和超过国家标准，产品先后获得国家免检产品，国家级重点新品、浙江名牌产品、浙江省著名商标等荣誉称号。产品广泛用于高层建筑、高速公路、桥梁、码头和隧道等重点工程建设，深受广大用户的青睐。已通过ISO9001质量体系认证、ISO14000环境管理体系认证和职业健康安全管理体系认证。公司被评为“中国水泥行业信息化标杆企业”。                                                                                                                                                                                                                                                            | 000672.SZ  | 上峰水泥   | 水泥制造   | 水泥       | 建筑材料   | 白银市 |\n",
       "| 近90天，没有机构发布研究报告，机构关注度低。                                       | 评级  | 消极   | 公司是一家专业从事水泥熟料、水泥、水泥制品生产、销售的大型水泥企业，拥有浙江、安徽等大战略区域，在铜陵、安庆、诸暨等地建立了大型水泥及水泥熟料生产基地。公司生产的“上峰”牌水泥色泽佳、凝结硬化快、抗折抗压强度高、抗冻耐磨性能好，各项品质指标均达到和超过国家标准，产品先后获得国家免检产品，国家级重点新品、浙江名牌产品、浙江省著名商标等荣誉称号。产品广泛用于高层建筑、高速公路、桥梁、码头和隧道等重点工程建设，深受广大用户的青睐。已通过ISO9001质量体系认证、ISO14000环境管理体系认证和职业健康安全管理体系认证。公司被评为“中国水泥行业信息化标杆企业”。                                                                                                                                                                                                                                                            | 000672.SZ  | 上峰水泥   | 水泥制造   | 水泥       | 建筑材料   | 白银市 |\n",
       "| 近6月，控股股东累计减持 1950万股 ，占总股本比例 2.0% ，金额合计 2.4亿元 。         | 减持  | 消极   | 公司是一家专业从事水泥熟料、水泥、水泥制品生产、销售的大型水泥企业，拥有浙江、安徽等大战略区域，在铜陵、安庆、诸暨等地建立了大型水泥及水泥熟料生产基地。公司生产的“上峰”牌水泥色泽佳、凝结硬化快、抗折抗压强度高、抗冻耐磨性能好，各项品质指标均达到和超过国家标准，产品先后获得国家免检产品，国家级重点新品、浙江名牌产品、浙江省著名商标等荣誉称号。产品广泛用于高层建筑、高速公路、桥梁、码头和隧道等重点工程建设，深受广大用户的青睐。已通过ISO9001质量体系认证、ISO14000环境管理体系认证和职业健康安全管理体系认证。公司被评为“中国水泥行业信息化标杆企业”。                                                                                                                                                                                                                                                            | 000672.SZ  | 上峰水泥   | 水泥制造   | 水泥       | 建筑材料   | 白银市 |\n",
       "| 近5年，净资产收益率为 15% ，投入资本回报率为 19% ，盈利能力很强。                  | 盈利  | 积极   | 公司以环保和医药产业为主营业务。目前环保产业主要涉及市政污水处理、工业废水废气深度处理、乡镇污水综合治理、人工湿地生态建设、固体废弃物资源化利用、农地重金属离子治理、二氧化氯制备等领域。医药产业以儿童保健药品的生产销售为主。主要产品有伊可新(维生素A/D胶丸)、国家二类新药伊瑞(格列美脲片)、伊甘欣(甘草锌颗粒)、盖笛欣(复方碳酸钙泡腾颗粒)以及儿童健康食品等。公司先后获得山东省高新技术企业、中国环境保护产业骨干企业、中国环境保护协会常务理事单位、中国环境保护产业AAA级信用企业等荣誉称号。顺利通过了ISO9001质量管理体系认证、ISO4001环境管理体系认证以及ISO8001职业健康安全管理体系认证。公司拥有两个省级技术研发中心，曾多次承担国家“863”计划项目、科技部重大科技专项、山东省环境瓶颈解析与突破项目、山东省科技攻关项目、山东省技术创新项目、山东省科技发展计划项目等国家及省部级科研项目。                         | 000915.SZ  | 华特达因   | 化学制剂   | 化学制药   | 医药生物   | 临沂市 |\n",
       "| 近5年，收现比达到 116% ，销售收入现金含量很强。                                    | 收现  | 积极   | 公司以环保和医药产业为主营业务。目前环保产业主要涉及市政污水处理、工业废水废气深度处理、乡镇污水综合治理、人工湿地生态建设、固体废弃物资源化利用、农地重金属离子治理、二氧化氯制备等领域。医药产业以儿童保健药品的生产销售为主。主要产品有伊可新(维生素A/D胶丸)、国家二类新药伊瑞(格列美脲片)、伊甘欣(甘草锌颗粒)、盖笛欣(复方碳酸钙泡腾颗粒)以及儿童健康食品等。公司先后获得山东省高新技术企业、中国环境保护产业骨干企业、中国环境保护协会常务理事单位、中国环境保护产业AAA级信用企业等荣誉称号。顺利通过了ISO9001质量管理体系认证、ISO4001环境管理体系认证以及ISO8001职业健康安全管理体系认证。公司拥有两个省级技术研发中心，曾多次承担国家“863”计划项目、科技部重大科技专项、山东省环境瓶颈解析与突破项目、山东省科技攻关项目、山东省技术创新项目、山东省科技发展计划项目等国家及省部级科研项目。                         | 000915.SZ  | 华特达因   | 化学制剂   | 化学制药   | 医药生物   | 临沂市 |\n",
       "| 近5年，股息收益率均值达到 1.8% ，现金分红较高。                                    | 分红  | 积极   | 公司以环保和医药产业为主营业务。目前环保产业主要涉及市政污水处理、工业废水废气深度处理、乡镇污水综合治理、人工湿地生态建设、固体废弃物资源化利用、农地重金属离子治理、二氧化氯制备等领域。医药产业以儿童保健药品的生产销售为主。主要产品有伊可新(维生素A/D胶丸)、国家二类新药伊瑞(格列美脲片)、伊甘欣(甘草锌颗粒)、盖笛欣(复方碳酸钙泡腾颗粒)以及儿童健康食品等。公司先后获得山东省高新技术企业、中国环境保护产业骨干企业、中国环境保护协会常务理事单位、中国环境保护产业AAA级信用企业等荣誉称号。顺利通过了ISO9001质量管理体系认证、ISO4001环境管理体系认证以及ISO8001职业健康安全管理体系认证。公司拥有两个省级技术研发中心，曾多次承担国家“863”计划项目、科技部重大科技专项、山东省环境瓶颈解析与突破项目、山东省科技攻关项目、山东省技术创新项目、山东省科技发展计划项目等国家及省部级科研项目。                         | 000915.SZ  | 华特达因   | 化学制剂   | 化学制药   | 医药生物   | 临沂市 |\n",
       "| 北向资金持股 8.0% ，很受外资机构青睐。                                             | 北向  | 积极   | 公司以环保和医药产业为主营业务。目前环保产业主要涉及市政污水处理、工业废水废气深度处理、乡镇污水综合治理、人工湿地生态建设、固体废弃物资源化利用、农地重金属离子治理、二氧化氯制备等领域。医药产业以儿童保健药品的生产销售为主。主要产品有伊可新(维生素A/D胶丸)、国家二类新药伊瑞(格列美脲片)、伊甘欣(甘草锌颗粒)、盖笛欣(复方碳酸钙泡腾颗粒)以及儿童健康食品等。公司先后获得山东省高新技术企业、中国环境保护产业骨干企业、中国环境保护协会常务理事单位、中国环境保护产业AAA级信用企业等荣誉称号。顺利通过了ISO9001质量管理体系认证、ISO4001环境管理体系认证以及ISO8001职业健康安全管理体系认证。公司拥有两个省级技术研发中心，曾多次承担国家“863”计划项目、科技部重大科技专项、山东省环境瓶颈解析与突破项目、山东省科技攻关项目、山东省技术创新项目、山东省科技发展计划项目等国家及省部级科研项目。                         | 000915.SZ  | 华特达因   | 化学制剂   | 化学制药   | 医药生物   | 临沂市 |\n",
       "| 2023年01月20日，业绩不及预期引发股价跳空低开，但目前股价缺口已回补。               | 业绩  | 消极   | 公司以环保和医药产业为主营业务。目前环保产业主要涉及市政污水处理、工业废水废气深度处理、乡镇污水综合治理、人工湿地生态建设、固体废弃物资源化利用、农地重金属离子治理、二氧化氯制备等领域。医药产业以儿童保健药品的生产销售为主。主要产品有伊可新(维生素A/D胶丸)、国家二类新药伊瑞(格列美脲片)、伊甘欣(甘草锌颗粒)、盖笛欣(复方碳酸钙泡腾颗粒)以及儿童健康食品等。公司先后获得山东省高新技术企业、中国环境保护产业骨干企业、中国环境保护协会常务理事单位、中国环境保护产业AAA级信用企业等荣誉称号。顺利通过了ISO9001质量管理体系认证、ISO4001环境管理体系认证以及ISO8001职业健康安全管理体系认证。公司拥有两个省级技术研发中心，曾多次承担国家“863”计划项目、科技部重大科技专项、山东省环境瓶颈解析与突破项目、山东省科技攻关项目、山东省技术创新项目、山东省科技发展计划项目等国家及省部级科研项目。                         | 000915.SZ  | 华特达因   | 化学制剂   | 化学制药   | 医药生物   | 临沂市 |\n",
       "| 近3月，股价表现差于A股市场 93% 的股票，走势较弱。                                  | 弱势  | 消极   | 公司以环保和医药产业为主营业务。目前环保产业主要涉及市政污水处理、工业废水废气深度处理、乡镇污水综合治理、人工湿地生态建设、固体废弃物资源化利用、农地重金属离子治理、二氧化氯制备等领域。医药产业以儿童保健药品的生产销售为主。主要产品有伊可新(维生素A/D胶丸)、国家二类新药伊瑞(格列美脲片)、伊甘欣(甘草锌颗粒)、盖笛欣(复方碳酸钙泡腾颗粒)以及儿童健康食品等。公司先后获得山东省高新技术企业、中国环境保护产业骨干企业、中国环境保护协会常务理事单位、中国环境保护产业AAA级信用企业等荣誉称号。顺利通过了ISO9001质量管理体系认证、ISO4001环境管理体系认证以及ISO8001职业健康安全管理体系认证。公司拥有两个省级技术研发中心，曾多次承担国家“863”计划项目、科技部重大科技专项、山东省环境瓶颈解析与突破项目、山东省科技攻关项目、山东省技术创新项目、山东省科技发展计划项目等国家及省部级科研项目。                         | 000915.SZ  | 华特达因   | 化学制剂   | 化学制药   | 医药生物   | 临沂市 |\n",
       "| 近5年，投入资本回报率为 19% ，创造价值的能力很强。                                 | ROIC  | 积极   | 公司主营业务转型为包括房地产开发经营和医疗器械生产销售两部分业务。公司是广东省高新技术企业、技术创新优势企业和专利试点企业，是国内较早通过ISO9002国际质量体系认证及中国医疗器械行业CMD认证的医疗器械企业，为国内医疗器械行业的龙头企业。完成重大资产重组后，公司的主营业务由医疗器械业务成功转型为房地产开发与经营，之后公司专注于房地产主业，并取得良好的经营业绩，公司的市场竞争力和持续发展能力不断得到提升。公司始终坚持诚信经营的方针和稳健理性的发展理念，不断夯实发展根基。                                                                                                                                                                                                                                                                                                                                           | 002016.SZ  | 世荣兆业   | 住宅开发   | 房地产开发 | 房地产     | 珠海市 |\n",
       "| 近5年，股息收益率均值达到 3.4% ，现金分红较高。                                    | 分红  | 积极   | 公司主营业务转型为包括房地产开发经营和医疗器械生产销售两部分业务。公司是广东省高新技术企业、技术创新优势企业和专利试点企业，是国内较早通过ISO9002国际质量体系认证及中国医疗器械行业CMD认证的医疗器械企业，为国内医疗器械行业的龙头企业。完成重大资产重组后，公司的主营业务由医疗器械业务成功转型为房地产开发与经营，之后公司专注于房地产主业，并取得良好的经营业绩，公司的市场竞争力和持续发展能力不断得到提升。公司始终坚持诚信经营的方针和稳健理性的发展理念，不断夯实发展根基。                                                                                                                                                                                                                                                                                                                                           | 002016.SZ  | 世荣兆业   | 住宅开发   | 房地产开发 | 房地产     | 珠海市 |\n",
       "| 近3年营业收入每年下滑 16% ，最新季度归母净利润同比下滑 89% ，成长能力很弱。        | 成长  | 消极   | 公司主营业务转型为包括房地产开发经营和医疗器械生产销售两部分业务。公司是广东省高新技术企业、技术创新优势企业和专利试点企业，是国内较早通过ISO9002国际质量体系认证及中国医疗器械行业CMD认证的医疗器械企业，为国内医疗器械行业的龙头企业。完成重大资产重组后，公司的主营业务由医疗器械业务成功转型为房地产开发与经营，之后公司专注于房地产主业，并取得良好的经营业绩，公司的市场竞争力和持续发展能力不断得到提升。公司始终坚持诚信经营的方针和稳健理性的发展理念，不断夯实发展根基。                                                                                                                                                                                                                                                                                                                                           | 002016.SZ  | 世荣兆业   | 住宅开发   | 房地产开发 | 房地产     | 珠海市 |\n",
       "| 近90天，没有机构发布研究报告，机构关注度低。                                       | 评级  | 消极   | 公司主营业务转型为包括房地产开发经营和医疗器械生产销售两部分业务。公司是广东省高新技术企业、技术创新优势企业和专利试点企业，是国内较早通过ISO9002国际质量体系认证及中国医疗器械行业CMD认证的医疗器械企业，为国内医疗器械行业的龙头企业。完成重大资产重组后，公司的主营业务由医疗器械业务成功转型为房地产开发与经营，之后公司专注于房地产主业，并取得良好的经营业绩，公司的市场竞争力和持续发展能力不断得到提升。公司始终坚持诚信经营的方针和稳健理性的发展理念，不断夯实发展根基。                                                                                                                                                                                                                                                                                                                                           | 002016.SZ  | 世荣兆业   | 住宅开发   | 房地产开发 | 房地产     | 珠海市 |\n",
       "| 无公募基金持股，不受内资机构青睐。                                                 | 公募  | 消极   | 公司主营业务转型为包括房地产开发经营和医疗器械生产销售两部分业务。公司是广东省高新技术企业、技术创新优势企业和专利试点企业，是国内较早通过ISO9002国际质量体系认证及中国医疗器械行业CMD认证的医疗器械企业，为国内医疗器械行业的龙头企业。完成重大资产重组后，公司的主营业务由医疗器械业务成功转型为房地产开发与经营，之后公司专注于房地产主业，并取得良好的经营业绩，公司的市场竞争力和持续发展能力不断得到提升。公司始终坚持诚信经营的方针和稳健理性的发展理念，不断夯实发展根基。                                                                                                                                                                                                                                                                                                                                           | 002016.SZ  | 世荣兆业   | 住宅开发   | 房地产开发 | 房地产     | 珠海市 |\n",
       "| 近1年，牵涉诉讼 3件 ，金额合计 29亿元 ，法律纠纷风险较高。                         | 诉讼  | 消极   | 公司主营业务转型为包括房地产开发经营和医疗器械生产销售两部分业务。公司是广东省高新技术企业、技术创新优势企业和专利试点企业，是国内较早通过ISO9002国际质量体系认证及中国医疗器械行业CMD认证的医疗器械企业，为国内医疗器械行业的龙头企业。完成重大资产重组后，公司的主营业务由医疗器械业务成功转型为房地产开发与经营，之后公司专注于房地产主业，并取得良好的经营业绩，公司的市场竞争力和持续发展能力不断得到提升。公司始终坚持诚信经营的方针和稳健理性的发展理念，不断夯实发展根基。                                                                                                                                                                                                                                                                                                                                           | 002016.SZ  | 世荣兆业   | 住宅开发   | 房地产开发 | 房地产     | 珠海市 |\n",
       "| 近3年，营业收入每年增长 29% ，收入成长性较强。                                     | 收入  | 积极   | 公司主要从事移动游戏的研发、发行和运营业务，以及各类扑克牌的设计、生产和销售业务，目前，基于传统主业与“大娱乐”战略的联动性，公司逐步实现了以移动游戏业务为重心，不断向互联网领域扩张的竞争格局。公司采用全自动生产线结合自主研发的部分核心设备，使用高端扑克牌专用纸张、专业上光技术和环保油墨，将传统的手工及机械操作式扑克牌生产流程改进为自动化生产方式。公司主要采用传统的经销商分销模式，通过各级经销商实现产品的快速销售，对外销售主要采用“款到发货”的方式保证货款安全。公司的“姚记”品牌已获得市场充分认可，具有较高的市场地位和知名度，“姚记”商标先后荣获“上海市著名商标”、“上海市名牌产品”等荣誉称号，被国家工商行政管理总局商标局认定为“中国驰名商标”，是中国文教体育用品协会向社会公布的“中国扑克牌行业知名品牌”的六大品牌之一。                                                                                   | 002605.SZ  | 姚记科技   | 游戏Ⅲ      | 游戏Ⅱ      | 传媒       | 上海市 |\n",
       "| 近5年，净资产收益率为 22% ，投入资本回报率为 19% ，盈利能力很强。                  | 盈利  | 积极   | 公司主要从事移动游戏的研发、发行和运营业务，以及各类扑克牌的设计、生产和销售业务，目前，基于传统主业与“大娱乐”战略的联动性，公司逐步实现了以移动游戏业务为重心，不断向互联网领域扩张的竞争格局。公司采用全自动生产线结合自主研发的部分核心设备，使用高端扑克牌专用纸张、专业上光技术和环保油墨，将传统的手工及机械操作式扑克牌生产流程改进为自动化生产方式。公司主要采用传统的经销商分销模式，通过各级经销商实现产品的快速销售，对外销售主要采用“款到发货”的方式保证货款安全。公司的“姚记”品牌已获得市场充分认可，具有较高的市场地位和知名度，“姚记”商标先后荣获“上海市著名商标”、“上海市名牌产品”等荣誉称号，被国家工商行政管理总局商标局认定为“中国驰名商标”，是中国文教体育用品协会向社会公布的“中国扑克牌行业知名品牌”的六大品牌之一。                                                                                   | 002605.SZ  | 姚记科技   | 游戏Ⅲ      | 游戏Ⅱ      | 传媒       | 上海市 |\n",
       "| 近5年，收现比达到 112% ，销售收入现金含量较强。                                    | 收现  | 积极   | 公司主要从事移动游戏的研发、发行和运营业务，以及各类扑克牌的设计、生产和销售业务，目前，基于传统主业与“大娱乐”战略的联动性，公司逐步实现了以移动游戏业务为重心，不断向互联网领域扩张的竞争格局。公司采用全自动生产线结合自主研发的部分核心设备，使用高端扑克牌专用纸张、专业上光技术和环保油墨，将传统的手工及机械操作式扑克牌生产流程改进为自动化生产方式。公司主要采用传统的经销商分销模式，通过各级经销商实现产品的快速销售，对外销售主要采用“款到发货”的方式保证货款安全。公司的“姚记”品牌已获得市场充分认可，具有较高的市场地位和知名度，“姚记”商标先后荣获“上海市著名商标”、“上海市名牌产品”等荣誉称号，被国家工商行政管理总局商标局认定为“中国驰名商标”，是中国文教体育用品协会向社会公布的“中国扑克牌行业知名品牌”的六大品牌之一。                                                                                   | 002605.SZ  | 姚记科技   | 游戏Ⅲ      | 游戏Ⅱ      | 传媒       | 上海市 |\n",
       "| 北向资金持股 2.8% ，较受外资机构青睐。                                             | 北向  | 积极   | 公司主要从事移动游戏的研发、发行和运营业务，以及各类扑克牌的设计、生产和销售业务，目前，基于传统主业与“大娱乐”战略的联动性，公司逐步实现了以移动游戏业务为重心，不断向互联网领域扩张的竞争格局。公司采用全自动生产线结合自主研发的部分核心设备，使用高端扑克牌专用纸张、专业上光技术和环保油墨，将传统的手工及机械操作式扑克牌生产流程改进为自动化生产方式。公司主要采用传统的经销商分销模式，通过各级经销商实现产品的快速销售，对外销售主要采用“款到发货”的方式保证货款安全。公司的“姚记”品牌已获得市场充分认可，具有较高的市场地位和知名度，“姚记”商标先后荣获“上海市著名商标”、“上海市名牌产品”等荣誉称号，被国家工商行政管理总局商标局认定为“中国驰名商标”，是中国文教体育用品协会向社会公布的“中国扑克牌行业知名品牌”的六大品牌之一。                                                                                   | 002605.SZ  | 姚记科技   | 游戏Ⅲ      | 游戏Ⅱ      | 传媒       | 上海市 |\n",
       "| 公司所属 游戏Ⅱ 行业，自2022年11月以来持续走强，正处于上涨趋势中。                  | 趋势  | 积极   | 公司主要从事移动游戏的研发、发行和运营业务，以及各类扑克牌的设计、生产和销售业务，目前，基于传统主业与“大娱乐”战略的联动性，公司逐步实现了以移动游戏业务为重心，不断向互联网领域扩张的竞争格局。公司采用全自动生产线结合自主研发的部分核心设备，使用高端扑克牌专用纸张、专业上光技术和环保油墨，将传统的手工及机械操作式扑克牌生产流程改进为自动化生产方式。公司主要采用传统的经销商分销模式，通过各级经销商实现产品的快速销售，对外销售主要采用“款到发货”的方式保证货款安全。公司的“姚记”品牌已获得市场充分认可，具有较高的市场地位和知名度，“姚记”商标先后荣获“上海市著名商标”、“上海市名牌产品”等荣誉称号，被国家工商行政管理总局商标局认定为“中国驰名商标”，是中国文教体育用品协会向社会公布的“中国扑克牌行业知名品牌”的六大品牌之一。                                                                                   | 002605.SZ  | 姚记科技   | 游戏Ⅲ      | 游戏Ⅱ      | 传媒       | 上海市 |\n",
       "| 近3月，股价涨幅超过A股市场 93% 的股票，走势较强。                                  | 强势  | 积极   | 公司主要从事移动游戏的研发、发行和运营业务，以及各类扑克牌的设计、生产和销售业务，目前，基于传统主业与“大娱乐”战略的联动性，公司逐步实现了以移动游戏业务为重心，不断向互联网领域扩张的竞争格局。公司采用全自动生产线结合自主研发的部分核心设备，使用高端扑克牌专用纸张、专业上光技术和环保油墨，将传统的手工及机械操作式扑克牌生产流程改进为自动化生产方式。公司主要采用传统的经销商分销模式，通过各级经销商实现产品的快速销售，对外销售主要采用“款到发货”的方式保证货款安全。公司的“姚记”品牌已获得市场充分认可，具有较高的市场地位和知名度，“姚记”商标先后荣获“上海市著名商标”、“上海市名牌产品”等荣誉称号，被国家工商行政管理总局商标局认定为“中国驰名商标”，是中国文教体育用品协会向社会公布的“中国扑克牌行业知名品牌”的六大品牌之一。                                                                                   | 002605.SZ  | 姚记科技   | 游戏Ⅲ      | 游戏Ⅱ      | 传媒       | 上海市 |\n",
       "| 商誉占净资产 47% ，商誉减值风险很高。                                              | 商誉  | 消极   | 公司主要从事移动游戏的研发、发行和运营业务，以及各类扑克牌的设计、生产和销售业务，目前，基于传统主业与“大娱乐”战略的联动性，公司逐步实现了以移动游戏业务为重心，不断向互联网领域扩张的竞争格局。公司采用全自动生产线结合自主研发的部分核心设备，使用高端扑克牌专用纸张、专业上光技术和环保油墨，将传统的手工及机械操作式扑克牌生产流程改进为自动化生产方式。公司主要采用传统的经销商分销模式，通过各级经销商实现产品的快速销售，对外销售主要采用“款到发货”的方式保证货款安全。公司的“姚记”品牌已获得市场充分认可，具有较高的市场地位和知名度，“姚记”商标先后荣获“上海市著名商标”、“上海市名牌产品”等荣誉称号，被国家工商行政管理总局商标局认定为“中国驰名商标”，是中国文教体育用品协会向社会公布的“中国扑克牌行业知名品牌”的六大品牌之一。                                                                                   | 002605.SZ  | 姚记科技   | 游戏Ⅲ      | 游戏Ⅱ      | 传媒       | 上海市 |\n",
       "| 近90天，没有机构发布研究报告，机构关注度低。                                       | 评级  | 消极   | 公司主要从事移动游戏的研发、发行和运营业务，以及各类扑克牌的设计、生产和销售业务，目前，基于传统主业与“大娱乐”战略的联动性，公司逐步实现了以移动游戏业务为重心，不断向互联网领域扩张的竞争格局。公司采用全自动生产线结合自主研发的部分核心设备，使用高端扑克牌专用纸张、专业上光技术和环保油墨，将传统的手工及机械操作式扑克牌生产流程改进为自动化生产方式。公司主要采用传统的经销商分销模式，通过各级经销商实现产品的快速销售，对外销售主要采用“款到发货”的方式保证货款安全。公司的“姚记”品牌已获得市场充分认可，具有较高的市场地位和知名度，“姚记”商标先后荣获“上海市著名商标”、“上海市名牌产品”等荣誉称号，被国家工商行政管理总局商标局认定为“中国驰名商标”，是中国文教体育用品协会向社会公布的“中国扑克牌行业知名品牌”的六大品牌之一。                                                                                   | 002605.SZ  | 姚记科技   | 游戏Ⅲ      | 游戏Ⅱ      | 传媒       | 上海市 |\n",
       "| 近3年营业收入每年增长 257% ，最新季度归母净利润同比增长 136% ，成长能力很强。      | 成长  | 积极   | 公司是一家专业从事体外诊断试剂及配套仪器(POCT\\分子诊断\\化学发光\\血气等)以及移动心电产品的研发、生产和销售的国家高新技术企业。高通量POCT领航者，胸痛中心及远程心电网络建设领先者。湖北省企业技术中心，武汉市企业研究开发中心单位。目前主营业务已覆盖全国30个省、直辖市、自治区，同时在亚州、欧盟、南美等多个区域实现销售覆盖。公司先后通过欧盟CE认证和ISO13485质量管理体系认证，拥有CFDA注册的POCT快速诊断试剂产品30余项，国内首家实现PCT降钙素原、S100-β蛋白全血床旁快速检测。项目覆盖心脑血管疾病、感染疾病、肾病、糖尿病、健康体检和妇产科等多个领域，已成为国内POCT产品线最全面的企业之一。                                                                                                                                                                                                                               | 002932.SZ  | 明德生物   | 体外诊断   | 医疗器械   | 医药生物   | 武汉市 |\n",
       "| 近5年，净资产收益率为 43% ，投入资本回报率为 42% ，盈利能力很强。                  | 盈利  | 积极   | 公司是一家专业从事体外诊断试剂及配套仪器(POCT\\分子诊断\\化学发光\\血气等)以及移动心电产品的研发、生产和销售的国家高新技术企业。高通量POCT领航者，胸痛中心及远程心电网络建设领先者。湖北省企业技术中心，武汉市企业研究开发中心单位。目前主营业务已覆盖全国30个省、直辖市、自治区，同时在亚州、欧盟、南美等多个区域实现销售覆盖。公司先后通过欧盟CE认证和ISO13485质量管理体系认证，拥有CFDA注册的POCT快速诊断试剂产品30余项，国内首家实现PCT降钙素原、S100-β蛋白全血床旁快速检测。项目覆盖心脑血管疾病、感染疾病、肾病、糖尿病、健康体检和妇产科等多个领域，已成为国内POCT产品线最全面的企业之一。                                                                                                                                                                                                                               | 002932.SZ  | 明德生物   | 体外诊断   | 医疗器械   | 医药生物   | 武汉市 |\n",
       "| 最新综合估值仅高于上市以来 0.09% 的时间，处于历史极低位。                          | 估值  | 积极   | 公司是一家专业从事体外诊断试剂及配套仪器(POCT\\分子诊断\\化学发光\\血气等)以及移动心电产品的研发、生产和销售的国家高新技术企业。高通量POCT领航者，胸痛中心及远程心电网络建设领先者。湖北省企业技术中心，武汉市企业研究开发中心单位。目前主营业务已覆盖全国30个省、直辖市、自治区，同时在亚州、欧盟、南美等多个区域实现销售覆盖。公司先后通过欧盟CE认证和ISO13485质量管理体系认证，拥有CFDA注册的POCT快速诊断试剂产品30余项，国内首家实现PCT降钙素原、S100-β蛋白全血床旁快速检测。项目覆盖心脑血管疾病、感染疾病、肾病、糖尿病、健康体检和妇产科等多个领域，已成为国内POCT产品线最全面的企业之一。                                                                                                                                                                                                                               | 002932.SZ  | 明德生物   | 体外诊断   | 医疗器械   | 医药生物   | 武汉市 |\n",
       "| 近5年，股息收益率均值达到 3.4% ，现金分红极高。                                    | 分红  | 积极   | 公司是一家专业从事体外诊断试剂及配套仪器(POCT\\分子诊断\\化学发光\\血气等)以及移动心电产品的研发、生产和销售的国家高新技术企业。高通量POCT领航者，胸痛中心及远程心电网络建设领先者。湖北省企业技术中心，武汉市企业研究开发中心单位。目前主营业务已覆盖全国30个省、直辖市、自治区，同时在亚州、欧盟、南美等多个区域实现销售覆盖。公司先后通过欧盟CE认证和ISO13485质量管理体系认证，拥有CFDA注册的POCT快速诊断试剂产品30余项，国内首家实现PCT降钙素原、S100-β蛋白全血床旁快速检测。项目覆盖心脑血管疾病、感染疾病、肾病、糖尿病、健康体检和妇产科等多个领域，已成为国内POCT产品线最全面的企业之一。                                                                                                                                                                                                                               | 002932.SZ  | 明德生物   | 体外诊断   | 医疗器械   | 医药生物   | 武汉市 |\n",
       "| 近5年，收现比为 79% ，销售收入现金含量较低。                                       | 收现  | 消极   | 公司是一家专业从事体外诊断试剂及配套仪器(POCT\\分子诊断\\化学发光\\血气等)以及移动心电产品的研发、生产和销售的国家高新技术企业。高通量POCT领航者，胸痛中心及远程心电网络建设领先者。湖北省企业技术中心，武汉市企业研究开发中心单位。目前主营业务已覆盖全国30个省、直辖市、自治区，同时在亚州、欧盟、南美等多个区域实现销售覆盖。公司先后通过欧盟CE认证和ISO13485质量管理体系认证，拥有CFDA注册的POCT快速诊断试剂产品30余项，国内首家实现PCT降钙素原、S100-β蛋白全血床旁快速检测。项目覆盖心脑血管疾病、感染疾病、肾病、糖尿病、健康体检和妇产科等多个领域，已成为国内POCT产品线最全面的企业之一。                                                                                                                                                                                                                               | 002932.SZ  | 明德生物   | 体外诊断   | 医疗器械   | 医药生物   | 武汉市 |\n",
       "| 应收账款占流动资产 42.6% ，坏账损失风险很高。                                      | 应收  | 消极   | 公司是一家专业从事体外诊断试剂及配套仪器(POCT\\分子诊断\\化学发光\\血气等)以及移动心电产品的研发、生产和销售的国家高新技术企业。高通量POCT领航者，胸痛中心及远程心电网络建设领先者。湖北省企业技术中心，武汉市企业研究开发中心单位。目前主营业务已覆盖全国30个省、直辖市、自治区，同时在亚州、欧盟、南美等多个区域实现销售覆盖。公司先后通过欧盟CE认证和ISO13485质量管理体系认证，拥有CFDA注册的POCT快速诊断试剂产品30余项，国内首家实现PCT降钙素原、S100-β蛋白全血床旁快速检测。项目覆盖心脑血管疾病、感染疾病、肾病、糖尿病、健康体检和妇产科等多个领域，已成为国内POCT产品线最全面的企业之一。                                                                                                                                                                                                                               | 002932.SZ  | 明德生物   | 体外诊断   | 医疗器械   | 医药生物   | 武汉市 |\n",
       "| 近90天，没有机构发布研究报告，机构关注度低。                                       | 评级  | 消极   | 公司是一家专业从事体外诊断试剂及配套仪器(POCT\\分子诊断\\化学发光\\血气等)以及移动心电产品的研发、生产和销售的国家高新技术企业。高通量POCT领航者，胸痛中心及远程心电网络建设领先者。湖北省企业技术中心，武汉市企业研究开发中心单位。目前主营业务已覆盖全国30个省、直辖市、自治区，同时在亚州、欧盟、南美等多个区域实现销售覆盖。公司先后通过欧盟CE认证和ISO13485质量管理体系认证，拥有CFDA注册的POCT快速诊断试剂产品30余项，国内首家实现PCT降钙素原、S100-β蛋白全血床旁快速检测。项目覆盖心脑血管疾病、感染疾病、肾病、糖尿病、健康体检和妇产科等多个领域，已成为国内POCT产品线最全面的企业之一。                                                                                                                                                                                                                               | 002932.SZ  | 明德生物   | 体外诊断   | 医疗器械   | 医药生物   | 武汉市 |\n",
       "| 最新综合估值仅高于近十年 8.7% 的时间，处于历史低位。                               | 估值  | 积极   | 公司专注于智慧水务、智慧燃气、智慧农业节水、智慧热力节能和基于物联网的智能计量仪表及系统平台的研发、生产、销售和服务，主要为供水公司、燃气公司、热力公司、水利部门等行业主管机构提供能源管理信息化和智能化解决方案。公司的产品涵盖智慧能源及智能表两大类。其中，智慧能源包含智慧水务、智慧节水、智慧农业与水利、智慧热力、智慧燃气；智能表包含智能水表、热量表、智能气表、智能电表以及支持智能表运行的系统、配套设备及软件。公司通过了ISO9001质量管理体系认证、ISO14001环境体系认证，通过了国际CE认证、国家质量安全体系3C认证、研发体系CMMI3认证，公司获得了“高新技术企业”、“省高新技术特色产业基地首批骨干企业”、“省科技创新十佳单位”、“优秀创新型企业”、“河南省著名商标”、“全国电子信息行业标杆企业”、“物联网十强企业”等荣誉。                                                                                             | 300259.SZ  | 新天科技   | 仪器仪表   | 通用设备   | 机械设备   | 郑州市 |\n",
       "| 近5年，股息收益率均值达到 2.1% ，现金分红较高。                                    | 分红  | 积极   | 公司专注于智慧水务、智慧燃气、智慧农业节水、智慧热力节能和基于物联网的智能计量仪表及系统平台的研发、生产、销售和服务，主要为供水公司、燃气公司、热力公司、水利部门等行业主管机构提供能源管理信息化和智能化解决方案。公司的产品涵盖智慧能源及智能表两大类。其中，智慧能源包含智慧水务、智慧节水、智慧农业与水利、智慧热力、智慧燃气；智能表包含智能水表、热量表、智能气表、智能电表以及支持智能表运行的系统、配套设备及软件。公司通过了ISO9001质量管理体系认证、ISO14001环境体系认证，通过了国际CE认证、国家质量安全体系3C认证、研发体系CMMI3认证，公司获得了“高新技术企业”、“省高新技术特色产业基地首批骨干企业”、“省科技创新十佳单位”、“优秀创新型企业”、“河南省著名商标”、“全国电子信息行业标杆企业”、“物联网十强企业”等荣誉。                                                                                             | 300259.SZ  | 新天科技   | 仪器仪表   | 通用设备   | 机械设备   | 郑州市 |\n",
       "| 近2月，公司累计回购 899万股 ，占总股本比例 0.77% ，金额合计 2973万元 。            | 回购  | 积极   | 公司专注于智慧水务、智慧燃气、智慧农业节水、智慧热力节能和基于物联网的智能计量仪表及系统平台的研发、生产、销售和服务，主要为供水公司、燃气公司、热力公司、水利部门等行业主管机构提供能源管理信息化和智能化解决方案。公司的产品涵盖智慧能源及智能表两大类。其中，智慧能源包含智慧水务、智慧节水、智慧农业与水利、智慧热力、智慧燃气；智能表包含智能水表、热量表、智能气表、智能电表以及支持智能表运行的系统、配套设备及软件。公司通过了ISO9001质量管理体系认证、ISO14001环境体系认证，通过了国际CE认证、国家质量安全体系3C认证、研发体系CMMI3认证，公司获得了“高新技术企业”、“省高新技术特色产业基地首批骨干企业”、“省科技创新十佳单位”、“优秀创新型企业”、“河南省著名商标”、“全国电子信息行业标杆企业”、“物联网十强企业”等荣誉。                                                                                             | 300259.SZ  | 新天科技   | 仪器仪表   | 通用设备   | 机械设备   | 郑州市 |\n",
       "| 近90天，没有机构发布研究报告，机构关注度低。                                       | 评级  | 消极   | 公司专注于智慧水务、智慧燃气、智慧农业节水、智慧热力节能和基于物联网的智能计量仪表及系统平台的研发、生产、销售和服务，主要为供水公司、燃气公司、热力公司、水利部门等行业主管机构提供能源管理信息化和智能化解决方案。公司的产品涵盖智慧能源及智能表两大类。其中，智慧能源包含智慧水务、智慧节水、智慧农业与水利、智慧热力、智慧燃气；智能表包含智能水表、热量表、智能气表、智能电表以及支持智能表运行的系统、配套设备及软件。公司通过了ISO9001质量管理体系认证、ISO14001环境体系认证，通过了国际CE认证、国家质量安全体系3C认证、研发体系CMMI3认证，公司获得了“高新技术企业”、“省高新技术特色产业基地首批骨干企业”、“省科技创新十佳单位”、“优秀创新型企业”、“河南省著名商标”、“全国电子信息行业标杆企业”、“物联网十强企业”等荣誉。                                                                                             | 300259.SZ  | 新天科技   | 仪器仪表   | 通用设备   | 机械设备   | 郑州市 |\n",
       "| 不满足纳入沪深港通的条件。                                                         | 北向  | 消极   | 公司专注于智慧水务、智慧燃气、智慧农业节水、智慧热力节能和基于物联网的智能计量仪表及系统平台的研发、生产、销售和服务，主要为供水公司、燃气公司、热力公司、水利部门等行业主管机构提供能源管理信息化和智能化解决方案。公司的产品涵盖智慧能源及智能表两大类。其中，智慧能源包含智慧水务、智慧节水、智慧农业与水利、智慧热力、智慧燃气；智能表包含智能水表、热量表、智能气表、智能电表以及支持智能表运行的系统、配套设备及软件。公司通过了ISO9001质量管理体系认证、ISO14001环境体系认证，通过了国际CE认证、国家质量安全体系3C认证、研发体系CMMI3认证，公司获得了“高新技术企业”、“省高新技术特色产业基地首批骨干企业”、“省科技创新十佳单位”、“优秀创新型企业”、“河南省著名商标”、“全国电子信息行业标杆企业”、“物联网十强企业”等荣誉。                                                                                             | 300259.SZ  | 新天科技   | 仪器仪表   | 通用设备   | 机械设备   | 郑州市 |"
      ],
      "text/plain": [
       "<IPython.core.display.Markdown object>"
      ]
     },
     "metadata": {},
     "output_type": "display_data"
    }
   ],
   "source": [
    "from IPython.display import display, Markdown\n",
    "\n",
    "display(Markdown(pinfo.to_markdown()))"
   ]
  },
  {
   "cell_type": "code",
   "execution_count": null,
   "metadata": {},
   "outputs": [],
   "source": []
  },
  {
   "cell_type": "code",
   "execution_count": null,
   "metadata": {},
   "outputs": [],
   "source": []
  },
  {
   "cell_type": "code",
   "execution_count": 134,
   "metadata": {},
   "outputs": [
    {
     "name": "stdout",
     "output_type": "stream",
     "text": [
      "Collecting tabulate\n",
      "  Downloading tabulate-0.9.0-py3-none-any.whl (35 kB)\n",
      "Installing collected packages: tabulate\n",
      "Successfully installed tabulate-0.9.0\n"
     ]
    }
   ],
   "source": [
    "!pip install tabulate"
   ]
  },
  {
   "cell_type": "code",
   "execution_count": null,
   "metadata": {},
   "outputs": [],
   "source": []
  },
  {
   "cell_type": "code",
   "execution_count": null,
   "metadata": {},
   "outputs": [],
   "source": []
  },
  {
   "cell_type": "code",
   "execution_count": null,
   "metadata": {},
   "outputs": [],
   "source": []
  },
  {
   "cell_type": "code",
   "execution_count": null,
   "metadata": {},
   "outputs": [],
   "source": []
  },
  {
   "cell_type": "code",
   "execution_count": null,
   "metadata": {},
   "outputs": [],
   "source": []
  },
  {
   "cell_type": "code",
   "execution_count": null,
   "metadata": {},
   "outputs": [],
   "source": []
  },
  {
   "cell_type": "code",
   "execution_count": null,
   "metadata": {},
   "outputs": [],
   "source": []
  },
  {
   "cell_type": "code",
   "execution_count": null,
   "metadata": {},
   "outputs": [],
   "source": []
  },
  {
   "cell_type": "code",
   "execution_count": null,
   "metadata": {},
   "outputs": [],
   "source": []
  },
  {
   "cell_type": "code",
   "execution_count": 104,
   "metadata": {},
   "outputs": [
    {
     "data": {
      "text/plain": [
       "169"
      ]
     },
     "execution_count": 104,
     "metadata": {},
     "output_type": "execute_result"
    }
   ],
   "source": [
    "len(last_kline)"
   ]
  },
  {
   "cell_type": "code",
   "execution_count": null,
   "metadata": {},
   "outputs": [],
   "source": []
  },
  {
   "cell_type": "code",
   "execution_count": null,
   "metadata": {},
   "outputs": [],
   "source": []
  },
  {
   "cell_type": "code",
   "execution_count": null,
   "metadata": {},
   "outputs": [],
   "source": []
  },
  {
   "cell_type": "code",
   "execution_count": null,
   "metadata": {},
   "outputs": [],
   "source": []
  },
  {
   "cell_type": "code",
   "execution_count": null,
   "metadata": {},
   "outputs": [],
   "source": []
  },
  {
   "cell_type": "code",
   "execution_count": null,
   "metadata": {},
   "outputs": [],
   "source": []
  },
  {
   "cell_type": "code",
   "execution_count": null,
   "metadata": {},
   "outputs": [],
   "source": []
  },
  {
   "cell_type": "code",
   "execution_count": 80,
   "metadata": {},
   "outputs": [
    {
     "data": {
      "text/html": [
       "<div>\n",
       "<style scoped>\n",
       "    .dataframe tbody tr th:only-of-type {\n",
       "        vertical-align: middle;\n",
       "    }\n",
       "\n",
       "    .dataframe tbody tr th {\n",
       "        vertical-align: top;\n",
       "    }\n",
       "\n",
       "    .dataframe thead th {\n",
       "        text-align: right;\n",
       "    }\n",
       "</style>\n",
       "<table border=\"1\" class=\"dataframe\">\n",
       "  <thead>\n",
       "    <tr style=\"text-align: right;\">\n",
       "      <th></th>\n",
       "      <th>tag</th>\n",
       "      <th>情绪</th>\n",
       "      <th>简介</th>\n",
       "      <th>股票代码</th>\n",
       "      <th>公司名称</th>\n",
       "      <th>三类行业</th>\n",
       "      <th>二类行业</th>\n",
       "      <th>一类行业</th>\n",
       "      <th>区域</th>\n",
       "    </tr>\n",
       "    <tr>\n",
       "      <th>value</th>\n",
       "      <th></th>\n",
       "      <th></th>\n",
       "      <th></th>\n",
       "      <th></th>\n",
       "      <th></th>\n",
       "      <th></th>\n",
       "      <th></th>\n",
       "      <th></th>\n",
       "      <th></th>\n",
       "    </tr>\n",
       "  </thead>\n",
       "  <tbody>\n",
       "    <tr>\n",
       "      <th>公司为 机场 行业龙头企业。</th>\n",
       "      <td>龙头</td>\n",
       "      <td>积极</td>\n",
       "      <td>公司是中国最大的三个国际中转枢纽航空港之一。\\r\\n公司的经营范围是为国内外航空运输企业及旅...</td>\n",
       "      <td>600009.SH</td>\n",
       "      <td>上海机场</td>\n",
       "      <td>机场</td>\n",
       "      <td>航空机场</td>\n",
       "      <td>交通运输</td>\n",
       "      <td>上海市</td>\n",
       "    </tr>\n",
       "    <tr>\n",
       "      <th>北向资金持股 9.1% ，很受外资机构青睐；公募基金持股 5.4% ，较受内资机构青睐。</th>\n",
       "      <td>股东</td>\n",
       "      <td>积极</td>\n",
       "      <td>公司是中国最大的三个国际中转枢纽航空港之一。\\r\\n公司的经营范围是为国内外航空运输企业及旅...</td>\n",
       "      <td>600009.SH</td>\n",
       "      <td>上海机场</td>\n",
       "      <td>机场</td>\n",
       "      <td>航空机场</td>\n",
       "      <td>交通运输</td>\n",
       "      <td>上海市</td>\n",
       "    </tr>\n",
       "    <tr>\n",
       "      <th>近3年，营业收入每年下滑 45% ，收入成长性很弱。</th>\n",
       "      <td>收入</td>\n",
       "      <td>消极</td>\n",
       "      <td>公司是中国最大的三个国际中转枢纽航空港之一。\\r\\n公司的经营范围是为国内外航空运输企业及旅...</td>\n",
       "      <td>600009.SH</td>\n",
       "      <td>上海机场</td>\n",
       "      <td>机场</td>\n",
       "      <td>航空机场</td>\n",
       "      <td>交通运输</td>\n",
       "      <td>上海市</td>\n",
       "    </tr>\n",
       "    <tr>\n",
       "      <th>毛利率为 -55% ，行业处于衰退期，或企业缺乏竞争力。</th>\n",
       "      <td>毛利</td>\n",
       "      <td>消极</td>\n",
       "      <td>公司是中国最大的三个国际中转枢纽航空港之一。\\r\\n公司的经营范围是为国内外航空运输企业及旅...</td>\n",
       "      <td>600009.SH</td>\n",
       "      <td>上海机场</td>\n",
       "      <td>机场</td>\n",
       "      <td>航空机场</td>\n",
       "      <td>交通运输</td>\n",
       "      <td>上海市</td>\n",
       "    </tr>\n",
       "    <tr>\n",
       "      <th>应收账款变现需要 135天 ，变现速度较慢，坏账损失风险较高。</th>\n",
       "      <td>应收</td>\n",
       "      <td>消极</td>\n",
       "      <td>公司是中国最大的三个国际中转枢纽航空港之一。\\r\\n公司的经营范围是为国内外航空运输企业及旅...</td>\n",
       "      <td>600009.SH</td>\n",
       "      <td>上海机场</td>\n",
       "      <td>机场</td>\n",
       "      <td>航空机场</td>\n",
       "      <td>交通运输</td>\n",
       "      <td>上海市</td>\n",
       "    </tr>\n",
       "    <tr>\n",
       "      <th>固定资产占总资产 36% ，为重资产模式，维持竞争优势成本较高。</th>\n",
       "      <td>资产</td>\n",
       "      <td>消极</td>\n",
       "      <td>公司是中国最大的三个国际中转枢纽航空港之一。\\r\\n公司的经营范围是为国内外航空运输企业及旅...</td>\n",
       "      <td>600009.SH</td>\n",
       "      <td>上海机场</td>\n",
       "      <td>机场</td>\n",
       "      <td>航空机场</td>\n",
       "      <td>交通运输</td>\n",
       "      <td>上海市</td>\n",
       "    </tr>\n",
       "  </tbody>\n",
       "</table>\n",
       "</div>"
      ],
      "text/plain": [
       "                                             tag  情绪  \\\n",
       "value                                                  \n",
       "公司为 机场 行业龙头企业。                                龙头  积极   \n",
       "北向资金持股 9.1% ，很受外资机构青睐；公募基金持股 5.4% ，较受内资机构青睐。  股东  积极   \n",
       "近3年，营业收入每年下滑 45% ，收入成长性很弱。                    收入  消极   \n",
       "毛利率为 -55% ，行业处于衰退期，或企业缺乏竞争力。                  毛利  消极   \n",
       "应收账款变现需要 135天 ，变现速度较慢，坏账损失风险较高。               应收  消极   \n",
       "固定资产占总资产 36% ，为重资产模式，维持竞争优势成本较高。              资产  消极   \n",
       "\n",
       "                                                                                             简介  \\\n",
       "value                                                                                             \n",
       "公司为 机场 行业龙头企业。                                公司是中国最大的三个国际中转枢纽航空港之一。\\r\\n公司的经营范围是为国内外航空运输企业及旅...   \n",
       "北向资金持股 9.1% ，很受外资机构青睐；公募基金持股 5.4% ，较受内资机构青睐。  公司是中国最大的三个国际中转枢纽航空港之一。\\r\\n公司的经营范围是为国内外航空运输企业及旅...   \n",
       "近3年，营业收入每年下滑 45% ，收入成长性很弱。                    公司是中国最大的三个国际中转枢纽航空港之一。\\r\\n公司的经营范围是为国内外航空运输企业及旅...   \n",
       "毛利率为 -55% ，行业处于衰退期，或企业缺乏竞争力。                  公司是中国最大的三个国际中转枢纽航空港之一。\\r\\n公司的经营范围是为国内外航空运输企业及旅...   \n",
       "应收账款变现需要 135天 ，变现速度较慢，坏账损失风险较高。               公司是中国最大的三个国际中转枢纽航空港之一。\\r\\n公司的经营范围是为国内外航空运输企业及旅...   \n",
       "固定资产占总资产 36% ，为重资产模式，维持竞争优势成本较高。              公司是中国最大的三个国际中转枢纽航空港之一。\\r\\n公司的经营范围是为国内外航空运输企业及旅...   \n",
       "\n",
       "                                                   股票代码  公司名称 三类行业  二类行业  \\\n",
       "value                                                                      \n",
       "公司为 机场 行业龙头企业。                                600009.SH  上海机场   机场  航空机场   \n",
       "北向资金持股 9.1% ，很受外资机构青睐；公募基金持股 5.4% ，较受内资机构青睐。  600009.SH  上海机场   机场  航空机场   \n",
       "近3年，营业收入每年下滑 45% ，收入成长性很弱。                    600009.SH  上海机场   机场  航空机场   \n",
       "毛利率为 -55% ，行业处于衰退期，或企业缺乏竞争力。                  600009.SH  上海机场   机场  航空机场   \n",
       "应收账款变现需要 135天 ，变现速度较慢，坏账损失风险较高。               600009.SH  上海机场   机场  航空机场   \n",
       "固定资产占总资产 36% ，为重资产模式，维持竞争优势成本较高。              600009.SH  上海机场   机场  航空机场   \n",
       "\n",
       "                                              一类行业   区域  \n",
       "value                                                    \n",
       "公司为 机场 行业龙头企业。                                交通运输  上海市  \n",
       "北向资金持股 9.1% ，很受外资机构青睐；公募基金持股 5.4% ，较受内资机构青睐。  交通运输  上海市  \n",
       "近3年，营业收入每年下滑 45% ，收入成长性很弱。                    交通运输  上海市  \n",
       "毛利率为 -55% ，行业处于衰退期，或企业缺乏竞争力。                  交通运输  上海市  \n",
       "应收账款变现需要 135天 ，变现速度较慢，坏账损失风险较高。               交通运输  上海市  \n",
       "固定资产占总资产 36% ，为重资产模式，维持竞争优势成本较高。              交通运输  上海市  "
      ]
     },
     "execution_count": 80,
     "metadata": {},
     "output_type": "execute_result"
    }
   ],
   "source": [
    "info_df.query(\"股票代码 == '600009.SH'\")"
   ]
  },
  {
   "cell_type": "code",
   "execution_count": 50,
   "metadata": {},
   "outputs": [
    {
     "ename": "StatisticsError",
     "evalue": "geometric mean requires a non-empty dataset containing positive numbers",
     "output_type": "error",
     "traceback": [
      "\u001b[0;31m---------------------------------------------------------------------------\u001b[0m",
      "\u001b[0;31mStatisticsError\u001b[0m                           Traceback (most recent call last)",
      "Cell \u001b[0;32mIn[50], line 1\u001b[0m\n\u001b[0;32m----> 1\u001b[0m \u001b[43mstatistics\u001b[49m\u001b[38;5;241;43m.\u001b[39;49m\u001b[43mgeometric_mean\u001b[49m\u001b[43m(\u001b[49m\u001b[43m[\u001b[49m\u001b[38;5;241;43m1.1\u001b[39;49m\u001b[43m,\u001b[49m\u001b[43m \u001b[49m\u001b[38;5;241;43m1.2\u001b[39;49m\u001b[43m,\u001b[49m\u001b[43m \u001b[49m\u001b[38;5;241;43m1.3\u001b[39;49m\u001b[43m,\u001b[49m\u001b[43m \u001b[49m\u001b[38;5;241;43m1.4\u001b[39;49m\u001b[43m,\u001b[49m\u001b[43m \u001b[49m\u001b[38;5;241;43m1.5\u001b[39;49m\u001b[43m,\u001b[49m\u001b[43m \u001b[49m\u001b[38;5;241;43m0\u001b[39;49m\u001b[43m,\u001b[49m\u001b[43m \u001b[49m\u001b[38;5;241;43m1.7\u001b[39;49m\u001b[43m,\u001b[49m\u001b[43m \u001b[49m\u001b[38;5;241;43m1.8\u001b[39;49m\u001b[43m,\u001b[49m\u001b[43m \u001b[49m\u001b[38;5;241;43m1.9\u001b[39;49m\u001b[43m,\u001b[49m\u001b[43m \u001b[49m\u001b[38;5;241;43m2.0\u001b[39;49m\u001b[43m]\u001b[49m\u001b[43m)\u001b[49m\n",
      "File \u001b[0;32m/opt/homebrew/Cellar/python@3.11/3.11.2_1/Frameworks/Python.framework/Versions/3.11/lib/python3.11/statistics.py:489\u001b[0m, in \u001b[0;36mgeometric_mean\u001b[0;34m(data)\u001b[0m\n\u001b[1;32m    487\u001b[0m     \u001b[39mreturn\u001b[39;00m exp(fmean(\u001b[39mmap\u001b[39m(log, data)))\n\u001b[1;32m    488\u001b[0m \u001b[39mexcept\u001b[39;00m \u001b[39mValueError\u001b[39;00m:\n\u001b[0;32m--> 489\u001b[0m     \u001b[39mraise\u001b[39;00m StatisticsError(\u001b[39m'\u001b[39m\u001b[39mgeometric mean requires a non-empty dataset \u001b[39m\u001b[39m'\u001b[39m\n\u001b[1;32m    490\u001b[0m                           \u001b[39m'\u001b[39m\u001b[39mcontaining positive numbers\u001b[39m\u001b[39m'\u001b[39m) \u001b[39mfrom\u001b[39;00m \u001b[39mNone\u001b[39m\n",
      "\u001b[0;31mStatisticsError\u001b[0m: geometric mean requires a non-empty dataset containing positive numbers"
     ]
    }
   ],
   "source": [
    "statistics.geometric_mean([1.1, 1.2, 1.3, 1.4, 1.5, 0, 1.7, 1.8, 1.9, 2.0])"
   ]
  },
  {
   "cell_type": "code",
   "execution_count": null,
   "metadata": {},
   "outputs": [],
   "source": []
  },
  {
   "cell_type": "code",
   "execution_count": null,
   "metadata": {},
   "outputs": [],
   "source": []
  },
  {
   "cell_type": "code",
   "execution_count": null,
   "metadata": {},
   "outputs": [],
   "source": []
  },
  {
   "cell_type": "code",
   "execution_count": null,
   "metadata": {},
   "outputs": [],
   "source": []
  },
  {
   "cell_type": "code",
   "execution_count": null,
   "metadata": {},
   "outputs": [],
   "source": [
    "import polars as pl\n",
    "# pl read csv：\n",
    "df_csv = pl.read_csv(f\"{FINIAL_PATH}/600868.SH.csv\")\n",
    "\n",
    "# filter data: 报告期 is month 12-31\n",
    "df_csv = df_csv.filter(pl.col(\"报告期\").str.contains(r\"12-31$\"))\n"
   ]
  },
  {
   "cell_type": "code",
   "execution_count": null,
   "metadata": {},
   "outputs": [],
   "source": [
    "print(df_csv)"
   ]
  },
  {
   "cell_type": "code",
   "execution_count": null,
   "metadata": {},
   "outputs": [],
   "source": [
    "info_pl = pl.read_csv(f\"{FIXTURE_PATH}/stock_info.csv\")"
   ]
  },
  {
   "cell_type": "code",
   "execution_count": null,
   "metadata": {},
   "outputs": [],
   "source": [
    "info_pl.head()"
   ]
  },
  {
   "cell_type": "code",
   "execution_count": null,
   "metadata": {},
   "outputs": [],
   "source": [
    "market_pl = pl.read_csv(f\"{KLINE_PATH}/SH603105.csv\")"
   ]
  },
  {
   "cell_type": "code",
   "execution_count": null,
   "metadata": {},
   "outputs": [],
   "source": [
    "market_pl.head()"
   ]
  },
  {
   "cell_type": "code",
   "execution_count": null,
   "metadata": {},
   "outputs": [],
   "source": [
    "# finial_pl = pl.read_csv(f\"{FINIAL_PATH}/../finial_data/600868.SH_asset.csv\", parse_dates=True, na_values='--' )"
   ]
  },
  {
   "cell_type": "code",
   "execution_count": null,
   "metadata": {},
   "outputs": [],
   "source": [
    "finial_pl.head()"
   ]
  },
  {
   "cell_type": "code",
   "execution_count": null,
   "metadata": {},
   "outputs": [],
   "source": []
  },
  {
   "cell_type": "code",
   "execution_count": null,
   "metadata": {},
   "outputs": [],
   "source": []
  },
  {
   "cell_type": "code",
   "execution_count": null,
   "metadata": {},
   "outputs": [],
   "source": []
  },
  {
   "cell_type": "code",
   "execution_count": null,
   "metadata": {},
   "outputs": [],
   "source": []
  },
  {
   "cell_type": "code",
   "execution_count": null,
   "metadata": {},
   "outputs": [],
   "source": []
  },
  {
   "cell_type": "code",
   "execution_count": null,
   "metadata": {},
   "outputs": [],
   "source": [
    "pd.date_range('2000-12-31', '2020-12-31', freq='BY')"
   ]
  },
  {
   "cell_type": "code",
   "execution_count": null,
   "metadata": {},
   "outputs": [],
   "source": []
  },
  {
   "cell_type": "code",
   "execution_count": null,
   "metadata": {},
   "outputs": [],
   "source": []
  },
  {
   "cell_type": "code",
   "execution_count": null,
   "metadata": {},
   "outputs": [],
   "source": []
  },
  {
   "cell_type": "code",
   "execution_count": null,
   "metadata": {},
   "outputs": [],
   "source": [
    "import plotly.graph_objects as go\n",
    "fig = go.Figure([go.Scatter(x=df00['Date'], y=df00['AAPL.High'])])\n",
    "fig.show()"
   ]
  },
  {
   "cell_type": "code",
   "execution_count": null,
   "metadata": {},
   "outputs": [],
   "source": []
  },
  {
   "cell_type": "code",
   "execution_count": null,
   "metadata": {},
   "outputs": [],
   "source": []
  },
  {
   "cell_type": "code",
   "execution_count": null,
   "metadata": {},
   "outputs": [],
   "source": []
  },
  {
   "cell_type": "code",
   "execution_count": null,
   "metadata": {},
   "outputs": [],
   "source": []
  },
  {
   "cell_type": "code",
   "execution_count": null,
   "metadata": {},
   "outputs": [],
   "source": []
  },
  {
   "cell_type": "code",
   "execution_count": null,
   "metadata": {},
   "outputs": [],
   "source": []
  },
  {
   "cell_type": "code",
   "execution_count": null,
   "metadata": {},
   "outputs": [],
   "source": []
  },
  {
   "cell_type": "code",
   "execution_count": null,
   "metadata": {},
   "outputs": [],
   "source": []
  }
 ],
 "metadata": {
  "kernelspec": {
   "display_name": "Python 3 (ipykernel)",
   "language": "python",
   "name": "python3"
  },
  "orig_nbformat": 4,
  "vscode": {
   "interpreter": {
    "hash": "db5a31d2bd66d5a7dcebe94614d3ce227670c2e1caec92083c32a72be4626f1b"
   }
  }
 },
 "nbformat": 4,
 "nbformat_minor": 2
}
